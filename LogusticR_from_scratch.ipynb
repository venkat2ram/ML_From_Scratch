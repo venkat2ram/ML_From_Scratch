{
  "nbformat": 4,
  "nbformat_minor": 0,
  "metadata": {
    "colab": {
      "name": "LogusticR_from_scratch.ipynb",
      "provenance": [],
      "collapsed_sections": [],
      "include_colab_link": true
    },
    "kernelspec": {
      "name": "python3",
      "display_name": "Python 3"
    }
  },
  "cells": [
    {
      "cell_type": "markdown",
      "metadata": {
        "id": "view-in-github",
        "colab_type": "text"
      },
      "source": [
        "<a href=\"https://colab.research.google.com/github/venkat2ram/ML_From_Scratch/blob/master/LogusticR_from_scratch.ipynb\" target=\"_parent\"><img src=\"https://colab.research.google.com/assets/colab-badge.svg\" alt=\"Open In Colab\"/></a>"
      ]
    },
    {
      "cell_type": "code",
      "metadata": {
        "id": "nriFZvx0vMqv",
        "colab_type": "code",
        "colab": {}
      },
      "source": [
        "data=[[1.0,20.0,12.0],[1.0,21.0,9.0],[1.0,22.0,20.0]]\n",
        "y=[[290.0],[270.0],[280.0]]"
      ],
      "execution_count": 0,
      "outputs": []
    },
    {
      "cell_type": "code",
      "metadata": {
        "id": "NkkFyiGuvLbQ",
        "colab_type": "code",
        "colab": {}
      },
      "source": [
        "import numpy as np\n",
        "import matplotlib.pyplot as plt"
      ],
      "execution_count": 0,
      "outputs": []
    },
    {
      "cell_type": "code",
      "metadata": {
        "id": "sq-2Llc1vMQo",
        "colab_type": "code",
        "colab": {}
      },
      "source": [
        "X=np.array(data)\n",
        "y=np.array(y)"
      ],
      "execution_count": 0,
      "outputs": []
    },
    {
      "cell_type": "code",
      "metadata": {
        "id": "1kxTp1vlvQGI",
        "colab_type": "code",
        "colab": {}
      },
      "source": [
        "plot_cost=np.array([[0.0,0.0],[0.0,0.0],[0.0,0.0],[0.0,0.0],[0.0,0.0],[0.0,0.0],[0.0,0.0],[0.0,0.0],[0.0,0.0],[0.0,0.0]])\n",
        "j=0\n",
        "alpha=0.001\n",
        "Theta=[[0.0],[0.0],[0.0]]\n",
        "Theta=np.array(Theta)\n",
        "for i in range(10000000):\n",
        "  z=np.matmul(X,Theta)\n",
        "  cost=sum((y-pred)**2)\n",
        "  Theta=Theta-alpha*sum((-2/len(X))*(y-pred)*X).reshape(-1,1)\n",
        "  #Theta[0]=Theta[0]-alpha*sum((-2/len(X))*(y-pred))\n",
        "  #Theta[1]=Theta[1]-alpha*sum((-2/len(X))*(y-pred)*X[:,1].reshape(-1,1))\n",
        "  #Theta[2]=Theta[2]-alpha*sum((-2/len(X))*(y-pred)*X[:,2].reshape(-1,1))\n",
        "  if(i%1000000==0):\n",
        "    print(cost,Theta)\n",
        "    plot_cost[j,0]=j\n",
        "    plot_cost[j,1]=cost\n",
        "    j=j+1"
      ],
      "execution_count": 0,
      "outputs": []
    }
  ]
}