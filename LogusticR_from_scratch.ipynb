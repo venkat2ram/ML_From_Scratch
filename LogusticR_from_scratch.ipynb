{
  "nbformat": 4,
  "nbformat_minor": 0,
  "metadata": {
    "colab": {
      "name": "LogusticR_from_scratch.ipynb",
      "provenance": [],
      "collapsed_sections": [],
      "include_colab_link": true
    },
    "kernelspec": {
      "name": "python3",
      "display_name": "Python 3"
    }
  },
  "cells": [
    {
      "cell_type": "markdown",
      "metadata": {
        "id": "view-in-github",
        "colab_type": "text"
      },
      "source": [
        "<a href=\"https://colab.research.google.com/github/venkat2ram/ML_From_Scratch/blob/master/LogusticR_from_scratch.ipynb\" target=\"_parent\"><img src=\"https://colab.research.google.com/assets/colab-badge.svg\" alt=\"Open In Colab\"/></a>"
      ]
    },
    {
      "cell_type": "code",
      "metadata": {
        "id": "nriFZvx0vMqv",
        "colab_type": "code",
        "colab": {}
      },
      "source": [
        "data=[[1.0,20.0,12.0],[1.0,21.0,9.0],[1.0,22.0,20.0]]\n",
        "y=[[1.0],[0.0],[1.0]]"
      ],
      "execution_count": 0,
      "outputs": []
    },
    {
      "cell_type": "code",
      "metadata": {
        "id": "NkkFyiGuvLbQ",
        "colab_type": "code",
        "colab": {}
      },
      "source": [
        "import numpy as np\n",
        "import matplotlib.pyplot as plt"
      ],
      "execution_count": 0,
      "outputs": []
    },
    {
      "cell_type": "code",
      "metadata": {
        "id": "sq-2Llc1vMQo",
        "colab_type": "code",
        "colab": {}
      },
      "source": [
        "X=np.array(data)\n",
        "y=np.array(y)"
      ],
      "execution_count": 0,
      "outputs": []
    },
    {
      "cell_type": "code",
      "metadata": {
        "id": "1kxTp1vlvQGI",
        "colab_type": "code",
        "colab": {
          "base_uri": "https://localhost:8080/",
          "height": 527
        },
        "outputId": "edee7a7c-3023-4584-fb82-917e94455180"
      },
      "source": [
        "plot_cost=np.array([[0.0,0.0],[0.0,0.0],[0.0,0.0],[0.0,0.0],[0.0,0.0],[0.0,0.0],[0.0,0.0],[0.0,0.0],[0.0,0.0],[0.0,0.0]])\n",
        "j=0\n",
        "alpha=0.001\n",
        "Theta=[[0.0],[0.0],[0.0]]\n",
        "Theta=np.array(Theta)\n",
        "for i in range(10000):\n",
        "  z=np.matmul(X,Theta)\n",
        "  pred=1/(1+(np.exp(-z)))\n",
        "  cost=sum((y-pred)**2)\n",
        "  Theta=Theta-alpha*sum((-2/len(X))*(y-pred)*X).reshape(-1,1)\n",
        "  #Theta[0]=Theta[0]-alpha*sum((-2/len(X))*(y-pred))\n",
        "  #Theta[1]=Theta[1]-alpha*sum((-2/len(X))*(y-pred)*X[:,1].reshape(-1,1))\n",
        "  #Theta[2]=Theta[2]-alpha*sum((-2/len(X))*(y-pred)*X[:,2].reshape(-1,1))\n",
        "  if(i%1000==0):\n",
        "    print(cost,Theta)\n",
        "    plot_cost[j,0]=j\n",
        "    plot_cost[j,1]=cost\n",
        "    j=j+1"
      ],
      "execution_count": 13,
      "outputs": [
        {
          "output_type": "stream",
          "text": [
            "[0.75] [[0.00033333]\n",
            " [0.007     ]\n",
            " [0.00766667]]\n",
            "[0.0894786] [[-0.01054251]\n",
            " [-0.3828436 ]\n",
            " [ 0.75022254]]\n",
            "[0.03597341] [[-0.01293543]\n",
            " [-0.54308098]\n",
            " [ 1.06271994]]\n",
            "[0.01868144] [[-0.01450892]\n",
            " [-0.65092643]\n",
            " [ 1.27333983]]\n",
            "[0.0112583] [[-0.01568296]\n",
            " [-0.73162229]\n",
            " [ 1.43096815]]\n",
            "[0.00746696] [[-0.01661632]\n",
            " [-0.79581769]\n",
            " [ 1.55637312]]\n",
            "[0.00529153] [[-0.01738924]\n",
            " [-0.84899022]\n",
            " [ 1.66024832]]\n",
            "[0.00393544] [[-0.01804789]\n",
            " [-0.89430675]\n",
            " [ 1.74877817]]\n",
            "[0.0030362] [[-0.01862121]\n",
            " [-0.93375418]\n",
            " [ 1.82584322]]\n",
            "[0.00241072] [[-0.01912846]\n",
            " [-0.96865703]\n",
            " [ 1.89403059]]\n"
          ],
          "name": "stdout"
        }
      ]
    },
    {
      "cell_type": "code",
      "metadata": {
        "id": "JAjH0RadxIwD",
        "colab_type": "code",
        "colab": {
          "base_uri": "https://localhost:8080/",
          "height": 68
        },
        "outputId": "ddfd022e-7abc-4945-a53e-cb36ed0463d2"
      },
      "source": [
        "z=np.matmul(X,Theta)\n",
        "1/(1+(np.exp(-z)))"
      ],
      "execution_count": 15,
      "outputs": [
        {
          "output_type": "execute_result",
          "data": {
            "text/plain": [
              "array([[0.96902996],\n",
              "       [0.03161785],\n",
              "       [0.99999996]])"
            ]
          },
          "metadata": {
            "tags": []
          },
          "execution_count": 15
        }
      ]
    },
    {
      "cell_type": "code",
      "metadata": {
        "id": "vFBnV5hXyZKE",
        "colab_type": "code",
        "colab": {
          "base_uri": "https://localhost:8080/",
          "height": 282
        },
        "outputId": "82bcb9a7-eac5-428f-b947-8f9709376676"
      },
      "source": [
        "plot_cost[0]=[0,0]\n",
        "plt.plot(plot_cost[:,0],plot_cost[:,1])"
      ],
      "execution_count": 16,
      "outputs": [
        {
          "output_type": "execute_result",
          "data": {
            "text/plain": [
              "[<matplotlib.lines.Line2D at 0x7f810dda1978>]"
            ]
          },
          "metadata": {
            "tags": []
          },
          "execution_count": 16
        },
        {
          "output_type": "display_data",
          "data": {
            "image/png": "[encoded data removed]",
            "text/plain": [
              "<Figure size 432x288 with 1 Axes>"
            ]
          },
          "metadata": {
            "tags": []
          }
        }
      ]
    }
  ]
}