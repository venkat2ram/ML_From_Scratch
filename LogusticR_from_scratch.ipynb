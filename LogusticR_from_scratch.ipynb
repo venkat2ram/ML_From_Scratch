{
  "nbformat": 4,
  "nbformat_minor": 0,
  "metadata": {
    "colab": {
      "name": "LogusticR_from_scratch.ipynb",
      "provenance": [],
      "collapsed_sections": [],
      "include_colab_link": true
    },
    "kernelspec": {
      "name": "python3",
      "display_name": "Python 3"
    }
  },
  "cells": [
    {
      "cell_type": "markdown",
      "metadata": {
        "id": "view-in-github",
        "colab_type": "text"
      },
      "source": [
        "<a href=\"https://colab.research.google.com/github/venkat2ram/ML_From_Scratch/blob/master/LogusticR_from_scratch.ipynb\" target=\"_parent\"><img src=\"https://colab.research.google.com/assets/colab-badge.svg\" alt=\"Open In Colab\"/></a>"
      ]
    },
    {
      "cell_type": "code",
      "metadata": {
        "id": "nriFZvx0vMqv",
        "colab_type": "code",
        "colab": {}
      },
      "source": [
        "data=[[1.0,20.0,12.0],[1.0,21.0,9.0],[1.0,22.0,20.0]]\n",
        "y=[[1.0],[0.0],[1.0]]"
      ],
      "execution_count": 0,
      "outputs": []
    },
    {
      "cell_type": "code",
      "metadata": {
        "id": "NkkFyiGuvLbQ",
        "colab_type": "code",
        "colab": {}
      },
      "source": [
        "import numpy as np\n",
        "import matplotlib.pyplot as plt"
      ],
      "execution_count": 0,
      "outputs": []
    },
    {
      "cell_type": "code",
      "metadata": {
        "id": "sq-2Llc1vMQo",
        "colab_type": "code",
        "colab": {}
      },
      "source": [
        "X=np.array(data)\n",
        "y=np.array(y)"
      ],
      "execution_count": 0,
      "outputs": []
    },
    {
      "cell_type": "code",
      "metadata": {
        "id": "1kxTp1vlvQGI",
        "colab_type": "code",
        "outputId": "8fa057e8-bf12-4a2e-90c7-8bf09ae1f5e5",
        "colab": {
          "base_uri": "https://localhost:8080/",
          "height": 615
        }
      },
      "source": [
        "plot_cost=np.array([[0.0,0.0],[0.0,0.0],[0.0,0.0],[0.0,0.0],[0.0,0.0],[0.0,0.0],[0.0,0.0],[0.0,0.0],[0.0,0.0],[0.0,0.0]])\n",
        "j=0\n",
        "alpha=0.001\n",
        "#Theta=[[0.0],[0.0],[0.0]]\n",
        "#Theta=np.array(Theta)\n",
        "Theta=np.zeros(len(X)).reshape(-1,1)\n",
        "for i in range(1000000):\n",
        "  z=np.matmul(X,Theta)\n",
        "  pred=1/(1+(np.exp(-z)))\n",
        "  #cost=sum((y-pred)**2)\n",
        "  cost=sum((-1/len(X))*(y*np.log(pred)+(1-y)*np.log(1-pred)))\n",
        "  #Theta=Theta-alpha*sum((-2/len(X))*(y-pred)*X).reshape(-1,1)\n",
        "  Theta=Theta-alpha*sum((-2/len(X))*(y-pred)*X).reshape(-1,1)\n",
        "  #Theta[0]=Theta[0]-alpha*sum((-2/len(X))*(y-pred))\n",
        "  #Theta[1]=Theta[1]-alpha*sum((-2/len(X))*(y-pred)*X[:,1].reshape(-1,1))\n",
        "  #Theta[2]=Theta[2]-alpha*sum((-2/len(X))*(y-pred)*X[:,2].reshape(-1,1))\n",
        "  if(i%100000==0):\n",
        "    print(cost,Theta)\n",
        "    plot_cost[j,0]=j\n",
        "    plot_cost[j,1]=cost\n",
        "    j=j+1"
      ],
      "execution_count": 15,
      "outputs": [
        {
          "output_type": "stream",
          "text": [
            "[0.69314718] [[0.00033333]\n",
            " [0.007     ]\n",
            " [0.00766667]]\n",
            "[0.00206855] [[-0.02950048]\n",
            " [-1.68240852]\n",
            " [ 3.28850056]]\n",
            "[0.00102986] [[-0.03245783]\n",
            " [-1.88592616]\n",
            " [ 3.68612462]]\n",
            "[0.0006854] [[-0.03418362]\n",
            " [-2.00469135]\n",
            " [ 3.91816337]]\n",
            "[0.00051356] [[-0.03540671]\n",
            " [-2.08886208]\n",
            " [ 4.08261294]]\n"
          ],
          "name": "stdout"
        },
        {
          "output_type": "stream",
          "text": [
            "/usr/local/lib/python3.6/dist-packages/ipykernel_launcher.py:11: RuntimeWarning: divide by zero encountered in log\n",
            "  # This is added back by InteractiveShellApp.init_path()\n",
            "/usr/local/lib/python3.6/dist-packages/ipykernel_launcher.py:11: RuntimeWarning: invalid value encountered in multiply\n",
            "  # This is added back by InteractiveShellApp.init_path()\n"
          ],
          "name": "stderr"
        },
        {
          "output_type": "stream",
          "text": [
            "[nan] [[-0.03635478]\n",
            " [-2.15410626]\n",
            " [ 4.21008457]]\n",
            "[nan] [[-0.03712905]\n",
            " [-2.20739061]\n",
            " [ 4.31418955]]\n",
            "[nan] [[-0.03778348]\n",
            " [-2.25242717]\n",
            " [ 4.40218033]]\n",
            "[nan] [[-0.03835024]\n",
            " [-2.29142992]\n",
            " [ 4.47838247]]\n",
            "[nan] [[-0.03885005]\n",
            " [-2.32582603]\n",
            " [ 4.54558435]]\n"
          ],
          "name": "stdout"
        }
      ]
    },
    {
      "cell_type": "code",
      "metadata": {
        "id": "JAjH0RadxIwD",
        "colab_type": "code",
        "outputId": "a87d74ee-37ba-44df-fb31-c37f2e888647",
        "colab": {
          "base_uri": "https://localhost:8080/",
          "height": 68
        }
      },
      "source": [
        "z=np.matmul(X,Theta)\n",
        "1/(1+(np.exp(-z)))"
      ],
      "execution_count": 16,
      "outputs": [
        {
          "output_type": "execute_result",
          "data": {
            "text/plain": [
              "array([[9.99695696e-01],\n",
              "       [3.10667863e-04],\n",
              "       [1.00000000e+00]])"
            ]
          },
          "metadata": {
            "tags": []
          },
          "execution_count": 16
        }
      ]
    },
    {
      "cell_type": "code",
      "metadata": {
        "id": "vFBnV5hXyZKE",
        "colab_type": "code",
        "outputId": "977853e3-0171-4b89-c1fc-45f6213f7eda",
        "colab": {
          "base_uri": "https://localhost:8080/",
          "height": 282
        }
      },
      "source": [
        "plot_cost[0]=[0,0]\n",
        "plt.plot(plot_cost[:,0],plot_cost[:,1])"
      ],
      "execution_count": 17,
      "outputs": [
        {
          "output_type": "execute_result",
          "data": {
            "text/plain": [
              "[<matplotlib.lines.Line2D at 0x7f13255a8080>]"
            ]
          },
          "metadata": {
            "tags": []
          },
          "execution_count": 17
        },
        {
          "output_type": "display_data",
          "data": {
            "image/png": "[encoded data removed]",
            "text/plain": [
              "<Figure size 432x288 with 1 Axes>"
            ]
          },
          "metadata": {
            "tags": []
          }
        }
      ]
    },
    {
      "cell_type": "code",
      "metadata": {
        "id": "vexLgNraNE-w",
        "colab_type": "code",
        "colab": {}
      },
      "source": [
        "a=np.array([[1],[2]])"
      ],
      "execution_count": 0,
      "outputs": []
    },
    {
      "cell_type": "code",
      "metadata": {
        "id": "LFlJx4YNNL-0",
        "colab_type": "code",
        "colab": {
          "base_uri": "https://localhost:8080/",
          "height": 51
        },
        "outputId": "8e0916cc-3517-41c2-a6e7-e6c4476a5aa7"
      },
      "source": [
        "np.zeros(len(a)).reshape(-1,1)"
      ],
      "execution_count": 19,
      "outputs": [
        {
          "output_type": "execute_result",
          "data": {
            "text/plain": [
              "array([[0.],\n",
              "       [0.]])"
            ]
          },
          "metadata": {
            "tags": []
          },
          "execution_count": 19
        }
      ]
    }
  ]
}