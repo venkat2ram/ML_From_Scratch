{
  "nbformat": 4,
  "nbformat_minor": 0,
  "metadata": {
    "colab": {
      "name": "LogusticR_from_scratch.ipynb",
      "provenance": [],
      "collapsed_sections": [],
      "include_colab_link": true
    },
    "kernelspec": {
      "name": "python3",
      "display_name": "Python 3"
    }
  },
  "cells": [
    {
      "cell_type": "markdown",
      "metadata": {
        "id": "view-in-github",
        "colab_type": "text"
      },
      "source": [
        "<a href=\"https://colab.research.google.com/github/venkat2ram/ML_From_Scratch/blob/master/LogusticR_from_scratch.ipynb\" target=\"_parent\"><img src=\"https://colab.research.google.com/assets/colab-badge.svg\" alt=\"Open In Colab\"/></a>"
      ]
    },
    {
      "cell_type": "code",
      "metadata": {
        "id": "nriFZvx0vMqv",
        "colab_type": "code",
        "colab": {}
      },
      "source": [
        "data=[[1.0,20.0,12.0],[1.0,21.0,9.0],[1.0,22.0,20.0]]\n",
        "y=[[1.0],[0.0],[1.0]]"
      ],
      "execution_count": 0,
      "outputs": []
    },
    {
      "cell_type": "code",
      "metadata": {
        "id": "NkkFyiGuvLbQ",
        "colab_type": "code",
        "colab": {}
      },
      "source": [
        "import numpy as np\n",
        "import matplotlib.pyplot as plt"
      ],
      "execution_count": 0,
      "outputs": []
    },
    {
      "cell_type": "code",
      "metadata": {
        "id": "sq-2Llc1vMQo",
        "colab_type": "code",
        "colab": {}
      },
      "source": [
        "X=np.array(data)\n",
        "y=np.array(y)"
      ],
      "execution_count": 0,
      "outputs": []
    },
    {
      "cell_type": "code",
      "metadata": {
        "id": "1kxTp1vlvQGI",
        "colab_type": "code",
        "colab": {
          "base_uri": "https://localhost:8080/",
          "height": 319
        },
        "outputId": "fc133e8c-043f-4fbe-b702-baec3a7c6e86"
      },
      "source": [
        "plot_cost=np.array([[0.0,0.0],[0.0,0.0],[0.0,0.0],[0.0,0.0],[0.0,0.0],[0.0,0.0],[0.0,0.0],[0.0,0.0],[0.0,0.0],[0.0,0.0]])\n",
        "j=0\n",
        "alpha=0.001\n",
        "Theta=[[0.0],[0.0],[0.0]]\n",
        "Theta=np.array(Theta)\n",
        "for i in range(1000000):\n",
        "  z=np.matmul(X,Theta)\n",
        "  pred=1/(1+(np.exp(-z)))\n",
        "  #cost=sum((y-pred)**2)\n",
        "  cost=-1*(1/leny*np.log(pred)+(1-y)*np.log(1-pred)\n",
        "  Theta=Theta-alpha*sum((-2/len(X))*(y-pred)*X).reshape(-1,1)\n",
        "  #Theta[0]=Theta[0]-alpha*sum((-2/len(X))*(y-pred))\n",
        "  #Theta[1]=Theta[1]-alpha*sum((-2/len(X))*(y-pred)*X[:,1].reshape(-1,1))\n",
        "  #Theta[2]=Theta[2]-alpha*sum((-2/len(X))*(y-pred)*X[:,2].reshape(-1,1))\n",
        "  if(i%100000==0):\n",
        "    print(cost,Theta)\n",
        "    plot_cost[j,0]=j\n",
        "    plot_cost[j,1]=cost\n",
        "    j=j+1"
      ],
      "execution_count": 26,
      "outputs": [
        {
          "output_type": "stream",
          "text": [
            "[[-0.69314718]\n",
            " [-0.69314718]\n",
            " [-0.69314718]] [[0.00033333]\n",
            " [0.007     ]\n",
            " [0.00766667]]\n"
          ],
          "name": "stdout"
        },
        {
          "output_type": "error",
          "ename": "ValueError",
          "evalue": "ignored",
          "traceback": [
            "\u001b[0;31m---------------------------------------------------------------------------\u001b[0m",
            "\u001b[0;31mValueError\u001b[0m                                Traceback (most recent call last)",
            "\u001b[0;32m<ipython-input-26-0c13ebd084a6>\u001b[0m in \u001b[0;36m<module>\u001b[0;34m()\u001b[0m\n\u001b[1;32m     16\u001b[0m     \u001b[0mprint\u001b[0m\u001b[0;34m(\u001b[0m\u001b[0mcost\u001b[0m\u001b[0;34m,\u001b[0m\u001b[0mTheta\u001b[0m\u001b[0;34m)\u001b[0m\u001b[0;34m\u001b[0m\u001b[0;34m\u001b[0m\u001b[0m\n\u001b[1;32m     17\u001b[0m     \u001b[0mplot_cost\u001b[0m\u001b[0;34m[\u001b[0m\u001b[0mj\u001b[0m\u001b[0;34m,\u001b[0m\u001b[0;36m0\u001b[0m\u001b[0;34m]\u001b[0m\u001b[0;34m=\u001b[0m\u001b[0mj\u001b[0m\u001b[0;34m\u001b[0m\u001b[0;34m\u001b[0m\u001b[0m\n\u001b[0;32m---> 18\u001b[0;31m     \u001b[0mplot_cost\u001b[0m\u001b[0;34m[\u001b[0m\u001b[0mj\u001b[0m\u001b[0;34m,\u001b[0m\u001b[0;36m1\u001b[0m\u001b[0;34m]\u001b[0m\u001b[0;34m=\u001b[0m\u001b[0mcost\u001b[0m\u001b[0;34m\u001b[0m\u001b[0;34m\u001b[0m\u001b[0m\n\u001b[0m\u001b[1;32m     19\u001b[0m     \u001b[0mj\u001b[0m\u001b[0;34m=\u001b[0m\u001b[0mj\u001b[0m\u001b[0;34m+\u001b[0m\u001b[0;36m1\u001b[0m\u001b[0;34m\u001b[0m\u001b[0;34m\u001b[0m\u001b[0m\n",
            "\u001b[0;31mValueError\u001b[0m: setting an array element with a sequence."
          ]
        }
      ]
    },
    {
      "cell_type": "code",
      "metadata": {
        "id": "JAjH0RadxIwD",
        "colab_type": "code",
        "colab": {
          "base_uri": "https://localhost:8080/",
          "height": 68
        },
        "outputId": "33125d34-dd59-46e9-9fbe-7156b3421164"
      },
      "source": [
        "z=np.matmul(X,Theta)\n",
        "1/(1+(np.exp(-z)))"
      ],
      "execution_count": 24,
      "outputs": [
        {
          "output_type": "execute_result",
          "data": {
            "text/plain": [
              "array([[9.99695696e-01],\n",
              "       [3.10667863e-04],\n",
              "       [1.00000000e+00]])"
            ]
          },
          "metadata": {
            "tags": []
          },
          "execution_count": 24
        }
      ]
    },
    {
      "cell_type": "code",
      "metadata": {
        "id": "vFBnV5hXyZKE",
        "colab_type": "code",
        "colab": {
          "base_uri": "https://localhost:8080/",
          "height": 285
        },
        "outputId": "30f93304-c85f-4d4e-f8e6-cf99012e4bc1"
      },
      "source": [
        "plot_cost[0]=[0,0]\n",
        "plt.plot(plot_cost[:,0],plot_cost[:,1])"
      ],
      "execution_count": 25,
      "outputs": [
        {
          "output_type": "execute_result",
          "data": {
            "text/plain": [
              "[<matplotlib.lines.Line2D at 0x7f810d84d3c8>]"
            ]
          },
          "metadata": {
            "tags": []
          },
          "execution_count": 25
        },
        {
          "output_type": "display_data",
          "data": {
            "image/png": "[encoded data removed]",
            "text/plain": [
              "<Figure size 432x288 with 1 Axes>"
            ]
          },
          "metadata": {
            "tags": []
          }
        }
      ]
    },
    {
      "cell_type": "code",
      "metadata": {
        "id": "tgXzxy8tLauH",
        "colab_type": "code",
        "colab": {}
      },
      "source": [
        ""
      ],
      "execution_count": 0,
      "outputs": []
    }
  ]
}