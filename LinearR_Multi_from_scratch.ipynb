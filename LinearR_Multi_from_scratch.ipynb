{
  "nbformat": 4,
  "nbformat_minor": 0,
  "metadata": {
    "colab": {
      "name": "LinearR_Multi_from_scratch.ipynb",
      "provenance": [],
      "include_colab_link": true
    },
    "kernelspec": {
      "name": "python3",
      "display_name": "Python 3"
    }
  },
  "cells": [
    {
      "cell_type": "markdown",
      "metadata": {
        "id": "view-in-github",
        "colab_type": "text"
      },
      "source": [
        "<a href=\"https://colab.research.google.com/github/venkat2ram/ML_From_Scratch/blob/master/LinearR_Multi_from_scratch.ipynb\" target=\"_parent\"><img src=\"https://colab.research.google.com/assets/colab-badge.svg\" alt=\"Open In Colab\"/></a>"
      ]
    },
    {
      "cell_type": "code",
      "metadata": {
        "id": "X8ZNCzDqSZYv",
        "colab_type": "code",
        "colab": {}
      },
      "source": [
        "data=[[1.0,20.0,12.0],[1.0,21.0,9.0],[1.0,22.0,20.0]]\n",
        "y=[[290.0],[270.0],[280.0]]"
      ],
      "execution_count": 0,
      "outputs": []
    },
    {
      "cell_type": "code",
      "metadata": {
        "id": "6RWCEDj8VJ4K",
        "colab_type": "code",
        "colab": {}
      },
      "source": [
        "import numpy as np\n",
        "import matplotlib.pyplot as plt"
      ],
      "execution_count": 0,
      "outputs": []
    },
    {
      "cell_type": "code",
      "metadata": {
        "id": "588MXnLvVQHe",
        "colab_type": "code",
        "colab": {}
      },
      "source": [
        "X=np.array(data)\n",
        "y=np.array(y)"
      ],
      "execution_count": 0,
      "outputs": []
    },
    {
      "cell_type": "code",
      "metadata": {
        "id": "NZdt09ZzVWhQ",
        "colab_type": "code",
        "colab": {
          "base_uri": "https://localhost:8080/",
          "height": 527
        },
        "outputId": "5bdcc850-6d32-4c5a-d7e4-bb991ebe7952"
      },
      "source": [
        "plot_cost=np.array([[0.0,0.0],[0.0,0.0],[0.0,0.0],[0.0,0.0],[0.0,0.0],[0.0,0.0],[0.0,0.0],[0.0,0.0],[0.0,0.0],[0.0,0.0]])\n",
        "j=0\n",
        "alpha=0.001\n",
        "Theta=[[0.0],[0.0],[0.0]]\n",
        "Theta=np.array(Theta)\n",
        "for i in range(10000000):\n",
        "  pred=np.matmul(X,Theta)\n",
        "  cost=sum((y-pred)**2)\n",
        "  Theta=Theta-alpha*sum((-2/len(X))*(y-pred)*X).reshape(-1,1)\n",
        "  #Theta[0]=Theta[0]-alpha*sum((-2/len(X))*(y-pred))\n",
        "  #Theta[1]=Theta[1]-alpha*sum((-2/len(X))*(y-pred)*X[:,1].reshape(-1,1))\n",
        "  #Theta[2]=Theta[2]-alpha*sum((-2/len(X))*(y-pred)*X[:,2].reshape(-1,1))\n",
        "  if(i%1000000==0):\n",
        "    print(cost,Theta)\n",
        "    plot_cost[j,0]=j\n",
        "    plot_cost[j,1]=cost\n",
        "    j=j+1"
      ],
      "execution_count": 39,
      "outputs": [
        {
          "output_type": "stream",
          "text": [
            "[235400.] [[ 0.56      ]\n",
            " [11.75333333]\n",
            " [ 7.67333333]]\n",
            "[21.60158041] [[446.03993281]\n",
            " [ -8.96739037]\n",
            " [  1.62403776]]\n",
            "[0.60690905] [[520.68330581]\n",
            " [-12.79971176]\n",
            " [  2.055894  ]]\n",
            "[0.01705146] [[533.19483228]\n",
            " [-13.44207542]\n",
            " [  2.12828061]]\n",
            "[0.00047907] [[535.29198153]\n",
            " [-13.54974674]\n",
            " [  2.14041386]]\n",
            "[1.34597771e-05] [[535.6435002 ]\n",
            " [-13.56779432]\n",
            " [  2.14244761]]\n",
            "[3.78160317e-07] [[535.70242083]\n",
            " [-13.57081941]\n",
            " [  2.1427885 ]]\n",
            "[1.06246359e-08] [[535.71229695]\n",
            " [-13.57132646]\n",
            " [  2.14284564]]\n",
            "[2.98505454e-10] [[535.71395236]\n",
            " [-13.57141146]\n",
            " [  2.14285521]]\n",
            "[8.38670311e-12] [[535.71422984]\n",
            " [-13.5714257 ]\n",
            " [  2.14285682]]\n"
          ],
          "name": "stdout"
        }
      ]
    },
    {
      "cell_type": "code",
      "metadata": {
        "id": "l3PVgnpXWE6L",
        "colab_type": "code",
        "colab": {
          "base_uri": "https://localhost:8080/",
          "height": 68
        },
        "outputId": "771f540c-f836-4672-ad1e-cacabbf87c87"
      },
      "source": [
        "np.matmul(X,Theta)"
      ],
      "execution_count": 40,
      "outputs": [
        {
          "output_type": "execute_result",
          "data": {
            "text/plain": [
              "array([[289.9999996 ],\n",
              "       [270.00000024],\n",
              "       [280.00000013]])"
            ]
          },
          "metadata": {
            "tags": []
          },
          "execution_count": 40
        }
      ]
    },
    {
      "cell_type": "code",
      "metadata": {
        "id": "RhtW_lXoXVg0",
        "colab_type": "code",
        "colab": {
          "base_uri": "https://localhost:8080/",
          "height": 282
        },
        "outputId": "9040d658-8412-457a-9f97-a36bbf4acfae"
      },
      "source": [
        "plot_cost[0]=[0,0]\n",
        "plt.plot(plot_cost[:,0],plot_cost[:,1])"
      ],
      "execution_count": 41,
      "outputs": [
        {
          "output_type": "execute_result",
          "data": {
            "text/plain": [
              "[<matplotlib.lines.Line2D at 0x7f183c9aabe0>]"
            ]
          },
          "metadata": {
            "tags": []
          },
          "execution_count": 41
        },
        {
          "output_type": "display_data",
          "data": {
            "image/png": "[encoded data removed]",
            "text/plain": [
              "<Figure size 432x288 with 1 Axes>"
            ]
          },
          "metadata": {
            "tags": []
          }
        }
      ]
    },
    {
      "cell_type": "code",
      "metadata": {
        "id": "aodlPo0X9bE0",
        "colab_type": "code",
        "colab": {
          "base_uri": "https://localhost:8080/",
          "height": 68
        },
        "outputId": "8ee4e5ec-c07e-4b83-e63b-d51ce9db1510"
      },
      "source": [
        "y"
      ],
      "execution_count": 42,
      "outputs": [
        {
          "output_type": "execute_result",
          "data": {
            "text/plain": [
              "array([[290.],\n",
              "       [270.],\n",
              "       [280.]])"
            ]
          },
          "metadata": {
            "tags": []
          },
          "execution_count": 42
        }
      ]
    },
    {
      "cell_type": "code",
      "metadata": {
        "id": "xHurxn4c9f9l",
        "colab_type": "code",
        "colab": {
          "base_uri": "https://localhost:8080/",
          "height": 68
        },
        "outputId": "3ead93f9-34fa-4e22-8c16-06baebc3fef6"
      },
      "source": [
        "alpha*sum((-2/len(X))*(y-pred)*X).reshape(-1,1)"
      ],
      "execution_count": 43,
      "outputs": [
        {
          "output_type": "execute_result",
          "data": {
            "text/plain": [
              "array([[-1.67279571e-11],\n",
              "       [ 8.58752477e-13],\n",
              "       [-9.61411691e-14]])"
            ]
          },
          "metadata": {
            "tags": []
          },
          "execution_count": 43
        }
      ]
    },
    {
      "cell_type": "code",
      "metadata": {
        "id": "sauG7vzc94MV",
        "colab_type": "code",
        "colab": {
          "base_uri": "https://localhost:8080/",
          "height": 34
        },
        "outputId": "c3b16a00-1640-46d0-d93d-b23ecd6333da"
      },
      "source": [
        "alpha*sum((-2/len(X))*(y-pred)*X[:,1].reshape(-1,1))"
      ],
      "execution_count": 44,
      "outputs": [
        {
          "output_type": "execute_result",
          "data": {
            "text/plain": [
              "array([8.58752477e-13])"
            ]
          },
          "metadata": {
            "tags": []
          },
          "execution_count": 44
        }
      ]
    },
    {
      "cell_type": "code",
      "metadata": {
        "id": "Od58rpg3-1qH",
        "colab_type": "code",
        "colab": {
          "base_uri": "https://localhost:8080/",
          "height": 34
        },
        "outputId": "d802f783-20bd-4b1a-e6ce-434d09af5fa3"
      },
      "source": [
        "alpha*sum((-2/len(X))*(y-pred)*X[:,2].reshape(-1,1))"
      ],
      "execution_count": 45,
      "outputs": [
        {
          "output_type": "execute_result",
          "data": {
            "text/plain": [
              "array([-9.61411691e-14])"
            ]
          },
          "metadata": {
            "tags": []
          },
          "execution_count": 45
        }
      ]
    },
    {
      "cell_type": "code",
      "metadata": {
        "id": "WR401p2e_RZV",
        "colab_type": "code",
        "colab": {
          "base_uri": "https://localhost:8080/",
          "height": 34
        },
        "outputId": "1b9b4043-a1c5-49e7-ce9c-05f085b127b4"
      },
      "source": [
        "alpha*sum((-2/len(X))*(y-pred))"
      ],
      "execution_count": 46,
      "outputs": [
        {
          "output_type": "execute_result",
          "data": {
            "text/plain": [
              "array([-1.67279571e-11])"
            ]
          },
          "metadata": {
            "tags": []
          },
          "execution_count": 46
        }
      ]
    },
    {
      "cell_type": "code",
      "metadata": {
        "id": "LRyQD0AvBCVf",
        "colab_type": "code",
        "colab": {
          "base_uri": "https://localhost:8080/",
          "height": 68
        },
        "outputId": "afab8475-2e02-40df-8b35-ba7af128b576"
      },
      "source": [
        "Theta"
      ],
      "execution_count": 47,
      "outputs": [
        {
          "output_type": "execute_result",
          "data": {
            "text/plain": [
              "array([[535.71427635],\n",
              "       [-13.57142809],\n",
              "       [  2.14285709]])"
            ]
          },
          "metadata": {
            "tags": []
          },
          "execution_count": 47
        }
      ]
    },
    {
      "cell_type": "code",
      "metadata": {
        "id": "AXpt6VJTBKWu",
        "colab_type": "code",
        "colab": {}
      },
      "source": [
        "Theta=Theta-alpha*sum((-2/len(X))*(y-pred)*X)"
      ],
      "execution_count": 0,
      "outputs": []
    },
    {
      "cell_type": "code",
      "metadata": {
        "id": "1FVDVjaTBMhV",
        "colab_type": "code",
        "colab": {
          "base_uri": "https://localhost:8080/",
          "height": 68
        },
        "outputId": "987d6f1b-32bf-4045-a074-0ead21acc7e5"
      },
      "source": [
        "Theta"
      ],
      "execution_count": 49,
      "outputs": [
        {
          "output_type": "execute_result",
          "data": {
            "text/plain": [
              "array([[535.71427635, 535.71427635, 535.71427635],\n",
              "       [-13.57142809, -13.57142809, -13.57142809],\n",
              "       [  2.14285709,   2.14285709,   2.14285709]])"
            ]
          },
          "metadata": {
            "tags": []
          },
          "execution_count": 49
        }
      ]
    }
  ]
}