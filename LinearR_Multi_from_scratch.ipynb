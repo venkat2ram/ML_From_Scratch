{
  "nbformat": 4,
  "nbformat_minor": 0,
  "metadata": {
    "colab": {
      "name": "LinearR_Multi_from_scratch.ipynb",
      "provenance": [],
      "include_colab_link": true
    },
    "kernelspec": {
      "name": "python3",
      "display_name": "Python 3"
    }
  },
  "cells": [
    {
      "cell_type": "markdown",
      "metadata": {
        "id": "view-in-github",
        "colab_type": "text"
      },
      "source": [
        "<a href=\"https://colab.research.google.com/github/venkat2ram/ML_From_Scratch/blob/master/LinearR_Multi_from_scratch.ipynb\" target=\"_parent\"><img src=\"https://colab.research.google.com/assets/colab-badge.svg\" alt=\"Open In Colab\"/></a>"
      ]
    },
    {
      "cell_type": "code",
      "metadata": {
        "id": "X8ZNCzDqSZYv",
        "colab_type": "code",
        "colab": {}
      },
      "source": [
        "data=[[1.0,20.0,12.0],[1.0,21.0,9.0],[1.0,22.0,20.0]]\n",
        "y=[[290.0],[270.0],[280.0]]"
      ],
      "execution_count": 0,
      "outputs": []
    },
    {
      "cell_type": "code",
      "metadata": {
        "id": "6RWCEDj8VJ4K",
        "colab_type": "code",
        "colab": {}
      },
      "source": [
        "import numpy as np\n",
        "import matplotlib.pyplot as plt"
      ],
      "execution_count": 0,
      "outputs": []
    },
    {
      "cell_type": "code",
      "metadata": {
        "id": "588MXnLvVQHe",
        "colab_type": "code",
        "colab": {}
      },
      "source": [
        "X=np.array(data)\n",
        "y=np.array(y)"
      ],
      "execution_count": 0,
      "outputs": []
    },
    {
      "cell_type": "code",
      "metadata": {
        "id": "NZdt09ZzVWhQ",
        "colab_type": "code",
        "colab": {
          "base_uri": "https://localhost:8080/",
          "height": 527
        },
        "outputId": "5a6c1bd3-dc6a-4f27-838c-c5e6e112994c"
      },
      "source": [
        "plot_cost=np.array([[0.0,0.0],[0.0,0.0],[0.0,0.0],[0.0,0.0],[0.0,0.0],[0.0,0.0],[0.0,0.0],[0.0,0.0],[0.0,0.0],[0.0,0.0]])\n",
        "j=0\n",
        "alpha=0.001\n",
        "Theta=[[0.0],[0.0],[0.0]]\n",
        "Theta=np.array(Theta)\n",
        "for i in range(5000000):\n",
        "  pred=np.matmul(X,Theta)\n",
        "  cost=sum((y-pred)**2)\n",
        "  Theta[0]=Theta[0]-alpha*sum((-2/len(X))*(y-pred))\n",
        "  Theta[1]=Theta[1]-alpha*sum((-2/len(X))*(y-pred)*X[:,1].reshape(-1,1))\n",
        "  Theta[2]=Theta[2]-alpha*sum((-2/len(X))*(y-pred)*X[:,2].reshape(-1,1))\n",
        "  if(i%500000==0):\n",
        "    print(cost,Theta)\n",
        "    plot_cost[j,0]=j\n",
        "    plot_cost[j,1]=cost\n",
        "    j=j+1"
      ],
      "execution_count": 27,
      "outputs": [
        {
          "output_type": "stream",
          "text": [
            "[235400.] [[ 0.56      ]\n",
            " [11.75333333]\n",
            " [ 7.67333333]]\n",
            "[128.87434869] [[316.68169998]\n",
            " [ -2.32591234]\n",
            " [  0.87562356]]\n",
            "[21.60158041] [[446.03993281]\n",
            " [ -8.96739037]\n",
            " [  1.62403776]]\n",
            "[3.62080027] [[499.00061801]\n",
            " [-11.68648463]\n",
            " [  1.93044677]]\n",
            "[0.60690905] [[520.68330581]\n",
            " [-12.79971176]\n",
            " [  2.055894  ]]\n",
            "[0.1017285] [[529.560437  ]\n",
            " [-13.25547921]\n",
            " [  2.10725347]]\n",
            "[0.01705146] [[533.19483228]\n",
            " [-13.44207542]\n",
            " [  2.12828061]]\n",
            "[0.00285812] [[534.68279373]\n",
            " [-13.51846997]\n",
            " [  2.13688935]]\n",
            "[0.00047907] [[535.29198153]\n",
            " [-13.54974674]\n",
            " [  2.14041386]]\n",
            "[8.03006064e-05] [[535.54138973]\n",
            " [-13.56255179]\n",
            " [  2.14185684]]\n"
          ],
          "name": "stdout"
        }
      ]
    },
    {
      "cell_type": "code",
      "metadata": {
        "id": "l3PVgnpXWE6L",
        "colab_type": "code",
        "colab": {
          "base_uri": "https://localhost:8080/",
          "height": 68
        },
        "outputId": "4dcf4aa4-93d3-4961-adf9-a02c63c21c7d"
      },
      "source": [
        "np.matmul(X,Theta)"
      ],
      "execution_count": 28,
      "outputs": [
        {
          "output_type": "execute_result",
          "data": {
            "text/plain": [
              "array([[289.99698509],\n",
              "       [270.00184796],\n",
              "       [280.00097731]])"
            ]
          },
          "metadata": {
            "tags": []
          },
          "execution_count": 28
        }
      ]
    },
    {
      "cell_type": "code",
      "metadata": {
        "id": "RhtW_lXoXVg0",
        "colab_type": "code",
        "colab": {}
      },
      "source": [
        "plot_cost[0]=[0,0]\n",
        "plt.plot(plot_cost[:,0],plot_cost[:,1])"
      ],
      "execution_count": 0,
      "outputs": []
    }
  ]
}