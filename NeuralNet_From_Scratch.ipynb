{
  "nbformat": 4,
  "nbformat_minor": 0,
  "metadata": {
    "colab": {
      "name": "NeuralNet_From_Scratch.ipynb",
      "provenance": [],
      "include_colab_link": true
    },
    "kernelspec": {
      "name": "python3",
      "display_name": "Python 3"
    }
  },
  "cells": [
    {
      "cell_type": "markdown",
      "metadata": {
        "id": "view-in-github",
        "colab_type": "text"
      },
      "source": [
        "<a href=\"https://colab.research.google.com/github/venkat2ram/ML_From_Scratch/blob/master/NeuralNet_From_Scratch.ipynb\" target=\"_parent\"><img src=\"https://colab.research.google.com/assets/colab-badge.svg\" alt=\"Open In Colab\"/></a>"
      ]
    },
    {
      "cell_type": "code",
      "metadata": {
        "id": "w19lCEm9AvA8",
        "colab_type": "code",
        "colab": {}
      },
      "source": [
        "data=[[1.0,20.0,12.0],[1.0,21.0,9.0],[1.0,22.0,20.0],[1.0,18.0,6.0]]\n",
        "y=[[1.0],[0.0],[1.0],[0.0]]"
      ],
      "execution_count": 0,
      "outputs": []
    },
    {
      "cell_type": "code",
      "metadata": {
        "id": "cjBYXpODBsJj",
        "colab_type": "code",
        "colab": {}
      },
      "source": [
        "import numpy as np\n",
        "import matplotlib.pyplot as plt"
      ],
      "execution_count": 0,
      "outputs": []
    },
    {
      "cell_type": "code",
      "metadata": {
        "id": "v0_o5uCgBtlZ",
        "colab_type": "code",
        "colab": {}
      },
      "source": [
        "X=np.array(data)\n",
        "y=np.array(y)"
      ],
      "execution_count": 0,
      "outputs": []
    },
    {
      "cell_type": "code",
      "metadata": {
        "id": "GxHx7BH9B2Ki",
        "colab_type": "code",
        "outputId": "d1bb66df-db64-4ca2-bba8-e03b2e7c6541",
        "colab": {
          "base_uri": "https://localhost:8080/",
          "height": 287
        }
      },
      "source": [
        "plot_cost=np.array([[0.0,0.0],[0.0,0.0],[0.0,0.0],[0.0,0.0],[0.0,0.0],[0.0,0.0],[0.0,0.0],[0.0,0.0],[0.0,0.0],[0.0,0.0]])\n",
        "j=0\n",
        "num_hunits=2\n",
        "num_eunits=1\n",
        "alpha=0.0005\n",
        "ITheta=np.random.rand(X.shape[1],num_hunits).reshape(-1,num_hunits)\n",
        "ETheta=np.random.rand(X.shape[1],num_eunits).reshape(-1,num_eunits)\n",
        "print(ETheta,ITheta)\n",
        "#ETheta=np.ones((X.shape[1])).reshape(-1,1)\n",
        "for i in range(100000):\n",
        "  Ipred1=1/(1+(np.exp(-1*np.matmul(X,ITheta))))\n",
        "  Ipred=np.c_[np.ones((len(X),1)),Ipred1]\n",
        "  pred=1/(1+(np.exp(-1*np.matmul(Ipred,ETheta))))\n",
        "  cost=sum((-1/len(X))*(y*np.log(pred)+(1-y)*np.log(1-pred)))\n",
        "  ETheta=ETheta-alpha*sum((-2/len(Ipred))*(y-pred)*Ipred).reshape(-1,1)\n",
        "  #ETheta=ETheta+alpha*sum(2*(pred-y)*(np.matmul(Ipred,ETheta))*(1-(np.matmul(Ipred,ETheta)))*Ipred).reshape(-1,1)\n",
        "  ITheta=ITheta-alpha*sum((-2/len(Ipred))*(y-pred)*X).reshape(-1,1)\n",
        "  if(i%10000==0):\n",
        "    print(cost)"
      ],
      "execution_count": 27,
      "outputs": [
        {
          "output_type": "stream",
          "text": [
            "[[0.94448248]\n",
            " [0.25762697]\n",
            " [0.31231678]] [[0.68255608 0.04852794]\n",
            " [0.71074232 0.07522497]\n",
            " [0.57886386 0.97153396]]\n",
            "[0.95596192]\n",
            "[0.69393152]\n",
            "[0.54944599]\n",
            "[0.45194954]\n",
            "[0.37363953]\n",
            "[0.3163635]\n",
            "[0.27312471]\n",
            "[0.23959835]\n",
            "[0.21297462]\n",
            "[0.19138993]\n"
          ],
          "name": "stdout"
        }
      ]
    },
    {
      "cell_type": "code",
      "metadata": {
        "id": "T6073BIsT61d",
        "colab_type": "code",
        "outputId": "5b3e2776-d729-4455-8864-9c8e74b526b3",
        "colab": {
          "base_uri": "https://localhost:8080/",
          "height": 89
        }
      },
      "source": [
        "pred"
      ],
      "execution_count": 28,
      "outputs": [
        {
          "output_type": "execute_result",
          "data": {
            "text/plain": [
              "array([[0.71827891],\n",
              "       [0.16371864],\n",
              "       [0.99417886],\n",
              "       [0.16371864]])"
            ]
          },
          "metadata": {
            "tags": []
          },
          "execution_count": 28
        }
      ]
    },
    {
      "cell_type": "code",
      "metadata": {
        "id": "khAnOZV-0lTL",
        "colab_type": "code",
        "outputId": "4cacf300-885e-4039-882c-21da8e2b2f9d",
        "colab": {
          "base_uri": "https://localhost:8080/",
          "height": 107
        }
      },
      "source": [
        "print(ETheta,ITheta)"
      ],
      "execution_count": 29,
      "outputs": [
        {
          "output_type": "stream",
          "text": [
            "[[-1.63082577]\n",
            " [ 4.99681866]\n",
            " [ 1.77445691]] [[ -1.89275218  -2.52678032]\n",
            " [-37.4653577  -38.10087505]\n",
            " [ 62.60453177  62.99720187]]\n"
          ],
          "name": "stdout"
        }
      ]
    },
    {
      "cell_type": "code",
      "metadata": {
        "id": "__CjpXxvzAAs",
        "colab_type": "code",
        "colab": {}
      },
      "source": [
        "sum((-2/len(Ipred))*(y-pred)*Ipred).reshape(-1,1)"
      ],
      "execution_count": 0,
      "outputs": []
    },
    {
      "cell_type": "code",
      "metadata": {
        "id": "w4oW32F3BhZf",
        "colab_type": "code",
        "colab": {}
      },
      "source": [
        "np.random.rand(X.shape[1]).reshape(-1,1)"
      ],
      "execution_count": 0,
      "outputs": []
    }
  ]
}