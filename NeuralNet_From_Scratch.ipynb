{
  "nbformat": 4,
  "nbformat_minor": 0,
  "metadata": {
    "colab": {
      "name": "NeuralNet_From_Scratch.ipynb",
      "provenance": [],
      "include_colab_link": true
    },
    "kernelspec": {
      "name": "python3",
      "display_name": "Python 3"
    }
  },
  "cells": [
    {
      "cell_type": "markdown",
      "metadata": {
        "id": "view-in-github",
        "colab_type": "text"
      },
      "source": [
        "<a href=\"https://colab.research.google.com/github/venkat2ram/ML_From_Scratch/blob/master/NeuralNet_From_Scratch.ipynb\" target=\"_parent\"><img src=\"https://colab.research.google.com/assets/colab-badge.svg\" alt=\"Open In Colab\"/></a>"
      ]
    },
    {
      "cell_type": "code",
      "metadata": {
        "id": "w19lCEm9AvA8",
        "colab_type": "code",
        "colab": {}
      },
      "source": [
        "data=[[1.0,20.0,12.0],[1.0,21.0,9.0],[1.0,22.0,20.0],[1.0,18.0,6.0]]\n",
        "#data=[[1.0,20.0,12.0],[1.0,17.0,9.0],[1.0,22.0,20.0],[1.0,18.0,6.0]]\n",
        "y=[[1.0],[0.0],[1.0],[0.0]]"
      ],
      "execution_count": 0,
      "outputs": []
    },
    {
      "cell_type": "code",
      "metadata": {
        "id": "cjBYXpODBsJj",
        "colab_type": "code",
        "colab": {}
      },
      "source": [
        "import numpy as np\n",
        "import matplotlib.pyplot as plt"
      ],
      "execution_count": 0,
      "outputs": []
    },
    {
      "cell_type": "code",
      "metadata": {
        "id": "v0_o5uCgBtlZ",
        "colab_type": "code",
        "colab": {}
      },
      "source": [
        "X=np.array(data)\n",
        "y=np.array(y)"
      ],
      "execution_count": 0,
      "outputs": []
    },
    {
      "cell_type": "code",
      "metadata": {
        "id": "GxHx7BH9B2Ki",
        "colab_type": "code",
        "outputId": "1e47967f-8a1f-44a9-dbf2-171bb2f5b985",
        "colab": {
          "base_uri": "https://localhost:8080/",
          "height": 187
        }
      },
      "source": [
        "plot_cost=np.array([[0.0,0.0],[0.0,0.0],[0.0,0.0],[0.0,0.0],[0.0,0.0],[0.0,0.0],[0.0,0.0],[0.0,0.0],[0.0,0.0],[0.0,0.0]])\n",
        "j=0\n",
        "num_hunits=5\n",
        "num_eunits=1\n",
        "num_hlayers=1\n",
        "alpha=0.001\n",
        "\n",
        "#ITheta=np.random.rand(X.shape[1],num_hunits).reshape(-1,num_hunits)\n",
        "#HTheta=np.random.rand(X.shape[1],num_hunits).reshape(-1,num_hunits)\n",
        "#ETheta=np.random.rand(X.shape[1],num_eunits).reshape(-1,num_eunits)\n",
        "\n",
        "ITheta=np.random.rand(X.shape[1],num_hunits).reshape(-1,num_hunits)\n",
        "HTheta=np.random.rand(num_hlayers,num_hunits+1,num_hunits)\n",
        "ETheta=np.random.rand(num_hunits+1,num_eunits).reshape(-1,num_eunits)\n",
        "Hpred1=np.ones((num_hlayers,X.shape[0],num_hunits))\n",
        "Hpred=np.ones((num_hlayers,X.shape[0],num_hunits+1))\n",
        "#print(ETheta,ITheta,HTheta)\n",
        "#ETheta=np.ones((X.shape[1])).reshape(-1,1)\n",
        "for i in range(20000):\n",
        "  Ipred1=1/(1+(np.exp(-1*np.matmul(X,ITheta))))\n",
        "  Ipred=np.c_[np.ones((len(X),1)),Ipred1]\n",
        "  Hpred1[0]=1/(1+(np.exp(-1*np.matmul(Ipred,HTheta[0]))))\n",
        "  Hpred[0]=np.c_[np.ones((len(X),1)),Hpred1[0]]\n",
        "  for j in range(num_hlayers-1):\n",
        "    Hpred1[j+1]=1/(1+(np.exp(-1*np.matmul(Hpred[j],HTheta[j+1]))))\n",
        "    Hpred[j+1]=np.c_[np.ones((len(X),1)),Hpred1[j+1]]\n",
        "  pred=1/(1+(np.exp(-1*np.matmul(Hpred[num_hlayers-1],ETheta))))\n",
        "  cost=sum((-1/len(X))*(y*np.log(pred)+(1-y)*np.log(1-pred)))\n",
        "  \n",
        "  ITheta=ITheta-alpha*(sum((-2/len(Ipred))*(y-pred)*X).reshape(-1,1)*sum(Ipred1))\n",
        "  HTheta[0]=HTheta[0]-alpha*(sum((-2/len(Ipred))*(y-pred)*Ipred).reshape(-1,1)*sum(Hpred1[0]))\n",
        "  for k in range(num_hlayers-1):\n",
        "    HTheta[k+1]=HTheta[k+1]-alpha*(sum((-2/len(Hpred[k]))*(y-pred)*Hpred[k]).reshape(-1,1)*sum(Hpred1[k+1]))\n",
        "    #HTheta[k+1]=HTheta[k+1]-alpha*(sum((-2/len(Hpred[k]))*(y-pred)*Hpred[k]).reshape(-1,1))\n",
        "  ETheta=ETheta-alpha*sum((-2/len(Hpred[num_hlayers-1]))*(y-pred)*Hpred[num_hlayers-1]).reshape(-1,1)\n",
        "\n",
        "  #ITheta=ITheta-alpha*sum((-2/len(Ipred))*(y-pred)*Ipred).reshape(-1,1)\n",
        "  #HTheta=HTheta-alpha*sum((-2/len(Hpred))*(y-pred)*Hpred).reshape(-1,1)\n",
        "  #ETheta=ETheta-alpha*sum((-2/len(Hpred))*(y-pred)*Hpred).reshape(-1,1)\n",
        "  \n",
        "  #ETheta=ETheta+alpha*sum(2*(pred-y)*(np.matmul(Ipred,ETheta))*(1-(np.matmul(Ipred,ETheta)))*Ipred).reshape(-1,1)\n",
        "  \n",
        "  if(i%2000==0):\n",
        "    print(cost)"
      ],
      "execution_count": 254,
      "outputs": [
        {
          "output_type": "stream",
          "text": [
            "[1.55116525]\n",
            "[0.69664204]\n",
            "[0.69296704]\n",
            "[0.57971602]\n",
            "[0.53198197]\n",
            "[0.50411876]\n",
            "[0.46825115]\n",
            "[0.43430559]\n",
            "[0.40406803]\n",
            "[0.37678104]\n"
          ],
          "name": "stdout"
        }
      ]
    },
    {
      "cell_type": "code",
      "metadata": {
        "id": "T6073BIsT61d",
        "colab_type": "code",
        "outputId": "564c637f-5475-45a5-ba5d-5975b13ffc41",
        "colab": {
          "base_uri": "https://localhost:8080/",
          "height": 85
        }
      },
      "source": [
        "pred"
      ],
      "execution_count": 255,
      "outputs": [
        {
          "output_type": "execute_result",
          "data": {
            "text/plain": [
              "array([[0.50261595],\n",
              "       [0.29549535],\n",
              "       [0.98052067],\n",
              "       [0.29559396]])"
            ]
          },
          "metadata": {
            "tags": []
          },
          "execution_count": 255
        }
      ]
    },
    {
      "cell_type": "code",
      "metadata": {
        "id": "RZ74cqc_NYgz",
        "colab_type": "code",
        "colab": {}
      },
      "source": [
        ""
      ],
      "execution_count": 0,
      "outputs": []
    },
    {
      "cell_type": "code",
      "metadata": {
        "id": "-_uTdo9yIAmY",
        "colab_type": "code",
        "colab": {
          "base_uri": "https://localhost:8080/",
          "height": 1000
        },
        "outputId": "04620175-6bd4-4ca5-f256-883aa00ee246"
      },
      "source": [
        "HTheta"
      ],
      "execution_count": 238,
      "outputs": [
        {
          "output_type": "execute_result",
          "data": {
            "text/plain": [
              "array([[[-0.7397082 , -0.64328719, -0.56829303, -0.53259845,\n",
              "         -0.3386241 , -0.37075677, -0.33517619, -0.59156363,\n",
              "         -0.32947181, -0.48518336],\n",
              "        [ 0.71151545,  1.19821467,  0.98815836,  0.37528854,\n",
              "          1.08766691,  0.89824214,  0.50530888,  1.14781104,\n",
              "          0.44301327,  0.38507656],\n",
              "        [ 1.48051565,  0.61373788,  1.09055391,  1.49499454,\n",
              "          1.50375992,  1.54528899,  1.23037677,  0.70726596,\n",
              "          0.90204968,  1.01003359],\n",
              "        [ 0.55202508,  0.51516961,  1.1220638 ,  1.17231909,\n",
              "          0.79987172,  0.65262573,  0.42181371,  0.4052417 ,\n",
              "          0.4075319 ,  1.32064014],\n",
              "        [ 1.07755721,  0.69681316,  1.30822566,  1.34650791,\n",
              "          1.3686752 ,  0.71459401,  1.07834616,  0.71365577,\n",
              "          0.62837942,  1.11008431],\n",
              "        [ 0.91257284,  0.83667897,  1.1393908 ,  0.83306885,\n",
              "          1.05143199,  0.46636882,  0.44365295,  0.56160685,\n",
              "          0.33383163,  0.9985915 ],\n",
              "        [ 0.77683036,  0.93030555,  0.56452355,  1.50096887,\n",
              "          0.77028025,  1.04203695,  0.92935923,  0.85922887,\n",
              "          1.53046333,  0.54111569],\n",
              "        [ 1.13054859,  1.26870144,  1.52730285,  0.5673123 ,\n",
              "          0.92590938,  1.49364031,  0.64305097,  0.75824268,\n",
              "          1.14583751,  0.92321099],\n",
              "        [ 1.16139709,  0.71064376,  1.43339064,  1.26797012,\n",
              "          1.23689218,  0.65223946,  0.99333706,  0.5743507 ,\n",
              "          1.21222877,  1.25568541],\n",
              "        [ 0.88645357,  1.03803563,  1.10774015,  0.80989495,\n",
              "          0.82332627,  0.47519216,  0.89571535,  0.21756154,\n",
              "          0.39406726,  0.396794  ],\n",
              "        [ 1.10958275,  1.30548901,  1.1257685 ,  0.48144265,\n",
              "          1.14145173,  1.21401167,  0.5225022 ,  0.77667801,\n",
              "          0.5509513 ,  1.27369774]],\n",
              "\n",
              "       [[-0.81618573, -1.11206903, -1.32875627, -0.91047918,\n",
              "         -0.66754519, -1.24548758, -1.02611096, -0.84571148,\n",
              "         -0.92258063, -1.14979507],\n",
              "        [ 0.06806212,  0.02916208,  0.38406539,  0.08058466,\n",
              "         -0.08726847,  0.11847639,  0.43633394, -0.53340741,\n",
              "          0.44480288, -0.28578609],\n",
              "        [ 0.04138985,  0.17996807, -0.23655438, -0.52625182,\n",
              "          0.22638434,  0.01335466, -0.12204288, -0.61011187,\n",
              "         -0.42172854,  0.21821948],\n",
              "        [-0.01695129, -0.54214311, -0.4942629 , -0.46925303,\n",
              "         -0.4902366 , -0.59438387,  0.10290442, -0.43116321,\n",
              "         -0.21141004, -0.07785086],\n",
              "        [-0.13544006,  0.14153075,  0.3191298 , -0.19463214,\n",
              "         -0.34530223,  0.2864957 , -0.29874854,  0.08672232,\n",
              "         -0.46909876, -0.48073656],\n",
              "        [-0.77234376,  0.10297137,  0.00155929,  0.24945494,\n",
              "         -0.22263623, -0.39826482,  0.05258646, -0.36220459,\n",
              "         -0.26362393,  0.222763  ],\n",
              "        [-0.40117575, -0.0075127 ,  0.04022723, -0.33541908,\n",
              "         -0.1843024 ,  0.01516609, -0.42251096, -0.28232404,\n",
              "          0.10116031,  0.06806303],\n",
              "        [-0.02458528, -0.7511612 , -0.53567113, -0.07682616,\n",
              "         -0.15402008, -0.15699468, -0.33354336,  0.09210284,\n",
              "         -0.44366105, -0.66328177],\n",
              "        [-0.59116823, -0.09239836,  0.28129928, -0.45043216,\n",
              "         -0.76851238,  0.2794379 , -0.40617974,  0.04187734,\n",
              "          0.03324104, -0.43146468],\n",
              "        [-0.11300255, -0.42082167, -0.43381934, -0.39905805,\n",
              "         -0.29041697, -0.22081743, -0.44793002, -0.51176568,\n",
              "         -0.3467584 , -0.22749758],\n",
              "        [-0.06928209,  0.10653738,  0.10255533, -0.34773386,\n",
              "         -0.12619083, -0.41029859, -0.11453305, -0.01808711,\n",
              "         -0.33386224,  0.04159911]]])"
            ]
          },
          "metadata": {
            "tags": []
          },
          "execution_count": 238
        }
      ]
    },
    {
      "cell_type": "code",
      "metadata": {
        "id": "WQOfzqcuQlF4",
        "colab_type": "code",
        "colab": {
          "base_uri": "https://localhost:8080/",
          "height": 34
        },
        "outputId": "28a5a449-23c2-4e3f-b829-395a26a80015"
      },
      "source": [
        "i"
      ],
      "execution_count": 239,
      "outputs": [
        {
          "output_type": "execute_result",
          "data": {
            "text/plain": [
              "19999"
            ]
          },
          "metadata": {
            "tags": []
          },
          "execution_count": 239
        }
      ]
    },
    {
      "cell_type": "code",
      "metadata": {
        "id": "PchYacwGQhMM",
        "colab_type": "code",
        "colab": {}
      },
      "source": [
        ""
      ],
      "execution_count": 0,
      "outputs": []
    },
    {
      "cell_type": "code",
      "metadata": {
        "id": "gPr7wfRbI0iY",
        "colab_type": "code",
        "colab": {
          "base_uri": "https://localhost:8080/",
          "height": 442
        },
        "outputId": "6f47358e-ac48-4f9b-f882-44684093ff7c"
      },
      "source": [
        "Hpred"
      ],
      "execution_count": 240,
      "outputs": [
        {
          "output_type": "execute_result",
          "data": {
            "text/plain": [
              "array([[[1.        , 0.99988371, 0.99979048, 0.99998038, 0.99991014,\n",
              "         0.99996866, 0.99984678, 0.99934373, 0.99782832, 0.99926792,\n",
              "         0.99983832],\n",
              "        [1.        , 0.99988371, 0.99979048, 0.99998038, 0.99991014,\n",
              "         0.99996866, 0.99984678, 0.99934373, 0.99782832, 0.99926792,\n",
              "         0.99983832],\n",
              "        [1.        , 0.99988371, 0.99979048, 0.99998038, 0.99991014,\n",
              "         0.99996866, 0.99984678, 0.99934373, 0.99782832, 0.99926792,\n",
              "         0.99983832],\n",
              "        [1.        , 0.99988371, 0.99979048, 0.99998038, 0.99991014,\n",
              "         0.99996866, 0.99984678, 0.99934373, 0.99782832, 0.99926792,\n",
              "         0.99983832]],\n",
              "\n",
              "       [[1.        , 0.05576612, 0.08588107, 0.13008513, 0.03297426,\n",
              "         0.04277825, 0.09000183, 0.07055045, 0.03313074, 0.05557111,\n",
              "         0.05928851],\n",
              "        [1.        , 0.05576612, 0.08588107, 0.13008513, 0.03297426,\n",
              "         0.04277825, 0.09000183, 0.07055045, 0.03313074, 0.05557111,\n",
              "         0.05928851],\n",
              "        [1.        , 0.05576612, 0.08588107, 0.13008513, 0.03297426,\n",
              "         0.04277825, 0.09000183, 0.07055045, 0.03313074, 0.05557111,\n",
              "         0.05928851],\n",
              "        [1.        , 0.05576612, 0.08588107, 0.13008513, 0.03297426,\n",
              "         0.04277825, 0.09000183, 0.07055045, 0.03313074, 0.05557111,\n",
              "         0.05928851]]])"
            ]
          },
          "metadata": {
            "tags": []
          },
          "execution_count": 240
        }
      ]
    },
    {
      "cell_type": "code",
      "metadata": {
        "id": "aMEGy4mWI8jf",
        "colab_type": "code",
        "colab": {}
      },
      "source": [
        "Ht=np.ones((num_hlayers,num_hunits+1,num_hunits))"
      ],
      "execution_count": 0,
      "outputs": []
    },
    {
      "cell_type": "code",
      "metadata": {
        "id": "wIPc7Ln4JPY_",
        "colab_type": "code",
        "colab": {
          "base_uri": "https://localhost:8080/",
          "height": 408
        },
        "outputId": "889ca67b-f325-4453-99b0-4d38db05c8d2"
      },
      "source": [
        "Ht"
      ],
      "execution_count": 242,
      "outputs": [
        {
          "output_type": "execute_result",
          "data": {
            "text/plain": [
              "array([[[1., 1., 1., 1., 1., 1., 1., 1., 1., 1.],\n",
              "        [1., 1., 1., 1., 1., 1., 1., 1., 1., 1.],\n",
              "        [1., 1., 1., 1., 1., 1., 1., 1., 1., 1.],\n",
              "        [1., 1., 1., 1., 1., 1., 1., 1., 1., 1.],\n",
              "        [1., 1., 1., 1., 1., 1., 1., 1., 1., 1.],\n",
              "        [1., 1., 1., 1., 1., 1., 1., 1., 1., 1.],\n",
              "        [1., 1., 1., 1., 1., 1., 1., 1., 1., 1.],\n",
              "        [1., 1., 1., 1., 1., 1., 1., 1., 1., 1.],\n",
              "        [1., 1., 1., 1., 1., 1., 1., 1., 1., 1.],\n",
              "        [1., 1., 1., 1., 1., 1., 1., 1., 1., 1.],\n",
              "        [1., 1., 1., 1., 1., 1., 1., 1., 1., 1.]],\n",
              "\n",
              "       [[1., 1., 1., 1., 1., 1., 1., 1., 1., 1.],\n",
              "        [1., 1., 1., 1., 1., 1., 1., 1., 1., 1.],\n",
              "        [1., 1., 1., 1., 1., 1., 1., 1., 1., 1.],\n",
              "        [1., 1., 1., 1., 1., 1., 1., 1., 1., 1.],\n",
              "        [1., 1., 1., 1., 1., 1., 1., 1., 1., 1.],\n",
              "        [1., 1., 1., 1., 1., 1., 1., 1., 1., 1.],\n",
              "        [1., 1., 1., 1., 1., 1., 1., 1., 1., 1.],\n",
              "        [1., 1., 1., 1., 1., 1., 1., 1., 1., 1.],\n",
              "        [1., 1., 1., 1., 1., 1., 1., 1., 1., 1.],\n",
              "        [1., 1., 1., 1., 1., 1., 1., 1., 1., 1.],\n",
              "        [1., 1., 1., 1., 1., 1., 1., 1., 1., 1.]]])"
            ]
          },
          "metadata": {
            "tags": []
          },
          "execution_count": 242
        }
      ]
    },
    {
      "cell_type": "code",
      "metadata": {
        "id": "X-7sZ26pJhT-",
        "colab_type": "code",
        "colab": {
          "base_uri": "https://localhost:8080/",
          "height": 163
        },
        "outputId": "62a6c5b6-4746-4a2f-c8d3-a4d7abf23dbe"
      },
      "source": [
        "Ht[0]=HTheta"
      ],
      "execution_count": 243,
      "outputs": [
        {
          "output_type": "error",
          "ename": "ValueError",
          "evalue": "ignored",
          "traceback": [
            "\u001b[0;31m---------------------------------------------------------------------------\u001b[0m",
            "\u001b[0;31mValueError\u001b[0m                                Traceback (most recent call last)",
            "\u001b[0;32m<ipython-input-243-6702a848a1b2>\u001b[0m in \u001b[0;36m<module>\u001b[0;34m()\u001b[0m\n\u001b[0;32m----> 1\u001b[0;31m \u001b[0mHt\u001b[0m\u001b[0;34m[\u001b[0m\u001b[0;36m0\u001b[0m\u001b[0;34m]\u001b[0m\u001b[0;34m=\u001b[0m\u001b[0mHTheta\u001b[0m\u001b[0;34m\u001b[0m\u001b[0;34m\u001b[0m\u001b[0m\n\u001b[0m",
            "\u001b[0;31mValueError\u001b[0m: could not broadcast input array from shape (2,11,10) into shape (11,10)"
          ]
        }
      ]
    }
  ]
}