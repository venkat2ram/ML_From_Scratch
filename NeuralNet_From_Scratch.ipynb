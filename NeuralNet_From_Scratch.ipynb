{
  "nbformat": 4,
  "nbformat_minor": 0,
  "metadata": {
    "colab": {
      "name": "NeuralNet_From_Scratch.ipynb",
      "provenance": [],
      "include_colab_link": true
    },
    "kernelspec": {
      "name": "python3",
      "display_name": "Python 3"
    }
  },
  "cells": [
    {
      "cell_type": "markdown",
      "metadata": {
        "id": "view-in-github",
        "colab_type": "text"
      },
      "source": [
        "<a href=\"https://colab.research.google.com/github/venkat2ram/ML_From_Scratch/blob/master/NeuralNet_From_Scratch.ipynb\" target=\"_parent\"><img src=\"https://colab.research.google.com/assets/colab-badge.svg\" alt=\"Open In Colab\"/></a>"
      ]
    },
    {
      "cell_type": "code",
      "metadata": {
        "id": "w19lCEm9AvA8",
        "colab_type": "code",
        "colab": {}
      },
      "source": [
        "data=[[1.0,20.0,12.0],[1.0,21.0,9.0],[1.0,22.0,20.0],[1.0,18.0,6.0]]\n",
        "y=[[1.0],[0.0],[1.0],[0.0]]"
      ],
      "execution_count": 0,
      "outputs": []
    },
    {
      "cell_type": "code",
      "metadata": {
        "id": "cjBYXpODBsJj",
        "colab_type": "code",
        "colab": {}
      },
      "source": [
        "import numpy as np\n",
        "import matplotlib.pyplot as plt"
      ],
      "execution_count": 0,
      "outputs": []
    },
    {
      "cell_type": "code",
      "metadata": {
        "id": "v0_o5uCgBtlZ",
        "colab_type": "code",
        "colab": {}
      },
      "source": [
        "X=np.array(data)\n",
        "y=np.array(y)"
      ],
      "execution_count": 0,
      "outputs": []
    },
    {
      "cell_type": "code",
      "metadata": {
        "id": "GxHx7BH9B2Ki",
        "colab_type": "code",
        "outputId": "31270889-ed3c-43d9-b83c-a91b5a505ae9",
        "colab": {
          "base_uri": "https://localhost:8080/",
          "height": 367
        }
      },
      "source": [
        "plot_cost=np.array([[0.0,0.0],[0.0,0.0],[0.0,0.0],[0.0,0.0],[0.0,0.0],[0.0,0.0],[0.0,0.0],[0.0,0.0],[0.0,0.0],[0.0,0.0]])\n",
        "j=0\n",
        "num_hunits=2\n",
        "num_eunits=1\n",
        "num_hlayers=1\n",
        "alpha=0.5\n",
        "\n",
        "#ITheta=np.ones((X.shape[1],num_hunits)).reshape(-1,num_hunits)\n",
        "#HTheta=np.ones((X.shape[1],num_hunits)).reshape(-1,num_hunits)\n",
        "#ETheta=np.ones((X.shape[1],num_eunits)).reshape(-1,num_eunits)\n",
        "\n",
        "ITheta=np.random.rand(X.shape[1],num_hunits).reshape(-1,num_hunits)\n",
        "HTheta=np.random.rand(X.shape[1],num_hunits).reshape(-1,num_hunits)\n",
        "ETheta=np.random.rand(X.shape[1],num_eunits).reshape(-1,num_eunits)\n",
        "print(ETheta,ITheta,HTheta)\n",
        "#ETheta=np.ones((X.shape[1])).reshape(-1,1)\n",
        "for i in range(1000):\n",
        "  Ipred1=1/(1+(np.exp(-1*np.matmul(X,ITheta))))\n",
        "  Ipred=np.c_[np.ones((len(X),1)),Ipred1]\n",
        "  Hpred1=1/(1+(np.exp(-1*np.matmul(Ipred,HTheta))))\n",
        "  Hpred=np.c_[np.ones((len(X),1)),Hpred1]\n",
        "  pred=1/(1+(np.exp(-1*np.matmul(Hpred,ETheta))))\n",
        "  cost=sum((-1/len(X))*(y*np.log(pred)+(1-y)*np.log(1-pred)))\n",
        "  \n",
        "  ITheta=ITheta-alpha*sum((-2/len(Ipred))*(y-pred)*X).reshape(-1,1)\n",
        "  HTheta=HTheta-alpha*(sum((-2/len(Ipred))*(y-pred)*Ipred).reshape(-1,1)*sum(Ipred1))\n",
        "  ETheta=ETheta-alpha*(sum((-2/len(Hpred))*(y-pred)*Hpred).reshape(-1,1)*sum(Hpred1))\n",
        "\n",
        "  #ITheta=ITheta-alpha*sum((-2/len(Ipred))*(y-pred)*Ipred).reshape(-1,1)\n",
        "  #HTheta=HTheta-alpha*sum((-2/len(Hpred))*(y-pred)*Hpred).reshape(-1,1)\n",
        "  #ETheta=ETheta-alpha*sum((-2/len(Hpred))*(y-pred)*Hpred).reshape(-1,1)\n",
        "  \n",
        "  #ETheta=ETheta+alpha*sum(2*(pred-y)*(np.matmul(Ipred,ETheta))*(1-(np.matmul(Ipred,ETheta)))*Ipred).reshape(-1,1)\n",
        "  \n",
        "  if(i%100==0):\n",
        "    print(cost)"
      ],
      "execution_count": 58,
      "outputs": [
        {
          "output_type": "stream",
          "text": [
            "[[0.92194583]\n",
            " [0.6880842 ]\n",
            " [0.82325485]] [[0.39957969 0.86301476]\n",
            " [0.13384569 0.06232557]\n",
            " [0.190013   0.20506494]] [[0.01058471 0.88366951]\n",
            " [0.69536196 0.68951949]\n",
            " [0.11391282 0.61340061]]\n",
            "[1.17948376]\n"
          ],
          "name": "stdout"
        },
        {
          "output_type": "error",
          "ename": "ValueError",
          "evalue": "ignored",
          "traceback": [
            "\u001b[0;31m---------------------------------------------------------------------------\u001b[0m",
            "\u001b[0;31mValueError\u001b[0m                                Traceback (most recent call last)",
            "\u001b[0;32m<ipython-input-58-5d16493569fb>\u001b[0m in \u001b[0;36m<module>\u001b[0;34m()\u001b[0m\n\u001b[1;32m     23\u001b[0m   \u001b[0mcost\u001b[0m\u001b[0;34m=\u001b[0m\u001b[0msum\u001b[0m\u001b[0;34m(\u001b[0m\u001b[0;34m(\u001b[0m\u001b[0;34m-\u001b[0m\u001b[0;36m1\u001b[0m\u001b[0;34m/\u001b[0m\u001b[0mlen\u001b[0m\u001b[0;34m(\u001b[0m\u001b[0mX\u001b[0m\u001b[0;34m)\u001b[0m\u001b[0;34m)\u001b[0m\u001b[0;34m*\u001b[0m\u001b[0;34m(\u001b[0m\u001b[0my\u001b[0m\u001b[0;34m*\u001b[0m\u001b[0mnp\u001b[0m\u001b[0;34m.\u001b[0m\u001b[0mlog\u001b[0m\u001b[0;34m(\u001b[0m\u001b[0mpred\u001b[0m\u001b[0;34m)\u001b[0m\u001b[0;34m+\u001b[0m\u001b[0;34m(\u001b[0m\u001b[0;36m1\u001b[0m\u001b[0;34m-\u001b[0m\u001b[0my\u001b[0m\u001b[0;34m)\u001b[0m\u001b[0;34m*\u001b[0m\u001b[0mnp\u001b[0m\u001b[0;34m.\u001b[0m\u001b[0mlog\u001b[0m\u001b[0;34m(\u001b[0m\u001b[0;36m1\u001b[0m\u001b[0;34m-\u001b[0m\u001b[0mpred\u001b[0m\u001b[0;34m)\u001b[0m\u001b[0;34m)\u001b[0m\u001b[0;34m)\u001b[0m\u001b[0;34m\u001b[0m\u001b[0;34m\u001b[0m\u001b[0m\n\u001b[1;32m     24\u001b[0m \u001b[0;34m\u001b[0m\u001b[0m\n\u001b[0;32m---> 25\u001b[0;31m   \u001b[0mITheta\u001b[0m\u001b[0;34m=\u001b[0m\u001b[0mITheta\u001b[0m\u001b[0;34m-\u001b[0m\u001b[0malpha\u001b[0m\u001b[0;34m*\u001b[0m\u001b[0msum\u001b[0m\u001b[0;34m(\u001b[0m\u001b[0;34m(\u001b[0m\u001b[0;34m-\u001b[0m\u001b[0;36m2\u001b[0m\u001b[0;34m/\u001b[0m\u001b[0mlen\u001b[0m\u001b[0;34m(\u001b[0m\u001b[0mIpred\u001b[0m\u001b[0;34m)\u001b[0m\u001b[0;34m)\u001b[0m\u001b[0;34m*\u001b[0m\u001b[0;34m(\u001b[0m\u001b[0my\u001b[0m\u001b[0;34m-\u001b[0m\u001b[0mpred\u001b[0m\u001b[0;34m)\u001b[0m\u001b[0;34m*\u001b[0m\u001b[0mX\u001b[0m\u001b[0;34m)\u001b[0m\u001b[0;34m.\u001b[0m\u001b[0mreshape\u001b[0m\u001b[0;34m(\u001b[0m\u001b[0;34m-\u001b[0m\u001b[0;36m1\u001b[0m\u001b[0;34m,\u001b[0m\u001b[0;36m1\u001b[0m\u001b[0;34m)\u001b[0m\u001b[0;34m\u001b[0m\u001b[0;34m\u001b[0m\u001b[0m\n\u001b[0m\u001b[1;32m     26\u001b[0m   \u001b[0mHTheta\u001b[0m\u001b[0;34m=\u001b[0m\u001b[0mHTheta\u001b[0m\u001b[0;34m-\u001b[0m\u001b[0malpha\u001b[0m\u001b[0;34m*\u001b[0m\u001b[0;34m(\u001b[0m\u001b[0msum\u001b[0m\u001b[0;34m(\u001b[0m\u001b[0;34m(\u001b[0m\u001b[0;34m-\u001b[0m\u001b[0;36m2\u001b[0m\u001b[0;34m/\u001b[0m\u001b[0mlen\u001b[0m\u001b[0;34m(\u001b[0m\u001b[0mIpred\u001b[0m\u001b[0;34m)\u001b[0m\u001b[0;34m)\u001b[0m\u001b[0;34m*\u001b[0m\u001b[0;34m(\u001b[0m\u001b[0my\u001b[0m\u001b[0;34m-\u001b[0m\u001b[0mpred\u001b[0m\u001b[0;34m)\u001b[0m\u001b[0;34m*\u001b[0m\u001b[0mIpred\u001b[0m\u001b[0;34m)\u001b[0m\u001b[0;34m.\u001b[0m\u001b[0mreshape\u001b[0m\u001b[0;34m(\u001b[0m\u001b[0;34m-\u001b[0m\u001b[0;36m1\u001b[0m\u001b[0;34m,\u001b[0m\u001b[0;36m1\u001b[0m\u001b[0;34m)\u001b[0m\u001b[0;34m*\u001b[0m\u001b[0msum\u001b[0m\u001b[0;34m(\u001b[0m\u001b[0mIpred1\u001b[0m\u001b[0;34m)\u001b[0m\u001b[0;34m)\u001b[0m\u001b[0;34m\u001b[0m\u001b[0;34m\u001b[0m\u001b[0m\n\u001b[1;32m     27\u001b[0m   \u001b[0mETheta\u001b[0m\u001b[0;34m=\u001b[0m\u001b[0mETheta\u001b[0m\u001b[0;34m-\u001b[0m\u001b[0malpha\u001b[0m\u001b[0;34m*\u001b[0m\u001b[0;34m(\u001b[0m\u001b[0msum\u001b[0m\u001b[0;34m(\u001b[0m\u001b[0;34m(\u001b[0m\u001b[0;34m-\u001b[0m\u001b[0;36m2\u001b[0m\u001b[0;34m/\u001b[0m\u001b[0mlen\u001b[0m\u001b[0;34m(\u001b[0m\u001b[0mHpred\u001b[0m\u001b[0;34m)\u001b[0m\u001b[0;34m)\u001b[0m\u001b[0;34m*\u001b[0m\u001b[0;34m(\u001b[0m\u001b[0my\u001b[0m\u001b[0;34m-\u001b[0m\u001b[0mpred\u001b[0m\u001b[0;34m)\u001b[0m\u001b[0;34m*\u001b[0m\u001b[0mHpred\u001b[0m\u001b[0;34m)\u001b[0m\u001b[0;34m.\u001b[0m\u001b[0mreshape\u001b[0m\u001b[0;34m(\u001b[0m\u001b[0;34m-\u001b[0m\u001b[0;36m1\u001b[0m\u001b[0;34m,\u001b[0m\u001b[0;36m1\u001b[0m\u001b[0;34m)\u001b[0m\u001b[0;34m*\u001b[0m\u001b[0msum\u001b[0m\u001b[0;34m(\u001b[0m\u001b[0mHpred1\u001b[0m\u001b[0;34m)\u001b[0m\u001b[0;34m)\u001b[0m\u001b[0;34m\u001b[0m\u001b[0;34m\u001b[0m\u001b[0m\n",
            "\u001b[0;31mValueError\u001b[0m: operands could not be broadcast together with shapes (4,2) (4,3) "
          ]
        }
      ]
    },
    {
      "cell_type": "code",
      "metadata": {
        "id": "T6073BIsT61d",
        "colab_type": "code",
        "outputId": "fc573f23-ff67-4c41-9c44-aec0d10be103",
        "colab": {
          "base_uri": "https://localhost:8080/",
          "height": 85
        }
      },
      "source": [
        "pred"
      ],
      "execution_count": 22,
      "outputs": [
        {
          "output_type": "execute_result",
          "data": {
            "text/plain": [
              "array([[0.99856475],\n",
              "       [0.01234649],\n",
              "       [0.99856475],\n",
              "       [0.01234649]])"
            ]
          },
          "metadata": {
            "tags": []
          },
          "execution_count": 22
        }
      ]
    },
    {
      "cell_type": "code",
      "metadata": {
        "id": "khAnOZV-0lTL",
        "colab_type": "code",
        "outputId": "4ed03e3a-f480-4fbe-b23a-1e7ce26ab954",
        "colab": {
          "base_uri": "https://localhost:8080/",
          "height": 136
        }
      },
      "source": [
        "print(ETheta,ITheta,HTheta)"
      ],
      "execution_count": 23,
      "outputs": [
        {
          "output_type": "stream",
          "text": [
            "[[-4.51175277]\n",
            " [ 5.87671212]\n",
            " [ 5.17587941]] [[ -4.37555618  -4.8626009 ]\n",
            " [-78.14762127 -78.10798215]\n",
            " [131.05299718 130.79736491]] [[-4.58375888 -4.37647021]\n",
            " [ 8.95599095  9.65989446]\n",
            " [ 8.50356562  8.50003435]]\n"
          ],
          "name": "stdout"
        }
      ]
    },
    {
      "cell_type": "code",
      "metadata": {
        "id": "__CjpXxvzAAs",
        "colab_type": "code",
        "outputId": "1e4dff24-3b7e-4d6b-d877-84f584783905",
        "colab": {
          "base_uri": "https://localhost:8080/",
          "height": 136
        }
      },
      "source": [
        "plot_cost=np.array([[0.0,0.0],[0.0,0.0],[0.0,0.0],[0.0,0.0],[0.0,0.0],[0.0,0.0],[0.0,0.0],[0.0,0.0],[0.0,0.0],[0.0,0.0]])\n",
        "j=0\n",
        "num_hunits=2\n",
        "num_eunits=1\n",
        "num_hlayers=1\n",
        "alpha=0.5\n",
        "\n",
        "#ITheta=np.ones((X.shape[1],num_hunits)).reshape(-1,num_hunits)\n",
        "#HTheta=np.ones((X.shape[1],num_hunits)).reshape(-1,num_hunits)\n",
        "#ETheta=np.ones((X.shape[1],num_eunits)).reshape(-1,num_eunits)\n",
        "\n",
        "ITheta=np.random.rand(X.shape[1],num_hunits).reshape(-1,num_hunits)\n",
        "HTheta=np.random.rand(X.shape[1],num_hunits).reshape(-1,num_hunits)\n",
        "ETheta=np.random.rand(X.shape[1],num_eunits).reshape(-1,num_eunits)\n",
        "print(ETheta,ITheta,HTheta)\n",
        "Ipred1=1/(1+(np.exp(-1*np.matmul(X,ITheta))))\n",
        "Ipred=np.c_[np.ones((len(X),1)),Ipred1]\n",
        "Hpred1=1/(1+(np.exp(-1*np.matmul(Ipred,HTheta))))\n",
        "Hpred=np.c_[np.ones((len(X),1)),Hpred1]\n",
        "pred=1/(1+(np.exp(-1*np.matmul(Hpred,ETheta))))\n",
        "cost=sum((-1/len(X))*(y*np.log(pred)+(1-y)*np.log(1-pred)))\n",
        "  \n",
        "ITheta=ITheta-alpha*sum((-2/len(Ipred))*(y-pred)*X).reshape(-1,1)\n",
        "#HTheta=HTheta-alpha*(sum((-2/len(Ipred))*(y-pred)*Ipred).reshape(-1,1)*sum(Ipred1))\n",
        "#ETheta=ETheta-alpha*(sum((-2/len(Hpred))*(y-pred)*Hpred).reshape(-1,1)*sum(Hpred1))"
      ],
      "execution_count": 66,
      "outputs": [
        {
          "output_type": "stream",
          "text": [
            "[[0.13171082]\n",
            " [0.37963954]\n",
            " [0.34410786]] [[0.68847644 0.82806796]\n",
            " [0.00281773 0.82331282]\n",
            " [0.03816536 0.25563342]] [[0.69931632 0.73559786]\n",
            " [0.99800209 0.05316395]\n",
            " [0.5955427  0.54081772]]\n"
          ],
          "name": "stdout"
        }
      ]
    },
    {
      "cell_type": "code",
      "metadata": {
        "id": "w4oW32F3BhZf",
        "colab_type": "code",
        "outputId": "93b4c3e2-5b25-4693-e235-9c024fdca7c2",
        "colab": {
          "base_uri": "https://localhost:8080/",
          "height": 68
        }
      },
      "source": [
        "ITheta"
      ],
      "execution_count": 35,
      "outputs": [
        {
          "output_type": "execute_result",
          "data": {
            "text/plain": [
              "array([[ -4.31443938,  -5.05317838],\n",
              "       [-75.74247984, -75.67780001],\n",
              "       [129.08350174, 129.06774948]])"
            ]
          },
          "metadata": {
            "tags": []
          },
          "execution_count": 35
        }
      ]
    },
    {
      "cell_type": "code",
      "metadata": {
        "id": "GUM6pzze_9u_",
        "colab_type": "code",
        "colab": {
          "base_uri": "https://localhost:8080/",
          "height": 68
        },
        "outputId": "c386bffc-1469-45eb-f1d1-6f7743800437"
      },
      "source": [
        "ITheta*I"
      ],
      "execution_count": 47,
      "outputs": [
        {
          "output_type": "execute_result",
          "data": {
            "text/plain": [
              "array([[  -8.62887877,  -15.15953513],\n",
              "       [-151.48495967, -227.03340002],\n",
              "       [ 258.16700348,  387.20324844]])"
            ]
          },
          "metadata": {
            "tags": []
          },
          "execution_count": 47
        }
      ]
    },
    {
      "cell_type": "code",
      "metadata": {
        "id": "7roIrNFqAz4D",
        "colab_type": "code",
        "colab": {
          "base_uri": "https://localhost:8080/",
          "height": 136
        },
        "outputId": "0e946056-20cb-496b-9119-bd776029fcb4"
      },
      "source": [
        "print(ETheta,ITheta,HTheta)"
      ],
      "execution_count": 67,
      "outputs": [
        {
          "output_type": "stream",
          "text": [
            "[[0.13171082]\n",
            " [0.37963954]\n",
            " [0.34410786]] [[ 0.51153109  0.65112262]\n",
            " [-3.20571225 -2.38521716]\n",
            " [ 0.0824337   0.29990176]] [[0.69931632 0.73559786]\n",
            " [0.99800209 0.05316395]\n",
            " [0.5955427  0.54081772]]\n"
          ],
          "name": "stdout"
        }
      ]
    },
    {
      "cell_type": "code",
      "metadata": {
        "id": "uGtBxRuBAf6q",
        "colab_type": "code",
        "colab": {
          "base_uri": "https://localhost:8080/",
          "height": 34
        },
        "outputId": "2a7c868f-cefa-449b-9943-621f898a4a58"
      },
      "source": [
        "sum(Ipred1)"
      ],
      "execution_count": 43,
      "outputs": [
        {
          "output_type": "execute_result",
          "data": {
            "text/plain": [
              "array([2., 2.])"
            ]
          },
          "metadata": {
            "tags": []
          },
          "execution_count": 43
        }
      ]
    },
    {
      "cell_type": "code",
      "metadata": {
        "id": "Wk-Sv167Bu1I",
        "colab_type": "code",
        "colab": {
          "base_uri": "https://localhost:8080/",
          "height": 68
        },
        "outputId": "4da7525f-ac0b-46a6-b224-2951d49b5ab0"
      },
      "source": [
        "(alpha*sum((-2/len(Ipred))*(y-pred)*X).reshape(-1,1))*I"
      ],
      "execution_count": 64,
      "outputs": [
        {
          "output_type": "execute_result",
          "data": {
            "text/plain": [
              "array([[ 0.43894518,  0.65841777],\n",
              "       [ 8.13866381, 12.20799571],\n",
              "       [ 0.90767675,  1.36151512]])"
            ]
          },
          "metadata": {
            "tags": []
          },
          "execution_count": 64
        }
      ]
    },
    {
      "cell_type": "code",
      "metadata": {
        "id": "-6pTtQoqCNBj",
        "colab_type": "code",
        "colab": {}
      },
      "source": [
        "HTheta=HTheta-alpha*(sum((-2/len(Ipred))*(y-pred)*Ipred).reshape(-1,1)*sum(Ipred1))"
      ],
      "execution_count": 0,
      "outputs": []
    }
  ]
}