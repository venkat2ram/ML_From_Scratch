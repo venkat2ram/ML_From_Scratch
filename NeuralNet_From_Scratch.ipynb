{
  "nbformat": 4,
  "nbformat_minor": 0,
  "metadata": {
    "colab": {
      "name": "NeuralNet_From_Scratch.ipynb",
      "provenance": [],
      "include_colab_link": true
    },
    "kernelspec": {
      "name": "python3",
      "display_name": "Python 3"
    }
  },
  "cells": [
    {
      "cell_type": "markdown",
      "metadata": {
        "id": "view-in-github",
        "colab_type": "text"
      },
      "source": [
        "<a href=\"https://colab.research.google.com/github/venkat2ram/ML_From_Scratch/blob/master/NeuralNet_From_Scratch.ipynb\" target=\"_parent\"><img src=\"https://colab.research.google.com/assets/colab-badge.svg\" alt=\"Open In Colab\"/></a>"
      ]
    },
    {
      "cell_type": "code",
      "metadata": {
        "id": "w19lCEm9AvA8",
        "colab_type": "code",
        "colab": {}
      },
      "source": [
        "data=[[1.0,20.0,12.0],[1.0,21.0,9.0],[1.0,22.0,20.0],[1.0,18.0,6.0]]\n",
        "y=[[1.0],[0.0],[1.0],[0.0]]"
      ],
      "execution_count": 0,
      "outputs": []
    },
    {
      "cell_type": "code",
      "metadata": {
        "id": "cjBYXpODBsJj",
        "colab_type": "code",
        "colab": {}
      },
      "source": [
        "import numpy as np\n",
        "import matplotlib.pyplot as plt"
      ],
      "execution_count": 0,
      "outputs": []
    },
    {
      "cell_type": "code",
      "metadata": {
        "id": "v0_o5uCgBtlZ",
        "colab_type": "code",
        "colab": {}
      },
      "source": [
        "X=np.array(data)\n",
        "y=np.array(y)"
      ],
      "execution_count": 0,
      "outputs": []
    },
    {
      "cell_type": "code",
      "metadata": {
        "id": "GxHx7BH9B2Ki",
        "colab_type": "code",
        "outputId": "81b90e92-451d-44b4-96d2-83a2a072e9cb",
        "colab": {
          "base_uri": "https://localhost:8080/",
          "height": 187
        }
      },
      "source": [
        "plot_cost=np.array([[0.0,0.0],[0.0,0.0],[0.0,0.0],[0.0,0.0],[0.0,0.0],[0.0,0.0],[0.0,0.0],[0.0,0.0],[0.0,0.0],[0.0,0.0]])\n",
        "j=0\n",
        "num_hunits=2\n",
        "num_eunits=1\n",
        "num_hlayers=1\n",
        "alpha=0.003\n",
        "\n",
        "#ITheta=np.random.rand(X.shape[1],num_hunits).reshape(-1,num_hunits)\n",
        "#HTheta=np.random.rand(X.shape[1],num_hunits).reshape(-1,num_hunits)\n",
        "#ETheta=np.random.rand(X.shape[1],num_eunits).reshape(-1,num_eunits)\n",
        "\n",
        "ITheta=np.random.rand(X.shape[1],num_hunits).reshape(-1,num_hunits)\n",
        "HTheta=np.random.rand(num_hlayers,num_hunits+1,num_hunits)\n",
        "ETheta=np.random.rand(num_hunits+1,num_eunits).reshape(-1,num_eunits)\n",
        "Hpred1=np.ones((num_hlayers,X.shape[0],num_hunits))\n",
        "Hpred=np.ones((num_hlayers,X.shape[0],num_hunits+1))\n",
        "#print(ETheta,ITheta,HTheta)\n",
        "#ETheta=np.ones((X.shape[1])).reshape(-1,1)\n",
        "for i in range(20000):\n",
        "  Ipred1=1/(1+(np.exp(-1*np.matmul(X,ITheta))))\n",
        "  Ipred=np.c_[np.ones((len(X),1)),Ipred1]\n",
        "  Hpred1[0]=1/(1+(np.exp(-1*np.matmul(Ipred,HTheta[0]))))\n",
        "  Hpred[0]=np.c_[np.ones((len(X),1)),Hpred1[0]]\n",
        "  for j in range(num_hlayers-1):\n",
        "    Hpred1[j+1]=1/(1+(np.exp(-1*np.matmul(Hpred[j],HTheta[j+1]))))\n",
        "    Hpred[j+1]=np.c_[np.ones((len(X),1)),Hpred1[j+1]]\n",
        "  pred=1/(1+(np.exp(-1*np.matmul(Hpred[num_hlayers-1],ETheta))))\n",
        "  cost=sum((-1/len(X))*(y*np.log(pred)+(1-y)*np.log(1-pred)))\n",
        "  \n",
        "  ITheta=ITheta-alpha*(sum((-2/len(Ipred))*(y-pred)*X).reshape(-1,1)*sum(Ipred1))\n",
        "  HTheta[0]=HTheta[0]-alpha*(sum((-2/len(Ipred))*(y-pred)*Ipred).reshape(-1,1)*sum(Hpred1[0]))\n",
        "  for k in range(num_hlayers-1):\n",
        "    HTheta[k+1]=HTheta[k+1]-alpha*(sum((-2/len(Hpred[k]))*(y-pred)*Hpred[k]).reshape(-1,1)*sum(Hpred1[k+1]))\n",
        "  ETheta=ETheta-alpha*sum((-2/len(Hpred[num_hlayers-1]))*(y-pred)*Hpred[num_hlayers-1]).reshape(-1,1)\n",
        "\n",
        "  #ITheta=ITheta-alpha*sum((-2/len(Ipred))*(y-pred)*Ipred).reshape(-1,1)\n",
        "  #HTheta=HTheta-alpha*sum((-2/len(Hpred))*(y-pred)*Hpred).reshape(-1,1)\n",
        "  #ETheta=ETheta-alpha*sum((-2/len(Hpred))*(y-pred)*Hpred).reshape(-1,1)\n",
        "  \n",
        "  #ETheta=ETheta+alpha*sum(2*(pred-y)*(np.matmul(Ipred,ETheta))*(1-(np.matmul(Ipred,ETheta)))*Ipred).reshape(-1,1)\n",
        "  \n",
        "  if(i%2000==0):\n",
        "    print(cost)"
      ],
      "execution_count": 205,
      "outputs": [
        {
          "output_type": "stream",
          "text": [
            "[0.77513991]\n",
            "[0.56099322]\n",
            "[0.4268202]\n",
            "[0.33454213]\n",
            "[0.27178474]\n",
            "[0.2274441]\n",
            "[0.19484493]\n",
            "[0.17004255]\n",
            "[0.15062688]\n",
            "[0.13506405]\n"
          ],
          "name": "stdout"
        }
      ]
    },
    {
      "cell_type": "code",
      "metadata": {
        "id": "T6073BIsT61d",
        "colab_type": "code",
        "outputId": "bb782bd1-87de-43ee-df45-4cb63b0045b4",
        "colab": {
          "base_uri": "https://localhost:8080/",
          "height": 85
        }
      },
      "source": [
        "pred"
      ],
      "execution_count": 206,
      "outputs": [
        {
          "output_type": "execute_result",
          "data": {
            "text/plain": [
              "array([[0.79126661],\n",
              "       [0.11921864],\n",
              "       [0.99863138],\n",
              "       [0.11921864]])"
            ]
          },
          "metadata": {
            "tags": []
          },
          "execution_count": 206
        }
      ]
    },
    {
      "cell_type": "code",
      "metadata": {
        "id": "RZ74cqc_NYgz",
        "colab_type": "code",
        "colab": {
          "base_uri": "https://localhost:8080/",
          "height": 51
        },
        "outputId": "defd35a2-98a6-4364-c1e4-5d0732513ecf"
      },
      "source": [
        ""
      ],
      "execution_count": 159,
      "outputs": [
        {
          "output_type": "execute_result",
          "data": {
            "text/plain": [
              "array([[0.84123681, 0.27506182],\n",
              "       [0.27320508, 0.46180242]])"
            ]
          },
          "metadata": {
            "tags": []
          },
          "execution_count": 159
        }
      ]
    },
    {
      "cell_type": "code",
      "metadata": {
        "id": "-_uTdo9yIAmY",
        "colab_type": "code",
        "colab": {
          "base_uri": "https://localhost:8080/",
          "height": 85
        },
        "outputId": "84808bc1-5f25-4efc-e264-d5ea71847920"
      },
      "source": [
        "HTheta"
      ],
      "execution_count": 93,
      "outputs": [
        {
          "output_type": "execute_result",
          "data": {
            "text/plain": [
              "array([[[0.2767468 , 0.55064456, 0.65754802],\n",
              "        [0.21431419, 0.45529122, 0.27711789],\n",
              "        [0.1615788 , 0.83642444, 0.41072138],\n",
              "        [0.19906781, 0.07610002, 0.42633604]]])"
            ]
          },
          "metadata": {
            "tags": []
          },
          "execution_count": 93
        }
      ]
    },
    {
      "cell_type": "code",
      "metadata": {
        "id": "WQOfzqcuQlF4",
        "colab_type": "code",
        "colab": {
          "base_uri": "https://localhost:8080/",
          "height": 34
        },
        "outputId": "d37eda8b-92f7-4428-828e-6fe955b73d56"
      },
      "source": [
        "i"
      ],
      "execution_count": 94,
      "outputs": [
        {
          "output_type": "execute_result",
          "data": {
            "text/plain": [
              "1"
            ]
          },
          "metadata": {
            "tags": []
          },
          "execution_count": 94
        }
      ]
    },
    {
      "cell_type": "code",
      "metadata": {
        "id": "PchYacwGQhMM",
        "colab_type": "code",
        "colab": {}
      },
      "source": [
        ""
      ],
      "execution_count": 0,
      "outputs": []
    },
    {
      "cell_type": "code",
      "metadata": {
        "id": "gPr7wfRbI0iY",
        "colab_type": "code",
        "colab": {
          "base_uri": "https://localhost:8080/",
          "height": 85
        },
        "outputId": "bbd1faf8-6551-4f98-9484-89670d4536c6"
      },
      "source": [
        "Hpred"
      ],
      "execution_count": 70,
      "outputs": [
        {
          "output_type": "execute_result",
          "data": {
            "text/plain": [
              "array([[1.        , 0.88771067, 0.8243774 , 0.66388833],\n",
              "       [1.        , 0.88771067, 0.8243774 , 0.66388833],\n",
              "       [1.        , 0.88771067, 0.8243774 , 0.66388833],\n",
              "       [1.        , 0.88771067, 0.8243774 , 0.66388833]])"
            ]
          },
          "metadata": {
            "tags": []
          },
          "execution_count": 70
        }
      ]
    },
    {
      "cell_type": "code",
      "metadata": {
        "id": "aMEGy4mWI8jf",
        "colab_type": "code",
        "colab": {}
      },
      "source": [
        "Ht=np.ones((num_hlayers,num_hunits+1,num_hunits))"
      ],
      "execution_count": 0,
      "outputs": []
    },
    {
      "cell_type": "code",
      "metadata": {
        "id": "wIPc7Ln4JPY_",
        "colab_type": "code",
        "colab": {
          "base_uri": "https://localhost:8080/",
          "height": 170
        },
        "outputId": "748f9fb9-996c-457f-efe5-76495f20d4d1"
      },
      "source": [
        "Ht"
      ],
      "execution_count": 62,
      "outputs": [
        {
          "output_type": "execute_result",
          "data": {
            "text/plain": [
              "array([[[-3.31610722, -3.30564839, -3.30358725],\n",
              "        [ 6.30420464,  6.42023446,  5.65192502],\n",
              "        [ 4.74558641,  5.01465938,  4.75467511],\n",
              "        [ 0.78897396,  0.86937907,  0.02893208]],\n",
              "\n",
              "       [[ 1.        ,  1.        ,  1.        ],\n",
              "        [ 1.        ,  1.        ,  1.        ],\n",
              "        [ 1.        ,  1.        ,  1.        ],\n",
              "        [ 1.        ,  1.        ,  1.        ]]])"
            ]
          },
          "metadata": {
            "tags": []
          },
          "execution_count": 62
        }
      ]
    },
    {
      "cell_type": "code",
      "metadata": {
        "id": "X-7sZ26pJhT-",
        "colab_type": "code",
        "colab": {}
      },
      "source": [
        "Ht[0]=HTheta"
      ],
      "execution_count": 0,
      "outputs": []
    }
  ]
}