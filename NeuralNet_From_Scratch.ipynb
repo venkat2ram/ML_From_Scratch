{
  "nbformat": 4,
  "nbformat_minor": 0,
  "metadata": {
    "colab": {
      "name": "NeuralNet_From_Scratch.ipynb",
      "provenance": [],
      "include_colab_link": true
    },
    "kernelspec": {
      "name": "python3",
      "display_name": "Python 3"
    }
  },
  "cells": [
    {
      "cell_type": "markdown",
      "metadata": {
        "id": "view-in-github",
        "colab_type": "text"
      },
      "source": [
        "<a href=\"https://colab.research.google.com/github/venkat2ram/ML_From_Scratch/blob/master/NeuralNet_From_Scratch.ipynb\" target=\"_parent\"><img src=\"https://colab.research.google.com/assets/colab-badge.svg\" alt=\"Open In Colab\"/></a>"
      ]
    },
    {
      "cell_type": "code",
      "metadata": {
        "id": "w19lCEm9AvA8",
        "colab_type": "code",
        "colab": {}
      },
      "source": [
        "data=[[1.0,20.0,12.0],[1.0,21.0,9.0],[1.0,22.0,20.0],[1.0,18.0,6.0]]\n",
        "y=[[1.0],[0.0],[1.0],[0.0]]"
      ],
      "execution_count": 0,
      "outputs": []
    },
    {
      "cell_type": "code",
      "metadata": {
        "id": "cjBYXpODBsJj",
        "colab_type": "code",
        "colab": {}
      },
      "source": [
        "import numpy as np\n",
        "import matplotlib.pyplot as plt"
      ],
      "execution_count": 0,
      "outputs": []
    },
    {
      "cell_type": "code",
      "metadata": {
        "id": "v0_o5uCgBtlZ",
        "colab_type": "code",
        "colab": {}
      },
      "source": [
        "X=np.array(data)\n",
        "y=np.array(y)"
      ],
      "execution_count": 0,
      "outputs": []
    },
    {
      "cell_type": "code",
      "metadata": {
        "id": "GxHx7BH9B2Ki",
        "colab_type": "code",
        "outputId": "48ec63a2-9231-42fc-be55-6074b5c39585",
        "colab": {
          "base_uri": "https://localhost:8080/",
          "height": 425
        }
      },
      "source": [
        "plot_cost=np.array([[0.0,0.0],[0.0,0.0],[0.0,0.0],[0.0,0.0],[0.0,0.0],[0.0,0.0],[0.0,0.0],[0.0,0.0],[0.0,0.0],[0.0,0.0]])\n",
        "j=0\n",
        "num_hunits=3\n",
        "num_eunits=1\n",
        "num_hlayers=2\n",
        "alpha=0.005\n",
        "\n",
        "#ITheta=np.random.rand(X.shape[1],num_hunits).reshape(-1,num_hunits)\n",
        "#HTheta=np.random.rand(X.shape[1],num_hunits).reshape(-1,num_hunits)\n",
        "#ETheta=np.random.rand(X.shape[1],num_eunits).reshape(-1,num_eunits)\n",
        "\n",
        "ITheta=np.random.rand(X.shape[1],num_hunits).reshape(-1,num_hunits)\n",
        "HTheta=np.random.rand(num_hlayers,num_hunits+1,num_hunits)\n",
        "ETheta=np.random.rand(num_hunits+1,num_eunits).reshape(-1,num_eunits)\n",
        "Hpred1=np.ones((num_hlayers,X.shape[0],num_hunits))\n",
        "Hpred=np.ones((num_hlayers,X.shape[0],num_hunits+1))\n",
        "print(ETheta,ITheta,HTheta)\n",
        "#ETheta=np.ones((X.shape[1])).reshape(-1,1)\n",
        "for i in range(10000):\n",
        "  Ipred1=1/(1+(np.exp(-1*np.matmul(X,ITheta))))\n",
        "  Ipred=np.c_[np.ones((len(X),1)),Ipred1]\n",
        "  for j in range(num_hlayers):\n",
        "    Hpred1[j]=1/(1+(np.exp(-1*np.matmul(Ipred,HTheta[j]))))\n",
        "    Hpred[j]=np.c_[np.ones((len(X),1)),Hpred1[j]]\n",
        "  pred=1/(1+(np.exp(-1*np.matmul(Hpred[num_hlayers-1],ETheta))))\n",
        "  cost=sum((-1/len(X))*(y*np.log(pred)+(1-y)*np.log(1-pred)))\n",
        "  \n",
        "  ITheta=ITheta-alpha*(sum((-2/len(Ipred))*(y-pred)*X).reshape(-1,1)*sum(Ipred1))\n",
        "  HTheta=HTheta-alpha*(sum((-2/len(Ipred))*(y-pred)*Ipred).reshape(-1,1)*sum(Hpred1[num_hlayers-1]))\n",
        "  ETheta=ETheta-alpha*sum((-2/len(Hpred[num_hlayers-1]))*(y-pred)*Hpred[num_hlayers-1]).reshape(-1,1)\n",
        "\n",
        "  #ITheta=ITheta-alpha*sum((-2/len(Ipred))*(y-pred)*Ipred).reshape(-1,1)\n",
        "  #HTheta=HTheta-alpha*sum((-2/len(Hpred))*(y-pred)*Hpred).reshape(-1,1)\n",
        "  #ETheta=ETheta-alpha*sum((-2/len(Hpred))*(y-pred)*Hpred).reshape(-1,1)\n",
        "  \n",
        "  #ETheta=ETheta+alpha*sum(2*(pred-y)*(np.matmul(Ipred,ETheta))*(1-(np.matmul(Ipred,ETheta)))*Ipred).reshape(-1,1)\n",
        "  \n",
        "  if(i%1000==0):\n",
        "    print(cost)"
      ],
      "execution_count": 98,
      "outputs": [
        {
          "output_type": "stream",
          "text": [
            "[[0.36272836]\n",
            " [0.54322682]\n",
            " [0.80692714]\n",
            " [0.45293141]] [[0.55645782 0.37461747 0.51653769]\n",
            " [0.66605856 0.15917824 0.92368356]\n",
            " [0.93280702 0.02360255 0.73823142]] [[[0.00781046 0.88724871 0.42688681]\n",
            "  [0.2192018  0.16410845 0.54691275]\n",
            "  [0.59668805 0.41843806 0.7807491 ]\n",
            "  [0.29907438 0.59638376 0.37494612]]\n",
            "\n",
            " [[0.32681967 0.96812946 0.59520325]\n",
            "  [0.05755753 0.97412103 0.26586079]\n",
            "  [0.30008559 0.29459006 0.83546815]\n",
            "  [0.99545858 0.42219844 0.62509474]]]\n",
            "[1.12135931]\n",
            "[0.63389226]\n",
            "[0.4925359]\n",
            "[0.40496811]\n",
            "[0.3371706]\n",
            "[0.28561927]\n",
            "[0.24597075]\n",
            "[0.21495055]\n",
            "[0.19024751]\n",
            "[0.17024354]\n"
          ],
          "name": "stdout"
        }
      ]
    },
    {
      "cell_type": "code",
      "metadata": {
        "id": "T6073BIsT61d",
        "colab_type": "code",
        "outputId": "a29526a7-0112-4b5c-e26d-deec471a6491",
        "colab": {
          "base_uri": "https://localhost:8080/",
          "height": 85
        }
      },
      "source": [
        "y-pred"
      ],
      "execution_count": 99,
      "outputs": [
        {
          "output_type": "execute_result",
          "data": {
            "text/plain": [
              "array([[ 0.25740068],\n",
              "       [-0.14646467],\n",
              "       [ 0.00090419],\n",
              "       [-0.1464656 ]])"
            ]
          },
          "metadata": {
            "tags": []
          },
          "execution_count": 99
        }
      ]
    },
    {
      "cell_type": "code",
      "metadata": {
        "id": "RZ74cqc_NYgz",
        "colab_type": "code",
        "colab": {}
      },
      "source": [
        "HTheta=np.random.rand(num_hlayers,num_hunits+1,num_hunits)"
      ],
      "execution_count": 0,
      "outputs": []
    },
    {
      "cell_type": "code",
      "metadata": {
        "id": "-_uTdo9yIAmY",
        "colab_type": "code",
        "colab": {
          "base_uri": "https://localhost:8080/",
          "height": 85
        },
        "outputId": "84808bc1-5f25-4efc-e264-d5ea71847920"
      },
      "source": [
        "HTheta"
      ],
      "execution_count": 93,
      "outputs": [
        {
          "output_type": "execute_result",
          "data": {
            "text/plain": [
              "array([[[0.2767468 , 0.55064456, 0.65754802],\n",
              "        [0.21431419, 0.45529122, 0.27711789],\n",
              "        [0.1615788 , 0.83642444, 0.41072138],\n",
              "        [0.19906781, 0.07610002, 0.42633604]]])"
            ]
          },
          "metadata": {
            "tags": []
          },
          "execution_count": 93
        }
      ]
    },
    {
      "cell_type": "code",
      "metadata": {
        "id": "WQOfzqcuQlF4",
        "colab_type": "code",
        "colab": {
          "base_uri": "https://localhost:8080/",
          "height": 34
        },
        "outputId": "d37eda8b-92f7-4428-828e-6fe955b73d56"
      },
      "source": [
        "i"
      ],
      "execution_count": 94,
      "outputs": [
        {
          "output_type": "execute_result",
          "data": {
            "text/plain": [
              "1"
            ]
          },
          "metadata": {
            "tags": []
          },
          "execution_count": 94
        }
      ]
    },
    {
      "cell_type": "code",
      "metadata": {
        "id": "PchYacwGQhMM",
        "colab_type": "code",
        "colab": {}
      },
      "source": [
        ""
      ],
      "execution_count": 0,
      "outputs": []
    },
    {
      "cell_type": "code",
      "metadata": {
        "id": "gPr7wfRbI0iY",
        "colab_type": "code",
        "colab": {
          "base_uri": "https://localhost:8080/",
          "height": 85
        },
        "outputId": "bbd1faf8-6551-4f98-9484-89670d4536c6"
      },
      "source": [
        "Hpred"
      ],
      "execution_count": 70,
      "outputs": [
        {
          "output_type": "execute_result",
          "data": {
            "text/plain": [
              "array([[1.        , 0.88771067, 0.8243774 , 0.66388833],\n",
              "       [1.        , 0.88771067, 0.8243774 , 0.66388833],\n",
              "       [1.        , 0.88771067, 0.8243774 , 0.66388833],\n",
              "       [1.        , 0.88771067, 0.8243774 , 0.66388833]])"
            ]
          },
          "metadata": {
            "tags": []
          },
          "execution_count": 70
        }
      ]
    },
    {
      "cell_type": "code",
      "metadata": {
        "id": "aMEGy4mWI8jf",
        "colab_type": "code",
        "colab": {}
      },
      "source": [
        "Ht=np.ones((num_hlayers,num_hunits+1,num_hunits))"
      ],
      "execution_count": 0,
      "outputs": []
    },
    {
      "cell_type": "code",
      "metadata": {
        "id": "wIPc7Ln4JPY_",
        "colab_type": "code",
        "colab": {
          "base_uri": "https://localhost:8080/",
          "height": 170
        },
        "outputId": "748f9fb9-996c-457f-efe5-76495f20d4d1"
      },
      "source": [
        "Ht"
      ],
      "execution_count": 62,
      "outputs": [
        {
          "output_type": "execute_result",
          "data": {
            "text/plain": [
              "array([[[-3.31610722, -3.30564839, -3.30358725],\n",
              "        [ 6.30420464,  6.42023446,  5.65192502],\n",
              "        [ 4.74558641,  5.01465938,  4.75467511],\n",
              "        [ 0.78897396,  0.86937907,  0.02893208]],\n",
              "\n",
              "       [[ 1.        ,  1.        ,  1.        ],\n",
              "        [ 1.        ,  1.        ,  1.        ],\n",
              "        [ 1.        ,  1.        ,  1.        ],\n",
              "        [ 1.        ,  1.        ,  1.        ]]])"
            ]
          },
          "metadata": {
            "tags": []
          },
          "execution_count": 62
        }
      ]
    },
    {
      "cell_type": "code",
      "metadata": {
        "id": "X-7sZ26pJhT-",
        "colab_type": "code",
        "colab": {}
      },
      "source": [
        "Ht[0]=HTheta"
      ],
      "execution_count": 0,
      "outputs": []
    }
  ]
}