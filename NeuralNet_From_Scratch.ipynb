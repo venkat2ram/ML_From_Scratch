{
  "nbformat": 4,
  "nbformat_minor": 0,
  "metadata": {
    "colab": {
      "name": "NeuralNet_From_Scratch.ipynb",
      "provenance": [],
      "include_colab_link": true
    },
    "kernelspec": {
      "name": "python3",
      "display_name": "Python 3"
    }
  },
  "cells": [
    {
      "cell_type": "markdown",
      "metadata": {
        "id": "view-in-github",
        "colab_type": "text"
      },
      "source": [
        "<a href=\"https://colab.research.google.com/github/venkat2ram/ML_From_Scratch/blob/master/NeuralNet_From_Scratch.ipynb\" target=\"_parent\"><img src=\"https://colab.research.google.com/assets/colab-badge.svg\" alt=\"Open In Colab\"/></a>"
      ]
    },
    {
      "cell_type": "code",
      "metadata": {
        "id": "w19lCEm9AvA8",
        "colab_type": "code",
        "colab": {}
      },
      "source": [
        "data=[[1.0,20.0,12.0],[1.0,21.0,9.0],[1.0,22.0,20.0],[1.0,18.0,6.0]]\n",
        "y=[[1.0],[0.0],[1.0],[0.0]]"
      ],
      "execution_count": 0,
      "outputs": []
    },
    {
      "cell_type": "code",
      "metadata": {
        "id": "cjBYXpODBsJj",
        "colab_type": "code",
        "colab": {}
      },
      "source": [
        "import numpy as np\n",
        "import matplotlib.pyplot as plt"
      ],
      "execution_count": 0,
      "outputs": []
    },
    {
      "cell_type": "code",
      "metadata": {
        "id": "v0_o5uCgBtlZ",
        "colab_type": "code",
        "colab": {}
      },
      "source": [
        "X=np.array(data)\n",
        "y=np.array(y)"
      ],
      "execution_count": 0,
      "outputs": []
    },
    {
      "cell_type": "code",
      "metadata": {
        "id": "GxHx7BH9B2Ki",
        "colab_type": "code",
        "outputId": "c25c87ec-728e-469d-e9ed-87f5d3faed85",
        "colab": {
          "base_uri": "https://localhost:8080/",
          "height": 306
        }
      },
      "source": [
        "plot_cost=np.array([[0.0,0.0],[0.0,0.0],[0.0,0.0],[0.0,0.0],[0.0,0.0],[0.0,0.0],[0.0,0.0],[0.0,0.0],[0.0,0.0],[0.0,0.0]])\n",
        "j=0\n",
        "num_hunits=2\n",
        "num_eunits=1\n",
        "num_hlayers=1\n",
        "alpha=0.0005\n",
        "Ipred=np.ones((X.shape[0],num_hunits+1))\n",
        "ITheta=np.random.rand(X.shape[1],num_hunits).reshape(-1,num_hunits)\n",
        "ETheta=np.random.rand(X.shape[1],num_eunits).reshape(-1,num_eunits)\n",
        "HTheta=np.random.rand(Ipred.shape[1],num_hunits).reshape(-1,num_hunits)\n",
        "print(ETheta,ITheta)\n",
        "#ETheta=np.ones((X.shape[1])).reshape(-1,1)\n",
        "for i in range(10000000):\n",
        "  Ipred1=1/(1+(np.exp(-1*np.matmul(X,ITheta))))\n",
        "  Ipred=np.c_[np.ones((len(X),1)),Ipred1]\n",
        "  Hpred1=1/(1+(np.exp(-1*np.matmul(Ipred,HTheta))))\n",
        "  Hpred=np.c_[np.ones((len(X),1)),Hpred1]\n",
        "  pred=1/(1+(np.exp(-1*np.matmul(Hpred,ETheta))))\n",
        "  cost=sum((-1/len(X))*(y*np.log(pred)+(1-y)*np.log(1-pred)))\n",
        "  ETheta=ETheta-alpha*sum((-2/len(Ipred))*(y-pred)*Ipred).reshape(-1,1)\n",
        "  #ETheta=ETheta+alpha*sum(2*(pred-y)*(np.matmul(Ipred,ETheta))*(1-(np.matmul(Ipred,ETheta)))*Ipred).reshape(-1,1)\n",
        "  ITheta=ITheta-alpha*sum((-2/len(Ipred))*(y-pred)*X).reshape(-1,1)\n",
        "  if(i%1000000==0):\n",
        "    print(cost)"
      ],
      "execution_count": 21,
      "outputs": [
        {
          "output_type": "stream",
          "text": [
            "[[0.28231872]\n",
            " [0.18952636]\n",
            " [0.9260682 ]] [[0.66635421 0.91919308]\n",
            " [0.72030669 0.66138201]\n",
            " [0.83170144 0.99990293]]\n",
            "[0.87478691]\n"
          ],
          "name": "stdout"
        },
        {
          "output_type": "stream",
          "text": [
            "/usr/local/lib/python3.6/dist-packages/ipykernel_launcher.py:14: RuntimeWarning: overflow encountered in exp\n",
            "  \n"
          ],
          "name": "stderr"
        },
        {
          "output_type": "stream",
          "text": [
            "[0.26756947]\n",
            "[0.17990639]\n",
            "[0.1325196]\n",
            "[0.10371894]\n",
            "[0.08468416]\n",
            "[0.07129487]\n",
            "[0.06142069]\n",
            "[0.05386623]\n",
            "[0.04791513]\n"
          ],
          "name": "stdout"
        }
      ]
    },
    {
      "cell_type": "code",
      "metadata": {
        "id": "T6073BIsT61d",
        "colab_type": "code",
        "outputId": "064f5fe4-aac9-4a44-e95b-5ea2619999e1",
        "colab": {
          "base_uri": "https://localhost:8080/",
          "height": 85
        }
      },
      "source": [
        "pred"
      ],
      "execution_count": 22,
      "outputs": [
        {
          "output_type": "execute_result",
          "data": {
            "text/plain": [
              "array([[0.92162214],\n",
              "       [0.04440326],\n",
              "       [1.        ],\n",
              "       [0.04440326]])"
            ]
          },
          "metadata": {
            "tags": []
          },
          "execution_count": 22
        }
      ]
    },
    {
      "cell_type": "code",
      "metadata": {
        "id": "khAnOZV-0lTL",
        "colab_type": "code",
        "outputId": "48b2b324-d9a6-416a-f7ef-ecf15e1dea1f",
        "colab": {
          "base_uri": "https://localhost:8080/",
          "height": 85
        }
      },
      "source": [
        "Ipred"
      ],
      "execution_count": 9,
      "outputs": [
        {
          "output_type": "execute_result",
          "data": {
            "text/plain": [
              "array([[1.00000000e+000, 6.47254871e-007, 5.08474995e-001],\n",
              "       [1.00000000e+000, 5.82199467e-102, 2.10553290e-096],\n",
              "       [1.00000000e+000, 1.00000000e+000, 1.00000000e+000],\n",
              "       [1.00000000e+000, 1.00391742e-132, 1.76674017e-128]])"
            ]
          },
          "metadata": {
            "tags": []
          },
          "execution_count": 9
        }
      ]
    },
    {
      "cell_type": "code",
      "metadata": {
        "id": "__CjpXxvzAAs",
        "colab_type": "code",
        "colab": {
          "base_uri": "https://localhost:8080/",
          "height": 34
        },
        "outputId": "f926a76a-c95c-4db2-bae8-343f5a8aa293"
      },
      "source": [
        "print(X.shape[0],num_hunits+1)"
      ],
      "execution_count": 11,
      "outputs": [
        {
          "output_type": "stream",
          "text": [
            "4 3\n"
          ],
          "name": "stdout"
        }
      ]
    },
    {
      "cell_type": "code",
      "metadata": {
        "id": "w4oW32F3BhZf",
        "colab_type": "code",
        "colab": {
          "base_uri": "https://localhost:8080/",
          "height": 68
        },
        "outputId": "03ef9146-ce61-4626-f061-64b67f160638"
      },
      "source": [
        "np.random.rand(X.shape[1]).reshape(-1,1)"
      ],
      "execution_count": 8,
      "outputs": [
        {
          "output_type": "execute_result",
          "data": {
            "text/plain": [
              "array([[0.31656609],\n",
              "       [0.70762069],\n",
              "       [0.03863844]])"
            ]
          },
          "metadata": {
            "tags": []
          },
          "execution_count": 8
        }
      ]
    }
  ]
}