{
  "nbformat": 4,
  "nbformat_minor": 0,
  "metadata": {
    "colab": {
      "name": "NeuralNet_From_Scratch.ipynb",
      "provenance": [],
      "include_colab_link": true
    },
    "kernelspec": {
      "name": "python3",
      "display_name": "Python 3"
    }
  },
  "cells": [
    {
      "cell_type": "markdown",
      "metadata": {
        "id": "view-in-github",
        "colab_type": "text"
      },
      "source": [
        "<a href=\"https://colab.research.google.com/github/venkat2ram/ML_From_Scratch/blob/master/NeuralNet_From_Scratch.ipynb\" target=\"_parent\"><img src=\"https://colab.research.google.com/assets/colab-badge.svg\" alt=\"Open In Colab\"/></a>"
      ]
    },
    {
      "cell_type": "code",
      "metadata": {
        "id": "w19lCEm9AvA8",
        "colab_type": "code",
        "colab": {}
      },
      "source": [
        "data=[[1.0,20.0,12.0],[1.0,21.0,9.0],[1.0,22.0,20.0],[1.0,18.0,6.0]]\n",
        "y=[[1.0],[0.0],[1.0],[0.0]]"
      ],
      "execution_count": 0,
      "outputs": []
    },
    {
      "cell_type": "code",
      "metadata": {
        "id": "cjBYXpODBsJj",
        "colab_type": "code",
        "colab": {}
      },
      "source": [
        "import numpy as np\n",
        "import matplotlib.pyplot as plt"
      ],
      "execution_count": 0,
      "outputs": []
    },
    {
      "cell_type": "code",
      "metadata": {
        "id": "v0_o5uCgBtlZ",
        "colab_type": "code",
        "colab": {}
      },
      "source": [
        "X=np.array(data)\n",
        "y=np.array(y)"
      ],
      "execution_count": 0,
      "outputs": []
    },
    {
      "cell_type": "code",
      "metadata": {
        "id": "GxHx7BH9B2Ki",
        "colab_type": "code",
        "outputId": "0929d62f-7138-444e-fcc2-58e2cc4e5e2e",
        "colab": {
          "base_uri": "https://localhost:8080/",
          "height": 306
        }
      },
      "source": [
        "plot_cost=np.array([[0.0,0.0],[0.0,0.0],[0.0,0.0],[0.0,0.0],[0.0,0.0],[0.0,0.0],[0.0,0.0],[0.0,0.0],[0.0,0.0],[0.0,0.0]])\n",
        "j=0\n",
        "num_hunits=2\n",
        "num_eunits=1\n",
        "num_hlayers=1\n",
        "alpha=0.005\n",
        "\n",
        "ITheta=np.ones((X.shape[1],num_hunits)).reshape(-1,num_hunits)\n",
        "HTheta=np.ones((X.shape[1],num_hunits)).reshape(-1,num_hunits)\n",
        "ETheta=np.ones((X.shape[1],num_eunits)).reshape(-1,num_eunits)\n",
        "\n",
        "#ITheta=np.random.rand(X.shape[1],num_hunits).reshape(-1,num_hunits)\n",
        "#HTheta=np.random.rand(X.shape[1],num_hunits).reshape(-1,num_hunits)\n",
        "#ETheta=np.random.rand(X.shape[1],num_eunits).reshape(-1,num_eunits)\n",
        "print(ETheta,ITheta,HTheta)\n",
        "#ETheta=np.ones((X.shape[1])).reshape(-1,1)\n",
        "for i in range(10000):\n",
        "  Ipred1=1/(1+(np.exp(-1*np.matmul(X,ITheta))))\n",
        "  Ipred=np.c_[np.ones((len(X),1)),Ipred1]\n",
        "  Hpred1=1/(1+(np.exp(-1*np.matmul(Ipred,HTheta))))\n",
        "  Hpred=np.c_[np.ones((len(X),1)),Hpred1]\n",
        "  pred=1/(1+(np.exp(-1*np.matmul(Hpred,ETheta))))\n",
        "  cost=sum((-1/len(X))*(y*np.log(pred)+(1-y)*np.log(1-pred)))\n",
        "  \n",
        "  ITheta=ITheta-alpha*(sum((-2/len(Ipred))*(y-pred)*X).reshape(-1,1)*sum(Ipred1))\n",
        "  HTheta=HTheta-alpha*(sum((-2/len(Ipred))*(y-pred)*Ipred).reshape(-1,1)*sum(Hpred1))\n",
        "  ETheta=ETheta-alpha*sum((-2/len(Hpred))*(y-pred)*Hpred).reshape(-1,1)\n",
        "\n",
        "  #ITheta=ITheta-alpha*sum((-2/len(Ipred))*(y-pred)*Ipred).reshape(-1,1)\n",
        "  #HTheta=HTheta-alpha*sum((-2/len(Hpred))*(y-pred)*Hpred).reshape(-1,1)\n",
        "  #ETheta=ETheta-alpha*sum((-2/len(Hpred))*(y-pred)*Hpred).reshape(-1,1)\n",
        "  \n",
        "  #ETheta=ETheta+alpha*sum(2*(pred-y)*(np.matmul(Ipred,ETheta))*(1-(np.matmul(Ipred,ETheta)))*Ipred).reshape(-1,1)\n",
        "  \n",
        "  if(i%1000==0):\n",
        "    print(cost)"
      ],
      "execution_count": 146,
      "outputs": [
        {
          "output_type": "stream",
          "text": [
            "[[1.]\n",
            " [1.]\n",
            " [1.]] [[1. 1.]\n",
            " [1. 1.]\n",
            " [1. 1.]] [[1. 1.]\n",
            " [1. 1.]\n",
            " [1. 1.]]\n",
            "[1.50586906]\n",
            "[0.69339317]\n",
            "[0.56175297]\n",
            "[0.45294819]\n",
            "[0.36961716]\n",
            "[0.30869218]\n",
            "[0.26336754]\n",
            "[0.22877226]\n",
            "[0.20170331]\n",
            "[0.18005197]\n"
          ],
          "name": "stdout"
        }
      ]
    },
    {
      "cell_type": "code",
      "metadata": {
        "id": "T6073BIsT61d",
        "colab_type": "code",
        "outputId": "ed73f1da-e0d1-495b-e8f7-c73cfe259ea9",
        "colab": {
          "base_uri": "https://localhost:8080/",
          "height": 85
        }
      },
      "source": [
        "pred"
      ],
      "execution_count": 147,
      "outputs": [
        {
          "output_type": "execute_result",
          "data": {
            "text/plain": [
              "array([[0.73249157],\n",
              "       [0.15411208],\n",
              "       [0.99638087],\n",
              "       [0.15411208]])"
            ]
          },
          "metadata": {
            "tags": []
          },
          "execution_count": 147
        }
      ]
    },
    {
      "cell_type": "code",
      "metadata": {
        "id": "khAnOZV-0lTL",
        "colab_type": "code",
        "outputId": "d7974764-d288-4399-c5fa-9381c7045d2a",
        "colab": {
          "base_uri": "https://localhost:8080/",
          "height": 136
        }
      },
      "source": [
        "print(ETheta,ITheta,HTheta)"
      ],
      "execution_count": 124,
      "outputs": [
        {
          "output_type": "stream",
          "text": [
            "[[-2.54059241]\n",
            " [ 5.56702384]\n",
            " [ 5.56702384]] [[ -2.00698422  -2.00698422]\n",
            " [-44.85580451 -44.85580451]\n",
            " [ 74.83918371  74.83918371]] [[-4.60602814 -4.60602814]\n",
            " [ 8.03320461  8.03320461]\n",
            " [ 8.03320461  8.03320461]]\n"
          ],
          "name": "stdout"
        }
      ]
    },
    {
      "cell_type": "code",
      "metadata": {
        "id": "__CjpXxvzAAs",
        "colab_type": "code",
        "outputId": "273ffbf6-d08d-477b-8afa-5f1d1698a567",
        "colab": {
          "base_uri": "https://localhost:8080/",
          "height": 136
        }
      },
      "source": [
        "plot_cost=np.array([[0.0,0.0],[0.0,0.0],[0.0,0.0],[0.0,0.0],[0.0,0.0],[0.0,0.0],[0.0,0.0],[0.0,0.0],[0.0,0.0],[0.0,0.0]])\n",
        "j=0\n",
        "num_hunits=2\n",
        "num_eunits=1\n",
        "num_hlayers=1\n",
        "alpha=0.5\n",
        "\n",
        "#ITheta=np.ones((X.shape[1],num_hunits)).reshape(-1,num_hunits)\n",
        "#HTheta=np.ones((X.shape[1],num_hunits)).reshape(-1,num_hunits)\n",
        "#ETheta=np.ones((X.shape[1],num_eunits)).reshape(-1,num_eunits)\n",
        "\n",
        "ITheta=np.random.rand(X.shape[1],num_hunits).reshape(-1,num_hunits)\n",
        "HTheta=np.random.rand(X.shape[1],num_hunits).reshape(-1,num_hunits)\n",
        "ETheta=np.random.rand(X.shape[1],num_eunits).reshape(-1,num_eunits)\n",
        "print(ETheta,ITheta,HTheta)\n",
        "Ipred1=1/(1+(np.exp(-1*np.matmul(X,ITheta))))\n",
        "Ipred=np.c_[np.ones((len(X),1)),Ipred1]\n",
        "Hpred1=1/(1+(np.exp(-1*np.matmul(Ipred,HTheta))))\n",
        "Hpred=np.c_[np.ones((len(X),1)),Hpred1]\n",
        "pred=1/(1+(np.exp(-1*np.matmul(Hpred,ETheta))))\n",
        "cost=sum((-1/len(X))*(y*np.log(pred)+(1-y)*np.log(1-pred)))\n",
        "  \n",
        "ITheta=ITheta-alpha*(sum((-2/len(Ipred))*(y-pred)*X).reshape(-1,1)*sum(Ipred1))\n",
        "HTheta=HTheta-alpha*(sum((-2/len(Ipred))*(y-pred)*Ipred).reshape(-1,1)*sum(Hpred1))\n",
        "ETheta=ETheta-alpha*sum((-2/len(Hpred))*(y-pred)*Hpred).reshape(-1,1)"
      ],
      "execution_count": 93,
      "outputs": [
        {
          "output_type": "stream",
          "text": [
            "[[0.94435415]\n",
            " [0.62349965]\n",
            " [0.19064888]] [[0.00570089 0.20349214]\n",
            " [0.0157739  0.48534152]\n",
            " [0.44601919 0.57317976]] [[0.03740053 0.80065007]\n",
            " [0.26474903 0.8109223 ]\n",
            " [0.82886538 0.41308136]]\n"
          ],
          "name": "stdout"
        }
      ]
    },
    {
      "cell_type": "code",
      "metadata": {
        "id": "KAtyNyiwJMEB",
        "colab_type": "code",
        "colab": {}
      },
      "source": [
        "Ipred1=1/(1+(np.exp(-1*np.matmul(X,ITheta))))\n",
        "Ipred=np.c_[np.ones((len(X),1)),Ipred1]\n",
        "Hpred1=1/(1+(np.exp(-1*np.matmul(Ipred,HTheta))))\n",
        "Hpred=np.c_[np.ones((len(X),1)),Hpred1]\n",
        "pred=1/(1+(np.exp(-1*np.matmul(Hpred,ETheta))))\n",
        "cost=sum((-1/len(X))*(y*np.log(pred)+(1-y)*np.log(1-pred)))"
      ],
      "execution_count": 0,
      "outputs": []
    },
    {
      "cell_type": "code",
      "metadata": {
        "id": "w4oW32F3BhZf",
        "colab_type": "code",
        "outputId": "4e534a83-e808-4d99-9182-69bcf0b4574d",
        "colab": {
          "base_uri": "https://localhost:8080/",
          "height": 85
        }
      },
      "source": [
        "Hpred"
      ],
      "execution_count": 84,
      "outputs": [
        {
          "output_type": "execute_result",
          "data": {
            "text/plain": [
              "array([[1.        , 0.39166963, 0.41838283],\n",
              "       [1.        , 0.39166963, 0.41838283],\n",
              "       [1.        , 0.39166963, 0.41838283],\n",
              "       [1.        , 0.39166963, 0.41838283]])"
            ]
          },
          "metadata": {
            "tags": []
          },
          "execution_count": 84
        }
      ]
    },
    {
      "cell_type": "code",
      "metadata": {
        "id": "GUM6pzze_9u_",
        "colab_type": "code",
        "colab": {
          "base_uri": "https://localhost:8080/",
          "height": 68
        },
        "outputId": "18821c3b-5587-4319-96ad-ad3c964ef8dc"
      },
      "source": [
        "ETheta"
      ],
      "execution_count": 95,
      "outputs": [
        {
          "output_type": "execute_result",
          "data": {
            "text/plain": [
              "array([[ 0.61467053],\n",
              "       [ 0.37486989],\n",
              "       [-0.09950996]])"
            ]
          },
          "metadata": {
            "tags": []
          },
          "execution_count": 95
        }
      ]
    },
    {
      "cell_type": "code",
      "metadata": {
        "id": "7roIrNFqAz4D",
        "colab_type": "code",
        "colab": {
          "base_uri": "https://localhost:8080/",
          "height": 136
        },
        "outputId": "0e946056-20cb-496b-9119-bd776029fcb4"
      },
      "source": [
        "print(ETheta,ITheta,HTheta)"
      ],
      "execution_count": 67,
      "outputs": [
        {
          "output_type": "stream",
          "text": [
            "[[0.13171082]\n",
            " [0.37963954]\n",
            " [0.34410786]] [[ 0.51153109  0.65112262]\n",
            " [-3.20571225 -2.38521716]\n",
            " [ 0.0824337   0.29990176]] [[0.69931632 0.73559786]\n",
            " [0.99800209 0.05316395]\n",
            " [0.5955427  0.54081772]]\n"
          ],
          "name": "stdout"
        }
      ]
    },
    {
      "cell_type": "code",
      "metadata": {
        "id": "uGtBxRuBAf6q",
        "colab_type": "code",
        "colab": {
          "base_uri": "https://localhost:8080/",
          "height": 34
        },
        "outputId": "2a7c868f-cefa-449b-9943-621f898a4a58"
      },
      "source": [
        "sum(Ipred1)"
      ],
      "execution_count": 43,
      "outputs": [
        {
          "output_type": "execute_result",
          "data": {
            "text/plain": [
              "array([2., 2.])"
            ]
          },
          "metadata": {
            "tags": []
          },
          "execution_count": 43
        }
      ]
    },
    {
      "cell_type": "code",
      "metadata": {
        "id": "Wk-Sv167Bu1I",
        "colab_type": "code",
        "colab": {
          "base_uri": "https://localhost:8080/",
          "height": 68
        },
        "outputId": "4da7525f-ac0b-46a6-b224-2951d49b5ab0"
      },
      "source": [
        "(alpha*sum((-2/len(Ipred))*(y-pred)*X).reshape(-1,1))*I"
      ],
      "execution_count": 64,
      "outputs": [
        {
          "output_type": "execute_result",
          "data": {
            "text/plain": [
              "array([[ 0.43894518,  0.65841777],\n",
              "       [ 8.13866381, 12.20799571],\n",
              "       [ 0.90767675,  1.36151512]])"
            ]
          },
          "metadata": {
            "tags": []
          },
          "execution_count": 64
        }
      ]
    },
    {
      "cell_type": "code",
      "metadata": {
        "id": "-6pTtQoqCNBj",
        "colab_type": "code",
        "colab": {}
      },
      "source": [
        "HTheta=HTheta-alpha*(sum((-2/len(Ipred))*(y-pred)*Ipred).reshape(-1,1)*sum(Ipred1))"
      ],
      "execution_count": 0,
      "outputs": []
    }
  ]
}