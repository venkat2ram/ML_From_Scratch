{
  "nbformat": 4,
  "nbformat_minor": 0,
  "metadata": {
    "colab": {
      "name": "NeuralNet_From_Scratch2.ipynb",
      "provenance": [],
      "authorship_tag": "ABX9TyNgP5dlF1z/vJd/rYqgKtxK",
      "include_colab_link": true
    },
    "kernelspec": {
      "name": "python3",
      "display_name": "Python 3"
    },
    "accelerator": "TPU"
  },
  "cells": [
    {
      "cell_type": "markdown",
      "metadata": {
        "id": "view-in-github",
        "colab_type": "text"
      },
      "source": [
        "<a href=\"https://colab.research.google.com/github/venkat2ram/ML_From_Scratch/blob/master/NeuralNet_From_Scratch2.ipynb\" target=\"_parent\"><img src=\"https://colab.research.google.com/assets/colab-badge.svg\" alt=\"Open In Colab\"/></a>"
      ]
    },
    {
      "cell_type": "code",
      "metadata": {
        "id": "npj_CK5AK15q",
        "colab_type": "code",
        "colab": {}
      },
      "source": [
        "import numpy as np\n",
        "import pandas as pd"
      ],
      "execution_count": 0,
      "outputs": []
    },
    {
      "cell_type": "code",
      "metadata": {
        "id": "VixCtjEkm3OB",
        "colab_type": "code",
        "colab": {}
      },
      "source": [
        "data=pd.read_csv('/data_banknote_authentication.csv')"
      ],
      "execution_count": 0,
      "outputs": []
    },
    {
      "cell_type": "code",
      "metadata": {
        "id": "47P5gZh0m__6",
        "colab_type": "code",
        "outputId": "26fc5b2c-188d-4b11-8af2-9a003edbe1b9",
        "colab": {
          "base_uri": "https://localhost:8080/",
          "height": 195
        }
      },
      "source": [
        "data.head()"
      ],
      "execution_count": 6,
      "outputs": [
        {
          "output_type": "execute_result",
          "data": {
            "text/html": [
              "<div>\n",
              "<style scoped>\n",
              "    .dataframe tbody tr th:only-of-type {\n",
              "        vertical-align: middle;\n",
              "    }\n",
              "\n",
              "    .dataframe tbody tr th {\n",
              "        vertical-align: top;\n",
              "    }\n",
              "\n",
              "    .dataframe thead th {\n",
              "        text-align: right;\n",
              "    }\n",
              "</style>\n",
              "<table border=\"1\" class=\"dataframe\">\n",
              "  <thead>\n",
              "    <tr style=\"text-align: right;\">\n",
              "      <th></th>\n",
              "      <th>a</th>\n",
              "      <th>b</th>\n",
              "      <th>c</th>\n",
              "      <th>d</th>\n",
              "      <th>y</th>\n",
              "    </tr>\n",
              "  </thead>\n",
              "  <tbody>\n",
              "    <tr>\n",
              "      <th>0</th>\n",
              "      <td>3.62160</td>\n",
              "      <td>8.6661</td>\n",
              "      <td>-2.8073</td>\n",
              "      <td>-0.44699</td>\n",
              "      <td>0</td>\n",
              "    </tr>\n",
              "    <tr>\n",
              "      <th>1</th>\n",
              "      <td>4.54590</td>\n",
              "      <td>8.1674</td>\n",
              "      <td>-2.4586</td>\n",
              "      <td>-1.46210</td>\n",
              "      <td>0</td>\n",
              "    </tr>\n",
              "    <tr>\n",
              "      <th>2</th>\n",
              "      <td>3.86600</td>\n",
              "      <td>-2.6383</td>\n",
              "      <td>1.9242</td>\n",
              "      <td>0.10645</td>\n",
              "      <td>0</td>\n",
              "    </tr>\n",
              "    <tr>\n",
              "      <th>3</th>\n",
              "      <td>3.45660</td>\n",
              "      <td>9.5228</td>\n",
              "      <td>-4.0112</td>\n",
              "      <td>-3.59440</td>\n",
              "      <td>0</td>\n",
              "    </tr>\n",
              "    <tr>\n",
              "      <th>4</th>\n",
              "      <td>0.32924</td>\n",
              "      <td>-4.4552</td>\n",
              "      <td>4.5718</td>\n",
              "      <td>-0.98880</td>\n",
              "      <td>0</td>\n",
              "    </tr>\n",
              "  </tbody>\n",
              "</table>\n",
              "</div>"
            ],
            "text/plain": [
              "         a       b       c        d  y\n",
              "0  3.62160  8.6661 -2.8073 -0.44699  0\n",
              "1  4.54590  8.1674 -2.4586 -1.46210  0\n",
              "2  3.86600 -2.6383  1.9242  0.10645  0\n",
              "3  3.45660  9.5228 -4.0112 -3.59440  0\n",
              "4  0.32924 -4.4552  4.5718 -0.98880  0"
            ]
          },
          "metadata": {
            "tags": []
          },
          "execution_count": 6
        }
      ]
    },
    {
      "cell_type": "code",
      "metadata": {
        "id": "ZwOmVEKbnymf",
        "colab_type": "code",
        "colab": {}
      },
      "source": [
        "X=data[['a','b','c','d']].to_numpy().T\n",
        "Y=data[['y']].to_numpy().reshape(1,-1)"
      ],
      "execution_count": 0,
      "outputs": []
    },
    {
      "cell_type": "code",
      "metadata": {
        "id": "-3OL_dncoeE9",
        "colab_type": "code",
        "outputId": "14b58487-3cff-4fa8-941e-4768c5c7233a",
        "colab": {
          "base_uri": "https://localhost:8080/",
          "height": 151
        }
      },
      "source": [
        "X"
      ],
      "execution_count": 8,
      "outputs": [
        {
          "output_type": "execute_result",
          "data": {
            "text/plain": [
              "array([[  3.6216 ,   4.5459 ,   3.866  , ...,  -3.7503 ,  -3.5637 ,\n",
              "         -2.5419 ],\n",
              "       [  8.6661 ,   8.1674 ,  -2.6383 , ..., -13.4586 ,  -8.3827 ,\n",
              "         -0.65804],\n",
              "       [ -2.8073 ,  -2.4586 ,   1.9242 , ...,  17.5932 ,  12.393  ,\n",
              "          2.6842 ],\n",
              "       [ -0.44699,  -1.4621 ,   0.10645, ...,  -2.7771 ,  -1.2823 ,\n",
              "          1.1952 ]])"
            ]
          },
          "metadata": {
            "tags": []
          },
          "execution_count": 8
        }
      ]
    },
    {
      "cell_type": "code",
      "metadata": {
        "id": "igRfPwMQLKis",
        "colab_type": "code",
        "colab": {}
      },
      "source": [
        "def init_params(layer_dims):\n",
        "  np.random.seed(3)\n",
        "  L=len(layer_dims)\n",
        "  params={}\n",
        "  for l in range(1,L):\n",
        "    params['w'+str(l)]=np.random.randn(layer_dims[l],layer_dims[l-1])\n",
        "    #params['w'+str(l)]=np.ones((layer_dims[l],layer_dims[l-1]))\n",
        "    params['b'+str(l)]=np.zeros((layer_dims[l],1))\n",
        "  return params\n"
      ],
      "execution_count": 0,
      "outputs": []
    },
    {
      "cell_type": "code",
      "metadata": {
        "id": "Rf3qEISiPX7i",
        "colab_type": "code",
        "colab": {}
      },
      "source": [
        "def sigmoid(Z):\n",
        "  A=1/(1+np.exp(np.dot(-1,Z)))\n",
        "  cache=(Z)\n",
        "  return A,cache"
      ],
      "execution_count": 0,
      "outputs": []
    },
    {
      "cell_type": "code",
      "metadata": {
        "id": "lu1Hs6hLQXU2",
        "colab_type": "code",
        "colab": {}
      },
      "source": [
        "def forward_prop(X,params):\n",
        "  A=X\n",
        "  caches=[]\n",
        "  L=len(params)//2\n",
        "  for l in range(1,L+1):\n",
        "    A_prev=A\n",
        "    Z=np.dot(params['w'+str(l)],A_prev)+params['b'+str(l)]\n",
        "    linear_cache=(A_prev,params['w'+str(l)],params['b'+str(l)])\n",
        "    A,activation_cache=sigmoid(Z)\n",
        "    cache=(linear_cache,activation_cache)\n",
        "    caches.append(cache)\n",
        "  return A,caches   \n"
      ],
      "execution_count": 0,
      "outputs": []
    },
    {
      "cell_type": "code",
      "metadata": {
        "id": "xUemRgqkjI8l",
        "colab_type": "code",
        "colab": {}
      },
      "source": [
        "def cost_function(A, Y):\n",
        "  m=Y.shape[1]\n",
        "  cost=(-1/m)*np.sum(np.dot(np.log(A),Y.T)+np.dot(np.log(1-A),1-Y.T))\n",
        "  return cost"
      ],
      "execution_count": 0,
      "outputs": []
    },
    {
      "cell_type": "code",
      "metadata": {
        "id": "CDwm7g_SamET",
        "colab_type": "code",
        "colab": {}
      },
      "source": [
        "def one_layer_backward(dA,cache):\n",
        "  linear_cache, activation_cache=cache\n",
        "  \n",
        "  Z=activation_cache\n",
        "  sig,c=sigmoid(Z)\n",
        "  dZ=dA*sig*(np.ones(Z.shape)-sig)\n",
        "\n",
        "  A_prev,W,b=linear_cache\n",
        "  m=A_prev.shape[1]\n",
        "  dW=(1/m)*(np.dot(dZ,A_prev.T))\n",
        "  dB=(1/m)*(np.sum(dZ,axis=1,keepdims=True))\n",
        "  dA_prev=(1/m)*np.dot(W.T,dZ)\n",
        "\n",
        "  return dA_prev,dW,dB"
      ],
      "execution_count": 0,
      "outputs": []
    },
    {
      "cell_type": "code",
      "metadata": {
        "id": "o1ofYJfZn5rT",
        "colab_type": "code",
        "colab": {}
      },
      "source": [
        "def backprop(AL,Y,caches):\n",
        "  grads={}\n",
        "  L=len(caches)\n",
        "  Y = Y.reshape(AL.shape)\n",
        "  dA=-1*(np.divide(Y,AL)+np.divide(1-Y,1-AL))\n",
        "  grads['dA'+str(L-1)],grads['dW'+str(L-1)],grads['dB'+str(L-1)]=one_layer_backward(dA,caches[L-1])\n",
        "  for l in reversed(range(L-1)):\n",
        "    #print(l)\n",
        "    grads['dA'+str(l)],grads['dW'+str(l)],grads['dB'+str(l)]=one_layer_backward(grads['dA'+str(l+1)],caches[l])\n",
        "  return grads\n"
      ],
      "execution_count": 0,
      "outputs": []
    },
    {
      "cell_type": "code",
      "metadata": {
        "id": "b21uSUm3bEFz",
        "colab_type": "code",
        "colab": {}
      },
      "source": [
        "def update_parameters(parameters, grads, learning_rate):\n",
        "  L=len(parameters)//2\n",
        "  for l in range(1,L):\n",
        "    parameters['w'+str(l)]=parameters['w'+str(l)]-learning_rate*grads['dW'+str(l-1)]\n",
        "    parameters['b'+str(l)]=parameters['b'+str(l)]-learning_rate*grads['dB'+str(l-1)]\n",
        "  return parameters\n"
      ],
      "execution_count": 0,
      "outputs": []
    },
    {
      "cell_type": "code",
      "metadata": {
        "id": "wPHCFnf3XlXP",
        "colab_type": "code",
        "colab": {}
      },
      "source": [
        "def train(X, Y, layer_dims, epochs, lr):\n",
        "    params = init_params(layer_dims)\n",
        "    cost_history = []\n",
        "    \n",
        "    for i in range(epochs):\n",
        "        Y_hat, caches = forward_prop(X, params)\n",
        "        cost = cost_function(Y_hat, Y)\n",
        "        cost_history.append(cost)\n",
        "        grads = backprop(Y_hat, Y, caches)\n",
        "        \n",
        "        params = update_parameters(params, grads, lr)\n",
        "        if(i%15000==1):\n",
        "          print(cost)\n",
        "        \n",
        "        \n",
        "    return params, cost_history"
      ],
      "execution_count": 0,
      "outputs": []
    },
    {
      "cell_type": "code",
      "metadata": {
        "id": "x5ZRk0gzXnhk",
        "colab_type": "code",
        "outputId": "0bd28b5a-1136-445a-93b1-7daa18fe0d7d",
        "colab": {
          "base_uri": "https://localhost:8080/",
          "height": 185
        }
      },
      "source": [
        "layer_dims=[4,2,1]\n",
        "p,c=train(X,Y,layer_dims,150000,1)"
      ],
      "execution_count": 167,
      "outputs": [
        {
          "output_type": "stream",
          "text": [
            "0.7410930844359469\n",
            "0.729122305091288\n",
            "0.7098744862264953\n",
            "0.7050869492960836\n",
            "0.7018639356381856\n",
            "0.6996342675129796\n",
            "0.6979580273161388\n",
            "0.6966213172356486\n",
            "0.6955160028988366\n",
            "0.6945809333463774\n"
          ],
          "name": "stdout"
        }
      ]
    },
    {
      "cell_type": "code",
      "metadata": {
        "id": "_467x7-58-3-",
        "colab_type": "code",
        "colab": {
          "base_uri": "https://localhost:8080/",
          "height": 151
        },
        "outputId": "75f414ce-2897-4440-cf87-9be9cf4d0125"
      },
      "source": [
        "p"
      ],
      "execution_count": 157,
      "outputs": [
        {
          "output_type": "execute_result",
          "data": {
            "text/plain": [
              "{'b1': array([[-1.89161397],\n",
              "        [-2.6577572 ],\n",
              "        [-0.15684041]]),\n",
              " 'b2': array([[0.]]),\n",
              " 'w1': array([[-0.04462166, -1.26649387, -1.73238929, -0.51962403],\n",
              "        [-0.26622896, -0.72292179, -1.15658356,  0.73876534],\n",
              "        [-0.26309769, -0.66857258, -1.31957786,  0.90468082]]),\n",
              " 'w2': array([[0.88131804, 1.70957306, 0.05003364]])}"
            ]
          },
          "metadata": {
            "tags": []
          },
          "execution_count": 157
        }
      ]
    },
    {
      "cell_type": "code",
      "metadata": {
        "id": "PRTfmno5A43N",
        "colab_type": "code",
        "colab": {}
      },
      "source": [
        "A,c=forward_prop(X,p)"
      ],
      "execution_count": 0,
      "outputs": []
    },
    {
      "cell_type": "code",
      "metadata": {
        "id": "mxX0wFs5BMUX",
        "colab_type": "code",
        "colab": {}
      },
      "source": [
        "A[A<=0.37]=0\n",
        "A[A>0.37]=1"
      ],
      "execution_count": 0,
      "outputs": []
    },
    {
      "cell_type": "code",
      "metadata": {
        "id": "sf1yFoUBCBb1",
        "colab_type": "code",
        "colab": {
          "base_uri": "https://localhost:8080/",
          "height": 34
        },
        "outputId": "448f1e8e-b920-43cb-d68f-a0e542df4923"
      },
      "source": [
        "sum(sum((A-Y)**2))"
      ],
      "execution_count": 164,
      "outputs": [
        {
          "output_type": "execute_result",
          "data": {
            "text/plain": [
              "762.0"
            ]
          },
          "metadata": {
            "tags": []
          },
          "execution_count": 164
        }
      ]
    },
    {
      "cell_type": "code",
      "metadata": {
        "id": "roibT6WBFv4u",
        "colab_type": "code",
        "colab": {
          "base_uri": "https://localhost:8080/",
          "height": 34
        },
        "outputId": "8f4158f6-dc9c-4de1-c445-e61a7ff61958"
      },
      "source": [
        "sum(sum(A))"
      ],
      "execution_count": 81,
      "outputs": [
        {
          "output_type": "execute_result",
          "data": {
            "text/plain": [
              "1202.1927881157972"
            ]
          },
          "metadata": {
            "tags": []
          },
          "execution_count": 81
        }
      ]
    },
    {
      "cell_type": "code",
      "metadata": {
        "id": "3H95PzaVJbVr",
        "colab_type": "code",
        "colab": {
          "base_uri": "https://localhost:8080/",
          "height": 50
        },
        "outputId": "da0e0941-0a70-4028-d066-e83eb9f67fa2"
      },
      "source": [
        "A"
      ],
      "execution_count": 160,
      "outputs": [
        {
          "output_type": "execute_result",
          "data": {
            "text/plain": [
              "array([[0.50081169, 0.50036727, 0.53369761, ..., 0.5000005 , 0.50000931,\n",
              "        0.51274679]])"
            ]
          },
          "metadata": {
            "tags": []
          },
          "execution_count": 160
        }
      ]
    },
    {
      "cell_type": "code",
      "metadata": {
        "id": "wd3KoFrKJeEA",
        "colab_type": "code",
        "colab": {
          "base_uri": "https://localhost:8080/",
          "height": 34
        },
        "outputId": "ba57d042-f2c4-4d4e-c196-4203617ab717"
      },
      "source": [
        "Y"
      ],
      "execution_count": 161,
      "outputs": [
        {
          "output_type": "execute_result",
          "data": {
            "text/plain": [
              "array([[0, 0, 0, ..., 1, 1, 1]])"
            ]
          },
          "metadata": {
            "tags": []
          },
          "execution_count": 161
        }
      ]
    },
    {
      "cell_type": "markdown",
      "metadata": {
        "id": "KiyOVn43PUc2",
        "colab_type": "text"
      },
      "source": [
        "**Rough**"
      ]
    },
    {
      "cell_type": "code",
      "metadata": {
        "id": "V92JyrS5ud-5",
        "colab_type": "code",
        "outputId": "c6e4eed6-7ff0-466e-f1e3-5da508c6f85a",
        "colab": {
          "base_uri": "https://localhost:8080/",
          "height": 128
        }
      },
      "source": [
        "vvvvvvvvvvY.shape**********"
      ],
      "execution_count": 19,
      "outputs": [
        {
          "output_type": "error",
          "ename": "SyntaxError",
          "evalue": "ignored",
          "traceback": [
            "\u001b[0;36m  File \u001b[0;32m\"<ipython-input-19-83db5135311f>\"\u001b[0;36m, line \u001b[0;32m1\u001b[0m\n\u001b[0;31m    vvvvvvvvvvY.shape**********\u001b[0m\n\u001b[0m                        ^\u001b[0m\n\u001b[0;31mSyntaxError\u001b[0m\u001b[0;31m:\u001b[0m invalid syntax\n"
          ]
        }
      ]
    },
    {
      "cell_type": "code",
      "metadata": {
        "id": "3I6qCh4euv8P",
        "colab_type": "code",
        "colab": {}
      },
      "source": [
        "params=init_params(layer_dim)"
      ],
      "execution_count": 0,
      "outputs": []
    },
    {
      "cell_type": "code",
      "metadata": {
        "id": "EGZO7HjPvJua",
        "colab_type": "code",
        "colab": {}
      },
      "source": [
        "y_hat,caches=forward_prop(X,params)"
      ],
      "execution_count": 0,
      "outputs": []
    },
    {
      "cell_type": "code",
      "metadata": {
        "id": "7tBWhNjZwiqd",
        "colab_type": "code",
        "colab": {}
      },
      "source": [
        "caches"
      ],
      "execution_count": 0,
      "outputs": []
    },
    {
      "cell_type": "code",
      "metadata": {
        "id": "SLN0mSpaFblj",
        "colab_type": "code",
        "colab": {}
      },
      "source": [
        "grads=backprop(y_hat,Y,caches)"
      ],
      "execution_count": 0,
      "outputs": []
    },
    {
      "cell_type": "code",
      "metadata": {
        "id": "CWSbkOEIR5a9",
        "colab_type": "code",
        "colab": {}
      },
      "source": [
        "params"
      ],
      "execution_count": 0,
      "outputs": []
    },
    {
      "cell_type": "code",
      "metadata": {
        "id": "cVqBUnkBjEJW",
        "colab_type": "code",
        "colab": {}
      },
      "source": [
        "grads['dA2'].reshape(1,-1)"
      ],
      "execution_count": 0,
      "outputs": []
    },
    {
      "cell_type": "code",
      "metadata": {
        "id": "dhNUMCl4jiz0",
        "colab_type": "code",
        "colab": {}
      },
      "source": [
        "grads['dA2']"
      ],
      "execution_count": 0,
      "outputs": []
    },
    {
      "cell_type": "code",
      "metadata": {
        "id": "RDDgK90Nb7-L",
        "colab_type": "code",
        "colab": {}
      },
      "source": [
        "caches"
      ],
      "execution_count": 0,
      "outputs": []
    },
    {
      "cell_type": "code",
      "metadata": {
        "id": "9b2WSFMKfUa-",
        "colab_type": "code",
        "colab": {}
      },
      "source": [
        "dA1=np.array([[ 2.40363348e+08,  2.40363219e+08,  2.61996268e+08],\n",
        "        [ 2.15179835e+07,  2.15175481e+07,  2.34541597e+07],\n",
        "        [-3.31390135e+08, -3.31390064e+08, -3.61215665e+08],\n",
        "        [ 5.11541584e+07,  5.11539908e+07,  5.57579265e+07]])"
      ],
      "execution_count": 0,
      "outputs": []
    },
    {
      "cell_type": "code",
      "metadata": {
        "id": "CRw3CN8QfvuM",
        "colab_type": "code",
        "colab": {}
      },
      "source": [
        "Z=np.array([[0.94499721, 0.94499721, 0.95864549],\n",
        "          [0.94499721, 0.94499721, 0.95864549],\n",
        "          [0.94499721, 0.94499721, 0.95864549],\n",
        "          [0.94499721, 0.94499721, 0.95864549]])"
      ],
      "execution_count": 0,
      "outputs": []
    },
    {
      "cell_type": "code",
      "metadata": {
        "id": "1gWaadZaf0gg",
        "colab_type": "code",
        "colab": {}
      },
      "source": [
        "sig,xs=sigmoid(Z)\n",
        "dZ=dA*sig*(np.ones(Z.shape)-sig)"
      ],
      "execution_count": 0,
      "outputs": []
    },
    {
      "cell_type": "code",
      "metadata": {
        "id": "VAHvfQ6sfvl5",
        "colab_type": "code",
        "colab": {}
      },
      "source": [
        "dZ"
      ],
      "execution_count": 0,
      "outputs": []
    },
    {
      "cell_type": "code",
      "metadata": {
        "id": "taB9Vl4ofoXu",
        "colab_type": "code",
        "colab": {}
      },
      "source": [
        ""
      ],
      "execution_count": 0,
      "outputs": []
    },
    {
      "cell_type": "code",
      "metadata": {
        "id": "oF3iYJhmSIpR",
        "colab_type": "code",
        "colab": {}
      },
      "source": [
        "grads['dA4']"
      ],
      "execution_count": 0,
      "outputs": []
    },
    {
      "cell_type": "code",
      "metadata": {
        "id": "kCPOF3yUKYQY",
        "colab_type": "code",
        "colab": {}
      },
      "source": [
        "len(caches)"
      ],
      "execution_count": 0,
      "outputs": []
    },
    {
      "cell_type": "code",
      "metadata": {
        "id": "qou_vD1jIYHB",
        "colab_type": "code",
        "colab": {}
      },
      "source": [
        "dA=-1*(np.divide(Y,y_hat)+np.divide(1-Y,1-y_hat))"
      ],
      "execution_count": 0,
      "outputs": []
    },
    {
      "cell_type": "code",
      "metadata": {
        "id": "rfxhHS4eLsvg",
        "colab_type": "code",
        "colab": {}
      },
      "source": [
        "dA"
      ],
      "execution_count": 0,
      "outputs": []
    },
    {
      "cell_type": "code",
      "metadata": {
        "id": "lB8l3-FtVcnS",
        "colab_type": "code",
        "colab": {}
      },
      "source": [
        "np.sum(dA,axis=1,keepdims=True)"
      ],
      "execution_count": 0,
      "outputs": []
    },
    {
      "cell_type": "code",
      "metadata": {
        "id": "wUct4n59K_WC",
        "colab_type": "code",
        "colab": {}
      },
      "source": [
        "grads={}"
      ],
      "execution_count": 0,
      "outputs": []
    },
    {
      "cell_type": "code",
      "metadata": {
        "id": "rZg41N5GKxyk",
        "colab_type": "code",
        "colab": {}
      },
      "source": [
        "grads['dA'+str(2)],grads['dW'+str(2)],grads['dB'+str(2)]=one_layer_backward(dA,caches[2])"
      ],
      "execution_count": 0,
      "outputs": []
    },
    {
      "cell_type": "code",
      "metadata": {
        "id": "hZZiO_UVLPgW",
        "colab_type": "code",
        "colab": {}
      },
      "source": [
        "grads['dB'+str(0)]"
      ],
      "execution_count": 0,
      "outputs": []
    },
    {
      "cell_type": "code",
      "metadata": {
        "id": "eZYzd868Nzg9",
        "colab_type": "code",
        "colab": {}
      },
      "source": [
        "np.sum(grads['dB'+str(0)],axis=2)"
      ],
      "execution_count": 0,
      "outputs": []
    },
    {
      "cell_type": "code",
      "metadata": {
        "id": "eq9zg0WgLEVP",
        "colab_type": "code",
        "colab": {}
      },
      "source": [
        "grads['dA'+str(1)],grads['dW'+str(1)],grads['dB'+str(1)]=one_layer_backward(grads['dA'+str(2)],cache[l])"
      ],
      "execution_count": 0,
      "outputs": []
    },
    {
      "cell_type": "code",
      "metadata": {
        "id": "F7oiSFB7ITNv",
        "colab_type": "code",
        "colab": {}
      },
      "source": [
        "caches"
      ],
      "execution_count": 0,
      "outputs": []
    },
    {
      "cell_type": "code",
      "metadata": {
        "id": "i3bDgV-EF8ej",
        "colab_type": "code",
        "colab": {}
      },
      "source": [
        "y_hat"
      ],
      "execution_count": 0,
      "outputs": []
    },
    {
      "cell_type": "code",
      "metadata": {
        "id": "u24xjwq1hR5w",
        "colab_type": "code",
        "colab": {}
      },
      "source": [
        "dA=-1*np.divide(b,y_hat)+np.divide(1-b,1-y_hat)"
      ],
      "execution_count": 0,
      "outputs": []
    },
    {
      "cell_type": "code",
      "metadata": {
        "id": "nZGdPLjChToj",
        "colab_type": "code",
        "colab": {}
      },
      "source": [
        "one_layer_backward(dA,cache[2])"
      ],
      "execution_count": 0,
      "outputs": []
    },
    {
      "cell_type": "code",
      "metadata": {
        "id": "_vZs4Kqhy-xa",
        "colab_type": "code",
        "colab": {}
      },
      "source": [
        "params"
      ],
      "execution_count": 0,
      "outputs": []
    },
    {
      "cell_type": "code",
      "metadata": {
        "id": "7tuF2nuQxiWs",
        "colab_type": "code",
        "colab": {}
      },
      "source": [
        "cache"
      ],
      "execution_count": 0,
      "outputs": []
    },
    {
      "cell_type": "code",
      "metadata": {
        "id": "9d1DjihLvhVj",
        "colab_type": "code",
        "colab": {}
      },
      "source": [
        "params"
      ],
      "execution_count": 0,
      "outputs": []
    },
    {
      "cell_type": "code",
      "metadata": {
        "id": "QdcWvKRAvv2n",
        "colab_type": "code",
        "colab": {}
      },
      "source": [
        "grads="
      ],
      "execution_count": 0,
      "outputs": []
    },
    {
      "cell_type": "code",
      "metadata": {
        "id": "LFudq7nbwNYC",
        "colab_type": "code",
        "colab": {}
      },
      "source": [
        "np.dot(params['w1'],a)"
      ],
      "execution_count": 0,
      "outputs": []
    },
    {
      "cell_type": "code",
      "metadata": {
        "id": "z6ksUUCW0BxY",
        "colab_type": "code",
        "colab": {}
      },
      "source": [
        "sigmoid(2)"
      ],
      "execution_count": 0,
      "outputs": []
    },
    {
      "cell_type": "code",
      "metadata": {
        "id": "YlELc2xehlZs",
        "colab_type": "code",
        "colab": {}
      },
      "source": [
        "c1,c2=cache[2]"
      ],
      "execution_count": 0,
      "outputs": []
    },
    {
      "cell_type": "code",
      "metadata": {
        "id": "K6v8Spzchq_s",
        "colab_type": "code",
        "colab": {}
      },
      "source": [
        "c2"
      ],
      "execution_count": 0,
      "outputs": []
    },
    {
      "cell_type": "code",
      "metadata": {
        "id": "-OMl_Po7hzKZ",
        "colab_type": "code",
        "colab": {}
      },
      "source": [
        "dA"
      ],
      "execution_count": 0,
      "outputs": []
    },
    {
      "cell_type": "code",
      "metadata": {
        "id": "XRKCJwswiZdy",
        "colab_type": "code",
        "colab": {}
      },
      "source": [
        "dA*sigmoid(c2)*sigmoid(1-c2)"
      ],
      "execution_count": 0,
      "outputs": []
    },
    {
      "cell_type": "code",
      "metadata": {
        "id": "mcwFntbykMYA",
        "colab_type": "code",
        "colab": {}
      },
      "source": [
        "d1*sigmoid(d2)*(np.ones(d2.shape)-sigmoid(d2))"
      ],
      "execution_count": 0,
      "outputs": []
    },
    {
      "cell_type": "code",
      "metadata": {
        "id": "stYzJ2elk5SO",
        "colab_type": "code",
        "colab": {}
      },
      "source": [
        "sigmoid(d2)"
      ],
      "execution_count": 0,
      "outputs": []
    },
    {
      "cell_type": "code",
      "metadata": {
        "id": "rsTgRnm0lc37",
        "colab_type": "code",
        "colab": {}
      },
      "source": [
        "np.ones(d2.shape)-sigmoid(d2)"
      ],
      "execution_count": 0,
      "outputs": []
    },
    {
      "cell_type": "code",
      "metadata": {
        "id": "nrvnlVQktBSA",
        "colab_type": "code",
        "colab": {}
      },
      "source": [
        "len(caches)"
      ],
      "execution_count": 0,
      "outputs": []
    },
    {
      "cell_type": "code",
      "metadata": {
        "id": "fRJb21NZObjT",
        "colab_type": "code",
        "colab": {}
      },
      "source": [
        "a1=np.array([[[1,2],[3,4]],[[1,2],[3,4]]])"
      ],
      "execution_count": 0,
      "outputs": []
    },
    {
      "cell_type": "code",
      "metadata": {
        "id": "bf9QX25ROtOa",
        "colab_type": "code",
        "colab": {}
      },
      "source": [
        "np.sum(a1,axis=0)"
      ],
      "execution_count": 0,
      "outputs": []
    },
    {
      "cell_type": "code",
      "metadata": {
        "id": "NPmK_VGxUl3x",
        "colab_type": "code",
        "colab": {}
      },
      "source": [
        "ax=np.array([[[1.82966561e+71, 5.37101649e+34, 3.10119951e+31],\n",
        "         [1.82966561e+71, 5.37101649e+34, 3.10119951e+31],\n",
        "         [1.82966561e+71, 5.37101649e+34, 3.10119951e+31],\n",
        "         [1.82966561e+71, 5.37101649e+34, 3.10119951e+31]],\n",
        " \n",
        "        [[3.14106226e+80, 3.07004636e+50, 7.37319456e+50],\n",
        "         [3.14106226e+80, 3.07004636e+50, 7.37319456e+50],\n",
        "         [3.14106226e+80, 3.07004636e+50, 7.37319456e+50],\n",
        "         [3.14106226e+80, 3.07004636e+50, 7.37319456e+50]]])"
      ],
      "execution_count": 0,
      "outputs": []
    },
    {
      "cell_type": "code",
      "metadata": {
        "id": "33ProxNvUrpb",
        "colab_type": "code",
        "colab": {}
      },
      "source": [
        "np.sum(a3,axis=0)"
      ],
      "execution_count": 0,
      "outputs": []
    },
    {
      "cell_type": "code",
      "metadata": {
        "id": "dmOIQSpAduhH",
        "colab_type": "code",
        "colab": {}
      },
      "source": [
        "axx=np.array([[[ 1,2,3]],\n",
        " \n",
        "        [[1,2,3]]])"
      ],
      "execution_count": 0,
      "outputs": []
    },
    {
      "cell_type": "code",
      "metadata": {
        "id": "MXkDk0LMdynw",
        "colab_type": "code",
        "colab": {}
      },
      "source": [
        "params"
      ],
      "execution_count": 0,
      "outputs": []
    },
    {
      "cell_type": "code",
      "metadata": {
        "id": "hFiOD8rCG26C",
        "colab_type": "code",
        "colab": {
          "base_uri": "https://localhost:8080/",
          "height": 67
        },
        "outputId": "2f8542a6-bb11-4690-a65e-58dfb507f05b"
      },
      "source": [
        "np.random.randn(3,3)"
      ],
      "execution_count": 92,
      "outputs": [
        {
          "output_type": "execute_result",
          "data": {
            "text/plain": [
              "array([[ 1.12397796, -0.13191423, -1.62328545],\n",
              "       [ 0.64667545, -0.35627076, -1.74314104],\n",
              "       [-0.59664964, -0.58859438, -0.8738823 ]])"
            ]
          },
          "metadata": {
            "tags": []
          },
          "execution_count": 92
        }
      ]
    }
  ]
}