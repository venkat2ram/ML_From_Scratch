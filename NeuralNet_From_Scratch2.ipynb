{
  "nbformat": 4,
  "nbformat_minor": 0,
  "metadata": {
    "colab": {
      "name": "NeuralNet_From_Scratch2.ipynb",
      "provenance": [],
      "authorship_tag": "ABX9TyMO9GVMYYS8mBjCStgGWg8P",
      "include_colab_link": true
    },
    "kernelspec": {
      "name": "python3",
      "display_name": "Python 3"
    }
  },
  "cells": [
    {
      "cell_type": "markdown",
      "metadata": {
        "id": "view-in-github",
        "colab_type": "text"
      },
      "source": [
        "<a href=\"https://colab.research.google.com/github/venkat2ram/ML_From_Scratch/blob/master/NeuralNet_From_Scratch2.ipynb\" target=\"_parent\"><img src=\"https://colab.research.google.com/assets/colab-badge.svg\" alt=\"Open In Colab\"/></a>"
      ]
    },
    {
      "cell_type": "code",
      "metadata": {
        "id": "npj_CK5AK15q",
        "colab_type": "code",
        "colab": {}
      },
      "source": [
        "import numpy as np\n",
        "import pandas as pd"
      ],
      "execution_count": 0,
      "outputs": []
    },
    {
      "cell_type": "code",
      "metadata": {
        "id": "VixCtjEkm3OB",
        "colab_type": "code",
        "colab": {}
      },
      "source": [
        "data=pd.read_csv('/data_banknote_authentication.csv')"
      ],
      "execution_count": 0,
      "outputs": []
    },
    {
      "cell_type": "code",
      "metadata": {
        "id": "47P5gZh0m__6",
        "colab_type": "code",
        "outputId": "27634a9d-d302-456f-ea85-58af422997fb",
        "colab": {
          "base_uri": "https://localhost:8080/",
          "height": 195
        }
      },
      "source": [
        "data.head()"
      ],
      "execution_count": 3,
      "outputs": [
        {
          "output_type": "execute_result",
          "data": {
            "text/html": [
              "<div>\n",
              "<style scoped>\n",
              "    .dataframe tbody tr th:only-of-type {\n",
              "        vertical-align: middle;\n",
              "    }\n",
              "\n",
              "    .dataframe tbody tr th {\n",
              "        vertical-align: top;\n",
              "    }\n",
              "\n",
              "    .dataframe thead th {\n",
              "        text-align: right;\n",
              "    }\n",
              "</style>\n",
              "<table border=\"1\" class=\"dataframe\">\n",
              "  <thead>\n",
              "    <tr style=\"text-align: right;\">\n",
              "      <th></th>\n",
              "      <th>a</th>\n",
              "      <th>b</th>\n",
              "      <th>c</th>\n",
              "      <th>d</th>\n",
              "      <th>y</th>\n",
              "    </tr>\n",
              "  </thead>\n",
              "  <tbody>\n",
              "    <tr>\n",
              "      <th>0</th>\n",
              "      <td>3.62160</td>\n",
              "      <td>8.6661</td>\n",
              "      <td>-2.8073</td>\n",
              "      <td>-0.44699</td>\n",
              "      <td>0</td>\n",
              "    </tr>\n",
              "    <tr>\n",
              "      <th>1</th>\n",
              "      <td>4.54590</td>\n",
              "      <td>8.1674</td>\n",
              "      <td>-2.4586</td>\n",
              "      <td>-1.46210</td>\n",
              "      <td>0</td>\n",
              "    </tr>\n",
              "    <tr>\n",
              "      <th>2</th>\n",
              "      <td>3.86600</td>\n",
              "      <td>-2.6383</td>\n",
              "      <td>1.9242</td>\n",
              "      <td>0.10645</td>\n",
              "      <td>0</td>\n",
              "    </tr>\n",
              "    <tr>\n",
              "      <th>3</th>\n",
              "      <td>3.45660</td>\n",
              "      <td>9.5228</td>\n",
              "      <td>-4.0112</td>\n",
              "      <td>-3.59440</td>\n",
              "      <td>0</td>\n",
              "    </tr>\n",
              "    <tr>\n",
              "      <th>4</th>\n",
              "      <td>0.32924</td>\n",
              "      <td>-4.4552</td>\n",
              "      <td>4.5718</td>\n",
              "      <td>-0.98880</td>\n",
              "      <td>0</td>\n",
              "    </tr>\n",
              "  </tbody>\n",
              "</table>\n",
              "</div>"
            ],
            "text/plain": [
              "         a       b       c        d  y\n",
              "0  3.62160  8.6661 -2.8073 -0.44699  0\n",
              "1  4.54590  8.1674 -2.4586 -1.46210  0\n",
              "2  3.86600 -2.6383  1.9242  0.10645  0\n",
              "3  3.45660  9.5228 -4.0112 -3.59440  0\n",
              "4  0.32924 -4.4552  4.5718 -0.98880  0"
            ]
          },
          "metadata": {
            "tags": []
          },
          "execution_count": 3
        }
      ]
    },
    {
      "cell_type": "code",
      "metadata": {
        "id": "ZwOmVEKbnymf",
        "colab_type": "code",
        "colab": {}
      },
      "source": [
        "X=data[['a','b','c','d']].to_numpy().T\n",
        "Y=data[['y']].to_numpy().reshape(1,-1)"
      ],
      "execution_count": 0,
      "outputs": []
    },
    {
      "cell_type": "code",
      "metadata": {
        "id": "-3OL_dncoeE9",
        "colab_type": "code",
        "outputId": "d027380d-88f7-4b42-cdbf-15dad331979b",
        "colab": {
          "base_uri": "https://localhost:8080/",
          "height": 151
        }
      },
      "source": [
        "X"
      ],
      "execution_count": 5,
      "outputs": [
        {
          "output_type": "execute_result",
          "data": {
            "text/plain": [
              "array([[  3.6216 ,   4.5459 ,   3.866  , ...,  -3.7503 ,  -3.5637 ,\n",
              "         -2.5419 ],\n",
              "       [  8.6661 ,   8.1674 ,  -2.6383 , ..., -13.4586 ,  -8.3827 ,\n",
              "         -0.65804],\n",
              "       [ -2.8073 ,  -2.4586 ,   1.9242 , ...,  17.5932 ,  12.393  ,\n",
              "          2.6842 ],\n",
              "       [ -0.44699,  -1.4621 ,   0.10645, ...,  -2.7771 ,  -1.2823 ,\n",
              "          1.1952 ]])"
            ]
          },
          "metadata": {
            "tags": []
          },
          "execution_count": 5
        }
      ]
    },
    {
      "cell_type": "code",
      "metadata": {
        "id": "igRfPwMQLKis",
        "colab_type": "code",
        "colab": {}
      },
      "source": [
        "def init_params(layer_dims):\n",
        "  np.random.seed(3)\n",
        "  L=len(layer_dims)\n",
        "  params={}\n",
        "  for l in range(1,L):\n",
        "    #params['w'+str(l)]=np.random.randn(layer_dims[l],layer_dims[l-1])/0.01\n",
        "    params['w'+str(l)]=np.ones((layer_dims[l],layer_dims[l-1]))\n",
        "    params['b'+str(l)]=np.zeros((layer_dims[l],1))\n",
        "  return params\n"
      ],
      "execution_count": 0,
      "outputs": []
    },
    {
      "cell_type": "code",
      "metadata": {
        "id": "Rf3qEISiPX7i",
        "colab_type": "code",
        "colab": {}
      },
      "source": [
        "def sigmoid(Z):\n",
        "  A=1/(1+np.exp(np.dot(-1,Z)))\n",
        "  cache=(Z)\n",
        "  return A,cache"
      ],
      "execution_count": 0,
      "outputs": []
    },
    {
      "cell_type": "code",
      "metadata": {
        "id": "lu1Hs6hLQXU2",
        "colab_type": "code",
        "colab": {}
      },
      "source": [
        "def forward_prop(X,params):\n",
        "  A=X\n",
        "  caches=[]\n",
        "  L=len(params)//2\n",
        "  for l in range(1,L+1):\n",
        "    A_prev=A\n",
        "    Z=np.dot(params['w'+str(l)],A_prev)+params['b'+str(l)]\n",
        "    linear_cache=(A_prev,params['w'+str(l)],params['b'+str(l)])\n",
        "    A,activation_cache=sigmoid(Z)\n",
        "    cache=(linear_cache,activation_cache)\n",
        "    caches.append(cache)\n",
        "  return A,caches   \n"
      ],
      "execution_count": 0,
      "outputs": []
    },
    {
      "cell_type": "code",
      "metadata": {
        "id": "xUemRgqkjI8l",
        "colab_type": "code",
        "colab": {}
      },
      "source": [
        "def cost_function(A, Y):\n",
        "  m=Y.shape[1]\n",
        "  cost=(-1/m)*np.sum(np.dot(np.log(A),Y.T)+np.dot(np.log(1-A),1-Y.T))\n",
        "  return cost"
      ],
      "execution_count": 0,
      "outputs": []
    },
    {
      "cell_type": "code",
      "metadata": {
        "id": "CDwm7g_SamET",
        "colab_type": "code",
        "colab": {}
      },
      "source": [
        "def one_layer_backward(dA,cache):\n",
        "  linear_cache, activation_cache=cache\n",
        "  \n",
        "  Z=activation_cache\n",
        "  sig,c=sigmoid(Z)\n",
        "  dZ=dA*sig*(np.ones(Z.shape)-sig)\n",
        "\n",
        "  A_prev,W,b=linear_cache\n",
        "  m=A_prev.shape[1]\n",
        "  dW=(1/m)*(np.dot(dZ,A_prev.T))\n",
        "  dB=(1/m)*(np.sum(dZ,axis=1,keepdims=True))\n",
        "  dA_prev=(1/m)*np.dot(W.T,dZ)\n",
        "\n",
        "  return dA_prev,dW,dB"
      ],
      "execution_count": 0,
      "outputs": []
    },
    {
      "cell_type": "code",
      "metadata": {
        "id": "o1ofYJfZn5rT",
        "colab_type": "code",
        "colab": {}
      },
      "source": [
        "def backprop(AL,Y,caches):\n",
        "  grads={}\n",
        "  L=len(caches)\n",
        "  Y = Y.reshape(AL.shape)\n",
        "  dA=-1*(np.divide(Y,AL)+np.divide(1-Y,1-AL))\n",
        "  grads['dA'+str(L-1)],grads['dW'+str(L-1)],grads['dB'+str(L-1)]=one_layer_backward(dA,caches[L-1])\n",
        "  for l in reversed(range(L-1)):\n",
        "    print(l)\n",
        "    grads['dA'+str(l)],grads['dW'+str(l)],grads['dB'+str(l)]=one_layer_backward(grads['dA'+str(l+1)],caches[l])\n",
        "  return grads\n"
      ],
      "execution_count": 0,
      "outputs": []
    },
    {
      "cell_type": "code",
      "metadata": {
        "id": "b21uSUm3bEFz",
        "colab_type": "code",
        "colab": {}
      },
      "source": [
        "def update_parameters(parameters, grads, learning_rate):\n",
        "  L=len(parameters)//2\n",
        "  for l in range(1,L):\n",
        "    parameters['w'+str(l)]=parameters['w'+str(l)]-learning_rate*grads['dW'+str(l-1)]\n",
        "    parameters['b'+str(l)]=parameters['b'+str(l)]-learning_rate*grads['dB'+str(l-1)]\n",
        "  return parameters\n"
      ],
      "execution_count": 0,
      "outputs": []
    },
    {
      "cell_type": "code",
      "metadata": {
        "id": "wPHCFnf3XlXP",
        "colab_type": "code",
        "colab": {}
      },
      "source": [
        "def train(X, Y, layer_dims, epochs, lr):\n",
        "    params = init_params(layer_dims)\n",
        "    cost_history = []\n",
        "    \n",
        "    for i in range(epochs):\n",
        "        Y_hat, caches = forward_prop(X, params)\n",
        "        cost = cost_function(Y_hat, Y)\n",
        "        cost_history.append(cost)\n",
        "        grads = backprop(Y_hat, Y, caches)\n",
        "        \n",
        "        params = update_parameters(params, grads, lr)\n",
        "        if(i%100000==1):\n",
        "          print(cost)\n",
        "        \n",
        "        \n",
        "    return params, cost_history"
      ],
      "execution_count": 0,
      "outputs": []
    },
    {
      "cell_type": "code",
      "metadata": {
        "id": "x5ZRk0gzXnhk",
        "colab_type": "code",
        "outputId": "532db73c-b44d-44d8-c94d-9a29c7f91e2f",
        "colab": {
          "base_uri": "https://localhost:8080/",
          "height": 320
        }
      },
      "source": [
        "layer_dims=[4,10,10,10,1]\n",
        "p,c=train(X,Y,layer_dims,1000000,1)"
      ],
      "execution_count": 14,
      "outputs": [
        {
          "output_type": "stream",
          "text": [
            "2\n"
          ],
          "name": "stdout"
        },
        {
          "output_type": "error",
          "ename": "NameError",
          "evalue": "ignored",
          "traceback": [
            "\u001b[0;31m---------------------------------------------------------------------------\u001b[0m",
            "\u001b[0;31mNameError\u001b[0m                                 Traceback (most recent call last)",
            "\u001b[0;32m<ipython-input-14-0b017f524ade>\u001b[0m in \u001b[0;36m<module>\u001b[0;34m()\u001b[0m\n\u001b[1;32m      1\u001b[0m \u001b[0mlayer_dims\u001b[0m\u001b[0;34m=\u001b[0m\u001b[0;34m[\u001b[0m\u001b[0;36m4\u001b[0m\u001b[0;34m,\u001b[0m\u001b[0;36m10\u001b[0m\u001b[0;34m,\u001b[0m\u001b[0;36m10\u001b[0m\u001b[0;34m,\u001b[0m\u001b[0;36m10\u001b[0m\u001b[0;34m,\u001b[0m\u001b[0;36m1\u001b[0m\u001b[0;34m]\u001b[0m\u001b[0;34m\u001b[0m\u001b[0;34m\u001b[0m\u001b[0m\n\u001b[0;32m----> 2\u001b[0;31m \u001b[0mp\u001b[0m\u001b[0;34m,\u001b[0m\u001b[0mc\u001b[0m\u001b[0;34m=\u001b[0m\u001b[0mtrain\u001b[0m\u001b[0;34m(\u001b[0m\u001b[0mX\u001b[0m\u001b[0;34m,\u001b[0m\u001b[0mY\u001b[0m\u001b[0;34m,\u001b[0m\u001b[0mlayer_dims\u001b[0m\u001b[0;34m,\u001b[0m\u001b[0;36m1000000\u001b[0m\u001b[0;34m,\u001b[0m\u001b[0;36m1\u001b[0m\u001b[0;34m)\u001b[0m\u001b[0;34m\u001b[0m\u001b[0;34m\u001b[0m\u001b[0m\n\u001b[0m",
            "\u001b[0;32m<ipython-input-13-81ab645fc1b9>\u001b[0m in \u001b[0;36mtrain\u001b[0;34m(X, Y, layer_dims, epochs, lr)\u001b[0m\n\u001b[1;32m      7\u001b[0m         \u001b[0mcost\u001b[0m \u001b[0;34m=\u001b[0m \u001b[0mcost_function\u001b[0m\u001b[0;34m(\u001b[0m\u001b[0mY_hat\u001b[0m\u001b[0;34m,\u001b[0m \u001b[0mY\u001b[0m\u001b[0;34m)\u001b[0m\u001b[0;34m\u001b[0m\u001b[0;34m\u001b[0m\u001b[0m\n\u001b[1;32m      8\u001b[0m         \u001b[0mcost_history\u001b[0m\u001b[0;34m.\u001b[0m\u001b[0mappend\u001b[0m\u001b[0;34m(\u001b[0m\u001b[0mcost\u001b[0m\u001b[0;34m)\u001b[0m\u001b[0;34m\u001b[0m\u001b[0;34m\u001b[0m\u001b[0m\n\u001b[0;32m----> 9\u001b[0;31m         \u001b[0mgrads\u001b[0m \u001b[0;34m=\u001b[0m \u001b[0mbackprop\u001b[0m\u001b[0;34m(\u001b[0m\u001b[0mY_hat\u001b[0m\u001b[0;34m,\u001b[0m \u001b[0mY\u001b[0m\u001b[0;34m,\u001b[0m \u001b[0mcaches\u001b[0m\u001b[0;34m)\u001b[0m\u001b[0;34m\u001b[0m\u001b[0;34m\u001b[0m\u001b[0m\n\u001b[0m\u001b[1;32m     10\u001b[0m \u001b[0;34m\u001b[0m\u001b[0m\n\u001b[1;32m     11\u001b[0m         \u001b[0mparams\u001b[0m \u001b[0;34m=\u001b[0m \u001b[0mupdate_parameters\u001b[0m\u001b[0;34m(\u001b[0m\u001b[0mparams\u001b[0m\u001b[0;34m,\u001b[0m \u001b[0mgrads\u001b[0m\u001b[0;34m,\u001b[0m \u001b[0mlr\u001b[0m\u001b[0;34m)\u001b[0m\u001b[0;34m\u001b[0m\u001b[0;34m\u001b[0m\u001b[0m\n",
            "\u001b[0;32m<ipython-input-11-68fed02f1077>\u001b[0m in \u001b[0;36mbackprop\u001b[0;34m(AL, Y, caches)\u001b[0m\n\u001b[1;32m      7\u001b[0m   \u001b[0;32mfor\u001b[0m \u001b[0ml\u001b[0m \u001b[0;32min\u001b[0m \u001b[0mreversed\u001b[0m\u001b[0;34m(\u001b[0m\u001b[0mrange\u001b[0m\u001b[0;34m(\u001b[0m\u001b[0mL\u001b[0m\u001b[0;34m-\u001b[0m\u001b[0;36m1\u001b[0m\u001b[0;34m)\u001b[0m\u001b[0;34m)\u001b[0m\u001b[0;34m:\u001b[0m\u001b[0;34m\u001b[0m\u001b[0;34m\u001b[0m\u001b[0m\n\u001b[1;32m      8\u001b[0m     \u001b[0mprint\u001b[0m\u001b[0;34m(\u001b[0m\u001b[0ml\u001b[0m\u001b[0;34m)\u001b[0m\u001b[0;34m\u001b[0m\u001b[0;34m\u001b[0m\u001b[0m\n\u001b[0;32m----> 9\u001b[0;31m     \u001b[0mgrads\u001b[0m\u001b[0;34m[\u001b[0m\u001b[0;34m'dA'\u001b[0m\u001b[0;34m+\u001b[0m\u001b[0mstr\u001b[0m\u001b[0;34m(\u001b[0m\u001b[0ml\u001b[0m\u001b[0;34m)\u001b[0m\u001b[0;34m]\u001b[0m\u001b[0;34m,\u001b[0m\u001b[0mgrads\u001b[0m\u001b[0;34m[\u001b[0m\u001b[0;34m'dW'\u001b[0m\u001b[0;34m+\u001b[0m\u001b[0mstr\u001b[0m\u001b[0;34m(\u001b[0m\u001b[0ml\u001b[0m\u001b[0;34m)\u001b[0m\u001b[0;34m]\u001b[0m\u001b[0;34m,\u001b[0m\u001b[0mgrads\u001b[0m\u001b[0;34m[\u001b[0m\u001b[0;34m'dB'\u001b[0m\u001b[0;34m+\u001b[0m\u001b[0mstr\u001b[0m\u001b[0;34m(\u001b[0m\u001b[0ml\u001b[0m\u001b[0;34m)\u001b[0m\u001b[0;34m]\u001b[0m\u001b[0;34m=\u001b[0m\u001b[0mone_layer_backward\u001b[0m\u001b[0;34m(\u001b[0m\u001b[0mgrads\u001b[0m\u001b[0;34m[\u001b[0m\u001b[0;34m'dA'\u001b[0m\u001b[0;34m+\u001b[0m\u001b[0mstr\u001b[0m\u001b[0;34m(\u001b[0m\u001b[0ml\u001b[0m\u001b[0;34m+\u001b[0m\u001b[0;36m1\u001b[0m\u001b[0;34m)\u001b[0m\u001b[0;34m]\u001b[0m\u001b[0;34m,\u001b[0m\u001b[0mcache\u001b[0m\u001b[0;34m[\u001b[0m\u001b[0ml\u001b[0m\u001b[0;34m]\u001b[0m\u001b[0;34m)\u001b[0m\u001b[0;34m\u001b[0m\u001b[0;34m\u001b[0m\u001b[0m\n\u001b[0m\u001b[1;32m     10\u001b[0m   \u001b[0;32mreturn\u001b[0m \u001b[0mgrads\u001b[0m\u001b[0;34m\u001b[0m\u001b[0;34m\u001b[0m\u001b[0m\n",
            "\u001b[0;31mNameError\u001b[0m: name 'cache' is not defined"
          ]
        }
      ]
    },
    {
      "cell_type": "markdown",
      "metadata": {
        "id": "KiyOVn43PUc2",
        "colab_type": "text"
      },
      "source": [
        "**Rough**"
      ]
    },
    {
      "cell_type": "code",
      "metadata": {
        "id": "V92JyrS5ud-5",
        "colab_type": "code",
        "colab": {}
      },
      "source": [
        "vvvvvvvvvvY.shape**********"
      ],
      "execution_count": 0,
      "outputs": []
    },
    {
      "cell_type": "code",
      "metadata": {
        "id": "3I6qCh4euv8P",
        "colab_type": "code",
        "colab": {}
      },
      "source": [
        "params=init_params(layer_dim)"
      ],
      "execution_count": 0,
      "outputs": []
    },
    {
      "cell_type": "code",
      "metadata": {
        "id": "EGZO7HjPvJua",
        "colab_type": "code",
        "colab": {}
      },
      "source": [
        "y_hat,caches=forward_prop(X,params)"
      ],
      "execution_count": 0,
      "outputs": []
    },
    {
      "cell_type": "code",
      "metadata": {
        "id": "7tBWhNjZwiqd",
        "colab_type": "code",
        "colab": {}
      },
      "source": [
        "caches"
      ],
      "execution_count": 0,
      "outputs": []
    },
    {
      "cell_type": "code",
      "metadata": {
        "id": "SLN0mSpaFblj",
        "colab_type": "code",
        "colab": {}
      },
      "source": [
        "grads=backprop(y_hat,Y,caches)"
      ],
      "execution_count": 0,
      "outputs": []
    },
    {
      "cell_type": "code",
      "metadata": {
        "id": "CWSbkOEIR5a9",
        "colab_type": "code",
        "colab": {}
      },
      "source": [
        "params"
      ],
      "execution_count": 0,
      "outputs": []
    },
    {
      "cell_type": "code",
      "metadata": {
        "id": "cVqBUnkBjEJW",
        "colab_type": "code",
        "colab": {}
      },
      "source": [
        "grads['dA2'].reshape(1,-1)"
      ],
      "execution_count": 0,
      "outputs": []
    },
    {
      "cell_type": "code",
      "metadata": {
        "id": "dhNUMCl4jiz0",
        "colab_type": "code",
        "colab": {}
      },
      "source": [
        "grads['dA2']"
      ],
      "execution_count": 0,
      "outputs": []
    },
    {
      "cell_type": "code",
      "metadata": {
        "id": "RDDgK90Nb7-L",
        "colab_type": "code",
        "colab": {}
      },
      "source": [
        "caches"
      ],
      "execution_count": 0,
      "outputs": []
    },
    {
      "cell_type": "code",
      "metadata": {
        "id": "9b2WSFMKfUa-",
        "colab_type": "code",
        "colab": {}
      },
      "source": [
        "dA1=np.array([[ 2.40363348e+08,  2.40363219e+08,  2.61996268e+08],\n",
        "        [ 2.15179835e+07,  2.15175481e+07,  2.34541597e+07],\n",
        "        [-3.31390135e+08, -3.31390064e+08, -3.61215665e+08],\n",
        "        [ 5.11541584e+07,  5.11539908e+07,  5.57579265e+07]])"
      ],
      "execution_count": 0,
      "outputs": []
    },
    {
      "cell_type": "code",
      "metadata": {
        "id": "CRw3CN8QfvuM",
        "colab_type": "code",
        "colab": {}
      },
      "source": [
        "Z=np.array([[0.94499721, 0.94499721, 0.95864549],\n",
        "          [0.94499721, 0.94499721, 0.95864549],\n",
        "          [0.94499721, 0.94499721, 0.95864549],\n",
        "          [0.94499721, 0.94499721, 0.95864549]])"
      ],
      "execution_count": 0,
      "outputs": []
    },
    {
      "cell_type": "code",
      "metadata": {
        "id": "1gWaadZaf0gg",
        "colab_type": "code",
        "colab": {}
      },
      "source": [
        "sig,xs=sigmoid(Z)\n",
        "dZ=dA*sig*(np.ones(Z.shape)-sig)"
      ],
      "execution_count": 0,
      "outputs": []
    },
    {
      "cell_type": "code",
      "metadata": {
        "id": "VAHvfQ6sfvl5",
        "colab_type": "code",
        "colab": {}
      },
      "source": [
        "dZ"
      ],
      "execution_count": 0,
      "outputs": []
    },
    {
      "cell_type": "code",
      "metadata": {
        "id": "taB9Vl4ofoXu",
        "colab_type": "code",
        "colab": {}
      },
      "source": [
        ""
      ],
      "execution_count": 0,
      "outputs": []
    },
    {
      "cell_type": "code",
      "metadata": {
        "id": "oF3iYJhmSIpR",
        "colab_type": "code",
        "colab": {}
      },
      "source": [
        "grads['dA4']"
      ],
      "execution_count": 0,
      "outputs": []
    },
    {
      "cell_type": "code",
      "metadata": {
        "id": "kCPOF3yUKYQY",
        "colab_type": "code",
        "colab": {}
      },
      "source": [
        "len(caches)"
      ],
      "execution_count": 0,
      "outputs": []
    },
    {
      "cell_type": "code",
      "metadata": {
        "id": "qou_vD1jIYHB",
        "colab_type": "code",
        "colab": {}
      },
      "source": [
        "dA=-1*(np.divide(Y,y_hat)+np.divide(1-Y,1-y_hat))"
      ],
      "execution_count": 0,
      "outputs": []
    },
    {
      "cell_type": "code",
      "metadata": {
        "id": "rfxhHS4eLsvg",
        "colab_type": "code",
        "colab": {}
      },
      "source": [
        "dA"
      ],
      "execution_count": 0,
      "outputs": []
    },
    {
      "cell_type": "code",
      "metadata": {
        "id": "lB8l3-FtVcnS",
        "colab_type": "code",
        "colab": {}
      },
      "source": [
        "np.sum(dA,axis=1,keepdims=True)"
      ],
      "execution_count": 0,
      "outputs": []
    },
    {
      "cell_type": "code",
      "metadata": {
        "id": "wUct4n59K_WC",
        "colab_type": "code",
        "colab": {}
      },
      "source": [
        "grads={}"
      ],
      "execution_count": 0,
      "outputs": []
    },
    {
      "cell_type": "code",
      "metadata": {
        "id": "rZg41N5GKxyk",
        "colab_type": "code",
        "colab": {}
      },
      "source": [
        "grads['dA'+str(2)],grads['dW'+str(2)],grads['dB'+str(2)]=one_layer_backward(dA,caches[2])"
      ],
      "execution_count": 0,
      "outputs": []
    },
    {
      "cell_type": "code",
      "metadata": {
        "id": "hZZiO_UVLPgW",
        "colab_type": "code",
        "colab": {}
      },
      "source": [
        "grads['dB'+str(0)]"
      ],
      "execution_count": 0,
      "outputs": []
    },
    {
      "cell_type": "code",
      "metadata": {
        "id": "eZYzd868Nzg9",
        "colab_type": "code",
        "colab": {}
      },
      "source": [
        "np.sum(grads['dB'+str(0)],axis=2)"
      ],
      "execution_count": 0,
      "outputs": []
    },
    {
      "cell_type": "code",
      "metadata": {
        "id": "eq9zg0WgLEVP",
        "colab_type": "code",
        "colab": {}
      },
      "source": [
        "grads['dA'+str(1)],grads['dW'+str(1)],grads['dB'+str(1)]=one_layer_backward(grads['dA'+str(2)],cache[l])"
      ],
      "execution_count": 0,
      "outputs": []
    },
    {
      "cell_type": "code",
      "metadata": {
        "id": "F7oiSFB7ITNv",
        "colab_type": "code",
        "colab": {}
      },
      "source": [
        "caches"
      ],
      "execution_count": 0,
      "outputs": []
    },
    {
      "cell_type": "code",
      "metadata": {
        "id": "i3bDgV-EF8ej",
        "colab_type": "code",
        "colab": {}
      },
      "source": [
        "y_hat"
      ],
      "execution_count": 0,
      "outputs": []
    },
    {
      "cell_type": "code",
      "metadata": {
        "id": "u24xjwq1hR5w",
        "colab_type": "code",
        "colab": {}
      },
      "source": [
        "dA=-1*np.divide(b,y_hat)+np.divide(1-b,1-y_hat)"
      ],
      "execution_count": 0,
      "outputs": []
    },
    {
      "cell_type": "code",
      "metadata": {
        "id": "nZGdPLjChToj",
        "colab_type": "code",
        "colab": {}
      },
      "source": [
        "one_layer_backward(dA,cache[2])"
      ],
      "execution_count": 0,
      "outputs": []
    },
    {
      "cell_type": "code",
      "metadata": {
        "id": "_vZs4Kqhy-xa",
        "colab_type": "code",
        "colab": {}
      },
      "source": [
        "params"
      ],
      "execution_count": 0,
      "outputs": []
    },
    {
      "cell_type": "code",
      "metadata": {
        "id": "7tuF2nuQxiWs",
        "colab_type": "code",
        "colab": {}
      },
      "source": [
        "cache"
      ],
      "execution_count": 0,
      "outputs": []
    },
    {
      "cell_type": "code",
      "metadata": {
        "id": "9d1DjihLvhVj",
        "colab_type": "code",
        "colab": {}
      },
      "source": [
        "params"
      ],
      "execution_count": 0,
      "outputs": []
    },
    {
      "cell_type": "code",
      "metadata": {
        "id": "QdcWvKRAvv2n",
        "colab_type": "code",
        "colab": {}
      },
      "source": [
        "grads="
      ],
      "execution_count": 0,
      "outputs": []
    },
    {
      "cell_type": "code",
      "metadata": {
        "id": "LFudq7nbwNYC",
        "colab_type": "code",
        "colab": {}
      },
      "source": [
        "np.dot(params['w1'],a)"
      ],
      "execution_count": 0,
      "outputs": []
    },
    {
      "cell_type": "code",
      "metadata": {
        "id": "z6ksUUCW0BxY",
        "colab_type": "code",
        "colab": {}
      },
      "source": [
        "sigmoid(2)"
      ],
      "execution_count": 0,
      "outputs": []
    },
    {
      "cell_type": "code",
      "metadata": {
        "id": "YlELc2xehlZs",
        "colab_type": "code",
        "colab": {}
      },
      "source": [
        "c1,c2=cache[2]"
      ],
      "execution_count": 0,
      "outputs": []
    },
    {
      "cell_type": "code",
      "metadata": {
        "id": "K6v8Spzchq_s",
        "colab_type": "code",
        "colab": {}
      },
      "source": [
        "c2"
      ],
      "execution_count": 0,
      "outputs": []
    },
    {
      "cell_type": "code",
      "metadata": {
        "id": "-OMl_Po7hzKZ",
        "colab_type": "code",
        "colab": {}
      },
      "source": [
        "dA"
      ],
      "execution_count": 0,
      "outputs": []
    },
    {
      "cell_type": "code",
      "metadata": {
        "id": "XRKCJwswiZdy",
        "colab_type": "code",
        "colab": {}
      },
      "source": [
        "dA*sigmoid(c2)*sigmoid(1-c2)"
      ],
      "execution_count": 0,
      "outputs": []
    },
    {
      "cell_type": "code",
      "metadata": {
        "id": "mcwFntbykMYA",
        "colab_type": "code",
        "colab": {}
      },
      "source": [
        "d1*sigmoid(d2)*(np.ones(d2.shape)-sigmoid(d2))"
      ],
      "execution_count": 0,
      "outputs": []
    },
    {
      "cell_type": "code",
      "metadata": {
        "id": "stYzJ2elk5SO",
        "colab_type": "code",
        "colab": {}
      },
      "source": [
        "sigmoid(d2)"
      ],
      "execution_count": 0,
      "outputs": []
    },
    {
      "cell_type": "code",
      "metadata": {
        "id": "rsTgRnm0lc37",
        "colab_type": "code",
        "colab": {}
      },
      "source": [
        "np.ones(d2.shape)-sigmoid(d2)"
      ],
      "execution_count": 0,
      "outputs": []
    },
    {
      "cell_type": "code",
      "metadata": {
        "id": "nrvnlVQktBSA",
        "colab_type": "code",
        "colab": {}
      },
      "source": [
        "len(caches)"
      ],
      "execution_count": 0,
      "outputs": []
    },
    {
      "cell_type": "code",
      "metadata": {
        "id": "fRJb21NZObjT",
        "colab_type": "code",
        "colab": {}
      },
      "source": [
        "a1=np.array([[[1,2],[3,4]],[[1,2],[3,4]]])"
      ],
      "execution_count": 0,
      "outputs": []
    },
    {
      "cell_type": "code",
      "metadata": {
        "id": "bf9QX25ROtOa",
        "colab_type": "code",
        "colab": {}
      },
      "source": [
        "np.sum(a1,axis=0)"
      ],
      "execution_count": 0,
      "outputs": []
    },
    {
      "cell_type": "code",
      "metadata": {
        "id": "NPmK_VGxUl3x",
        "colab_type": "code",
        "colab": {}
      },
      "source": [
        "ax=np.array([[[1.82966561e+71, 5.37101649e+34, 3.10119951e+31],\n",
        "         [1.82966561e+71, 5.37101649e+34, 3.10119951e+31],\n",
        "         [1.82966561e+71, 5.37101649e+34, 3.10119951e+31],\n",
        "         [1.82966561e+71, 5.37101649e+34, 3.10119951e+31]],\n",
        " \n",
        "        [[3.14106226e+80, 3.07004636e+50, 7.37319456e+50],\n",
        "         [3.14106226e+80, 3.07004636e+50, 7.37319456e+50],\n",
        "         [3.14106226e+80, 3.07004636e+50, 7.37319456e+50],\n",
        "         [3.14106226e+80, 3.07004636e+50, 7.37319456e+50]]])"
      ],
      "execution_count": 0,
      "outputs": []
    },
    {
      "cell_type": "code",
      "metadata": {
        "id": "33ProxNvUrpb",
        "colab_type": "code",
        "colab": {}
      },
      "source": [
        "np.sum(a3,axis=0)"
      ],
      "execution_count": 0,
      "outputs": []
    },
    {
      "cell_type": "code",
      "metadata": {
        "id": "dmOIQSpAduhH",
        "colab_type": "code",
        "colab": {}
      },
      "source": [
        "axx=np.array([[[ 1,2,3]],\n",
        " \n",
        "        [[1,2,3]]])"
      ],
      "execution_count": 0,
      "outputs": []
    },
    {
      "cell_type": "code",
      "metadata": {
        "id": "MXkDk0LMdynw",
        "colab_type": "code",
        "colab": {}
      },
      "source": [
        "params"
      ],
      "execution_count": 0,
      "outputs": []
    }
  ]
}