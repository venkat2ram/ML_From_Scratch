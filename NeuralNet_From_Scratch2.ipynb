{
  "nbformat": 4,
  "nbformat_minor": 0,
  "metadata": {
    "colab": {
      "name": "NeuralNet_From_Scratch2.ipynb",
      "provenance": [],
      "authorship_tag": "ABX9TyNbgXJLEFGmhec2blAhkUJa",
      "include_colab_link": true
    },
    "kernelspec": {
      "name": "python3",
      "display_name": "Python 3"
    }
  },
  "cells": [
    {
      "cell_type": "markdown",
      "metadata": {
        "id": "view-in-github",
        "colab_type": "text"
      },
      "source": [
        "<a href=\"https://colab.research.google.com/github/venkat2ram/ML_From_Scratch/blob/master/NeuralNet_From_Scratch2.ipynb\" target=\"_parent\"><img src=\"https://colab.research.google.com/assets/colab-badge.svg\" alt=\"Open In Colab\"/></a>"
      ]
    },
    {
      "cell_type": "code",
      "metadata": {
        "id": "npj_CK5AK15q",
        "colab_type": "code",
        "colab": {}
      },
      "source": [
        "import numpy as np\n"
      ],
      "execution_count": 0,
      "outputs": []
    },
    {
      "cell_type": "code",
      "metadata": {
        "id": "igRfPwMQLKis",
        "colab_type": "code",
        "colab": {}
      },
      "source": [
        "def init_params(layer_dims):\n",
        "  np.random.seed(3)\n",
        "  L=len(layer_dims)\n",
        "  params={}\n",
        "  for l in range(1,L):\n",
        "    #params['w'+str(l)]=np.random.randn(layer_dims[l],layer_dims[l-1])/0.01\n",
        "    params['w'+str(l)]=np.ones((layer_dims[l],layer_dims[l-1]))\n",
        "    params['b'+str(l)]=np.zeros((layer_dim[l],1))\n",
        "  return params\n"
      ],
      "execution_count": 0,
      "outputs": []
    },
    {
      "cell_type": "code",
      "metadata": {
        "id": "Rf3qEISiPX7i",
        "colab_type": "code",
        "colab": {}
      },
      "source": [
        "def sigmoid(Z):\n",
        "  A=1/(1+np.exp(np.dot(-1,Z)))\n",
        "  cache=(Z)\n",
        "  return A"
      ],
      "execution_count": 0,
      "outputs": []
    },
    {
      "cell_type": "code",
      "metadata": {
        "id": "lu1Hs6hLQXU2",
        "colab_type": "code",
        "colab": {}
      },
      "source": [
        "def forward_prop(X,params):\n",
        "  A=X\n",
        "  caches=[]\n",
        "  L=len(params)//2\n",
        "  for l in range(1,L+1):\n",
        "    A_prev=A\n",
        "    Z=np.dot(params['w'+str(l)],A_prev)+params['b'+str(l)]\n",
        "    linear_cache=(A_prev,params['w'+str(l)],params['b'+str(l)])\n",
        "    A,activation_cache=sigmoid(Z)\n",
        "    cache=(linear_cache,activation_cache)\n",
        "    caches.append(cache)\n",
        "  return A,caches   \n"
      ],
      "execution_count": 0,
      "outputs": []
    },
    {
      "cell_type": "code",
      "metadata": {
        "id": "xUemRgqkjI8l",
        "colab_type": "code",
        "colab": {}
      },
      "source": [
        "def cost_function(A, Y):\n",
        "  m=Y.shape[1]\n",
        "  cost=(-1/m)*np.sum(np.dot(np.log(A),Y.T)+np.dot(np.log(1-A),1-Y.T))\n",
        "  return cost"
      ],
      "execution_count": 0,
      "outputs": []
    },
    {
      "cell_type": "code",
      "metadata": {
        "id": "CDwm7g_SamET",
        "colab_type": "code",
        "colab": {}
      },
      "source": [
        "def one_layer_backward(dA,cache):\n",
        "  linear_cache, activation_cache=cache\n",
        "  \n",
        "  Z=activation_cache\n",
        "  dZ=dA*sigmoid(Z)*(np.ones(Z.shape)-sigmoid(Z))\n",
        "\n",
        "  A_prev,W,b=linear_cache\n",
        "  m=A_prev.shape[1]\n",
        "  dW=(1/m)*np.sum((np.dot(dZ,A_prev.T)),axis=0)\n",
        "  dB=(1/m)*(np.sum(dZ,axis=1,keepdims=True))\n",
        "  dA_prev=(1/m)*np.sum(np.dot(W.T,dZ),axis=1)\n",
        "\n",
        "  return dA_prev,dW,dB"
      ],
      "execution_count": 0,
      "outputs": []
    },
    {
      "cell_type": "code",
      "metadata": {
        "id": "o1ofYJfZn5rT",
        "colab_type": "code",
        "colab": {}
      },
      "source": [
        "def backprop(AL,Y,caches):\n",
        "  grads={}\n",
        "  L=len(caches)\n",
        "  Y = Y.reshape(AL.shape)\n",
        "  dA=-1*(np.divide(Y,AL)+np.divide(1-Y,1-AL))\n",
        "#  print(5)\n",
        "  grads['dA'+str(L-1)],grads['dW'+str(L-1)],grads['dB'+str(L-1)]=one_layer_backward(dA,caches[L-1])\n",
        " # print(4)\n",
        "  for l in reversed(range(L-1)):\n",
        "  #  print(l)\n",
        "    grads['dA'+str(l)],grads['dW'+str(l)],grads['dB'+str(l)]=one_layer_backward(grads['dA'+str(l+1)],cache[l])\n",
        "  return grads\n"
      ],
      "execution_count": 0,
      "outputs": []
    },
    {
      "cell_type": "code",
      "metadata": {
        "id": "b21uSUm3bEFz",
        "colab_type": "code",
        "colab": {}
      },
      "source": [
        "def update_parameters(parameters, grads, learning_rate):\n",
        "  L=len(parameters)//2\n",
        "  for l in range(1,L):\n",
        "    parameters['w'+str(l)]=parameters['w'+str(l)]-learning_rate*grads['dW'+str(l-1)]\n",
        "    parameters['b'+str(l)]=parameters['b'+str(l)]-learning_rate*grads['dB'+str(l-1)]\n",
        "  return parameters\n"
      ],
      "execution_count": 0,
      "outputs": []
    },
    {
      "cell_type": "code",
      "metadata": {
        "id": "wPHCFnf3XlXP",
        "colab_type": "code",
        "colab": {}
      },
      "source": [
        "def train(X, Y, layer_dims, epochs, lr):\n",
        "    params = init_params(layer_dims)\n",
        "    cost_history = []\n",
        "    \n",
        "    for i in range(epochs):\n",
        "        Y_hat, caches = forward_prop(X, params)\n",
        "        cost = cost_function(Y_hat, Y)\n",
        "        cost_history.append(cost)\n",
        "        grads = backprop(Y_hat, Y, caches)\n",
        "        \n",
        "        params = update_parameters(params, grads, lr)\n",
        "        if(i%1000==1):\n",
        "          print(cost)\n",
        "        \n",
        "        \n",
        "    return params, cost_history"
      ],
      "execution_count": 0,
      "outputs": []
    },
    {
      "cell_type": "code",
      "metadata": {
        "id": "x5ZRk0gzXnhk",
        "colab_type": "code",
        "colab": {
          "base_uri": "https://localhost:8080/",
          "height": 337
        },
        "outputId": "2f71f848-b362-4dfe-acb6-4ed9c1a1a107"
      },
      "source": [
        "train(a,Y,layer_dim,10000,0.0001)"
      ],
      "execution_count": 294,
      "outputs": [
        {
          "output_type": "stream",
          "text": [
            "/usr/local/lib/python3.6/dist-packages/ipykernel_launcher.py:2: RuntimeWarning: overflow encountered in exp\n",
            "  \n"
          ],
          "name": "stderr"
        },
        {
          "output_type": "error",
          "ename": "ValueError",
          "evalue": "ignored",
          "traceback": [
            "\u001b[0;31m---------------------------------------------------------------------------\u001b[0m",
            "\u001b[0;31mValueError\u001b[0m                                Traceback (most recent call last)",
            "\u001b[0;32m<ipython-input-294-86711c8fe7c3>\u001b[0m in \u001b[0;36m<module>\u001b[0;34m()\u001b[0m\n\u001b[0;32m----> 1\u001b[0;31m \u001b[0mtrain\u001b[0m\u001b[0;34m(\u001b[0m\u001b[0ma\u001b[0m\u001b[0;34m,\u001b[0m\u001b[0mY\u001b[0m\u001b[0;34m,\u001b[0m\u001b[0mlayer_dim\u001b[0m\u001b[0;34m,\u001b[0m\u001b[0;36m10000\u001b[0m\u001b[0;34m,\u001b[0m\u001b[0;36m0.0001\u001b[0m\u001b[0;34m)\u001b[0m\u001b[0;34m\u001b[0m\u001b[0;34m\u001b[0m\u001b[0m\n\u001b[0m",
            "\u001b[0;32m<ipython-input-293-0cce3dd112f2>\u001b[0m in \u001b[0;36mtrain\u001b[0;34m(X, Y, layer_dims, epochs, lr)\u001b[0m\n\u001b[1;32m      4\u001b[0m \u001b[0;34m\u001b[0m\u001b[0m\n\u001b[1;32m      5\u001b[0m     \u001b[0;32mfor\u001b[0m \u001b[0mi\u001b[0m \u001b[0;32min\u001b[0m \u001b[0mrange\u001b[0m\u001b[0;34m(\u001b[0m\u001b[0mepochs\u001b[0m\u001b[0;34m)\u001b[0m\u001b[0;34m:\u001b[0m\u001b[0;34m\u001b[0m\u001b[0;34m\u001b[0m\u001b[0m\n\u001b[0;32m----> 6\u001b[0;31m         \u001b[0mY_hat\u001b[0m\u001b[0;34m,\u001b[0m \u001b[0mcaches\u001b[0m \u001b[0;34m=\u001b[0m \u001b[0mforward_prop\u001b[0m\u001b[0;34m(\u001b[0m\u001b[0mX\u001b[0m\u001b[0;34m,\u001b[0m \u001b[0mparams\u001b[0m\u001b[0;34m)\u001b[0m\u001b[0;34m\u001b[0m\u001b[0;34m\u001b[0m\u001b[0m\n\u001b[0m\u001b[1;32m      7\u001b[0m         \u001b[0mcost\u001b[0m \u001b[0;34m=\u001b[0m \u001b[0mcost_function\u001b[0m\u001b[0;34m(\u001b[0m\u001b[0mY_hat\u001b[0m\u001b[0;34m,\u001b[0m \u001b[0mY\u001b[0m\u001b[0;34m)\u001b[0m\u001b[0;34m\u001b[0m\u001b[0;34m\u001b[0m\u001b[0m\n\u001b[1;32m      8\u001b[0m         \u001b[0mcost_history\u001b[0m\u001b[0;34m.\u001b[0m\u001b[0mappend\u001b[0m\u001b[0;34m(\u001b[0m\u001b[0mcost\u001b[0m\u001b[0;34m)\u001b[0m\u001b[0;34m\u001b[0m\u001b[0;34m\u001b[0m\u001b[0m\n",
            "\u001b[0;32m<ipython-input-217-aa3e0653cbc3>\u001b[0m in \u001b[0;36mforward_prop\u001b[0;34m(X, params)\u001b[0m\n\u001b[1;32m      5\u001b[0m   \u001b[0;32mfor\u001b[0m \u001b[0ml\u001b[0m \u001b[0;32min\u001b[0m \u001b[0mrange\u001b[0m\u001b[0;34m(\u001b[0m\u001b[0;36m1\u001b[0m\u001b[0;34m,\u001b[0m\u001b[0mL\u001b[0m\u001b[0;34m+\u001b[0m\u001b[0;36m1\u001b[0m\u001b[0;34m)\u001b[0m\u001b[0;34m:\u001b[0m\u001b[0;34m\u001b[0m\u001b[0;34m\u001b[0m\u001b[0m\n\u001b[1;32m      6\u001b[0m     \u001b[0mA_prev\u001b[0m\u001b[0;34m=\u001b[0m\u001b[0mA\u001b[0m\u001b[0;34m\u001b[0m\u001b[0;34m\u001b[0m\u001b[0m\n\u001b[0;32m----> 7\u001b[0;31m     \u001b[0mZ\u001b[0m\u001b[0;34m=\u001b[0m\u001b[0mnp\u001b[0m\u001b[0;34m.\u001b[0m\u001b[0mdot\u001b[0m\u001b[0;34m(\u001b[0m\u001b[0mparams\u001b[0m\u001b[0;34m[\u001b[0m\u001b[0;34m'w'\u001b[0m\u001b[0;34m+\u001b[0m\u001b[0mstr\u001b[0m\u001b[0;34m(\u001b[0m\u001b[0ml\u001b[0m\u001b[0;34m)\u001b[0m\u001b[0;34m]\u001b[0m\u001b[0;34m,\u001b[0m\u001b[0mA_prev\u001b[0m\u001b[0;34m)\u001b[0m\u001b[0;34m+\u001b[0m\u001b[0mparams\u001b[0m\u001b[0;34m[\u001b[0m\u001b[0;34m'b'\u001b[0m\u001b[0;34m+\u001b[0m\u001b[0mstr\u001b[0m\u001b[0;34m(\u001b[0m\u001b[0ml\u001b[0m\u001b[0;34m)\u001b[0m\u001b[0;34m]\u001b[0m\u001b[0;34m\u001b[0m\u001b[0;34m\u001b[0m\u001b[0m\n\u001b[0m\u001b[1;32m      8\u001b[0m     \u001b[0mlinear_cache\u001b[0m\u001b[0;34m=\u001b[0m\u001b[0;34m(\u001b[0m\u001b[0mA_prev\u001b[0m\u001b[0;34m,\u001b[0m\u001b[0mparams\u001b[0m\u001b[0;34m[\u001b[0m\u001b[0;34m'w'\u001b[0m\u001b[0;34m+\u001b[0m\u001b[0mstr\u001b[0m\u001b[0;34m(\u001b[0m\u001b[0ml\u001b[0m\u001b[0;34m)\u001b[0m\u001b[0;34m]\u001b[0m\u001b[0;34m,\u001b[0m\u001b[0mparams\u001b[0m\u001b[0;34m[\u001b[0m\u001b[0;34m'b'\u001b[0m\u001b[0;34m+\u001b[0m\u001b[0mstr\u001b[0m\u001b[0;34m(\u001b[0m\u001b[0ml\u001b[0m\u001b[0;34m)\u001b[0m\u001b[0;34m]\u001b[0m\u001b[0;34m)\u001b[0m\u001b[0;34m\u001b[0m\u001b[0;34m\u001b[0m\u001b[0m\n\u001b[1;32m      9\u001b[0m     \u001b[0mA\u001b[0m\u001b[0;34m,\u001b[0m\u001b[0mactivation_cache\u001b[0m\u001b[0;34m=\u001b[0m\u001b[0msigmoid\u001b[0m\u001b[0;34m(\u001b[0m\u001b[0mZ\u001b[0m\u001b[0;34m)\u001b[0m\u001b[0;34m\u001b[0m\u001b[0;34m\u001b[0m\u001b[0m\n",
            "\u001b[0;31mValueError\u001b[0m: operands could not be broadcast together with shapes (4,2,3) (2,4,3) "
          ]
        }
      ]
    },
    {
      "cell_type": "markdown",
      "metadata": {
        "id": "KiyOVn43PUc2",
        "colab_type": "text"
      },
      "source": [
        "**Rough**"
      ]
    },
    {
      "cell_type": "code",
      "metadata": {
        "id": "V4OPXfYckmUZ",
        "colab_type": "code",
        "outputId": "029ec7e7-8be2-42b9-cd34-cb5bdf5a16f2",
        "colab": {
          "base_uri": "https://localhost:8080/",
          "height": 34
        }
      },
      "source": [
        "a=np.array([[0.2,0.2,0.3],[0.3,0.4,0.5],[0.4,0.3,0.5]])\n",
        "b=np.array([[0.3,0.4,0.5],[0.6,0.7,0.8]])\n",
        "Y=np.array([[0,1,1],[1,0,0],[0,1,1],[1,0,0]])\n",
        "cost_function(a,b)\n"
      ],
      "execution_count": 333,
      "outputs": [
        {
          "output_type": "execute_result",
          "data": {
            "text/plain": [
              "4.742705654642286"
            ]
          },
          "metadata": {
            "tags": []
          },
          "execution_count": 333
        }
      ]
    },
    {
      "cell_type": "code",
      "metadata": {
        "id": "V92JyrS5ud-5",
        "colab_type": "code",
        "colab": {}
      },
      "source": [
        "layer_dim=[3,4,4,4]"
      ],
      "execution_count": 0,
      "outputs": []
    },
    {
      "cell_type": "code",
      "metadata": {
        "id": "3I6qCh4euv8P",
        "colab_type": "code",
        "colab": {}
      },
      "source": [
        "params=init_params(layer_dim)"
      ],
      "execution_count": 0,
      "outputs": []
    },
    {
      "cell_type": "code",
      "metadata": {
        "id": "EGZO7HjPvJua",
        "colab_type": "code",
        "colab": {}
      },
      "source": [
        "y_hat,caches=forward_prop(a,params)"
      ],
      "execution_count": 0,
      "outputs": []
    },
    {
      "cell_type": "code",
      "metadata": {
        "id": "SLN0mSpaFblj",
        "colab_type": "code",
        "colab": {}
      },
      "source": [
        "grads=backprop(y_hat,Y,caches)"
      ],
      "execution_count": 0,
      "outputs": []
    },
    {
      "cell_type": "code",
      "metadata": {
        "id": "CWSbkOEIR5a9",
        "colab_type": "code",
        "colab": {
          "base_uri": "https://localhost:8080/",
          "height": 622
        },
        "outputId": "8d8e6cf4-8d8b-4de0-dd28-e88837a837bd"
      },
      "source": [
        "grads"
      ],
      "execution_count": 338,
      "outputs": [
        {
          "output_type": "execute_result",
          "data": {
            "text/plain": [
              "{'dA0': array([[-3.45404552e+13, -3.92961572e+13, -8.83674968e+13],\n",
              "        [-1.19455133e+13, -1.28479453e+13, -2.94559327e+13],\n",
              "        [-1.73229222e+12, -3.84673554e+12, -6.08642297e+12]]),\n",
              " 'dA1': array([[ 2.40363348e+08,  2.40363219e+08,  2.61996268e+08],\n",
              "        [ 2.15179835e+07,  2.15175481e+07,  2.34541597e+07],\n",
              "        [-3.31390135e+08, -3.31390064e+08, -3.61215665e+08],\n",
              "        [ 5.11541584e+07,  5.11539908e+07,  5.57579265e+07]]),\n",
              " 'dA2': array([[320.45641529, 320.45641529, 349.29797193],\n",
              "        [320.45641529, 320.45641529, 349.29797193],\n",
              "        [320.45641529, 320.45641529, 349.29797193],\n",
              "        [320.45641529, 320.45641529, 349.29797193]]),\n",
              " 'dB0': array([[[ 2.16539401e+01, -7.26910830e-05, -2.19090341e-08]],\n",
              " \n",
              "        [[-1.90985114e+11, -2.05470000e+11, -4.80672178e+11]]]),\n",
              " 'dB1': array([[[ 2.20752352e-22,  2.20783252e-22,  2.40654075e-22]],\n",
              " \n",
              "        [[-3.78708910e+06, -3.78708874e+06, -4.12793239e+06]]]),\n",
              " 'dB2': array([[[ -0.66666667,  -0.66666667,  -0.66666667]],\n",
              " \n",
              "        [[321.12308195, 321.12308195, 349.9646386 ]]]),\n",
              " 'dW0': array([[-2.60160490e+11, -4.42843938e+11, -4.39905729e+11],\n",
              "        [-2.84594513e+10, -4.82568312e+10, -4.83233606e+10],\n",
              "        [ 7.75728480e+10,  1.33389210e+11,  1.30086577e+11],\n",
              "        [-1.24455834e+10, -2.21080639e+10, -2.02286220e+10]]),\n",
              " 'dW1': array([[-2.53463605e+06, -2.82996820e-20, -1.84611135e-04,\n",
              "         -1.04287257e+00],\n",
              "        [-9.99689003e+05, -1.11617127e-20, -7.28130176e-05,\n",
              "         -4.11322426e-01],\n",
              "        [-4.67440728e+06, -5.21906246e-20, -3.40462301e-04,\n",
              "         -1.92327940e+00],\n",
              "        [-3.49337789e+06, -3.90042121e-20, -2.54441713e-04,\n",
              "         -1.43734712e+00]]),\n",
              " 'dW2': array([[154.95682106, 154.95682106, 154.95682106, 154.95682106],\n",
              "        [315.30005968, 315.30005968, 315.30005968, 315.30005968],\n",
              "        [154.95682106, 154.95682106, 154.95682106, 154.95682106],\n",
              "        [315.30005968, 315.30005968, 315.30005968, 315.30005968]])}"
            ]
          },
          "metadata": {
            "tags": []
          },
          "execution_count": 338
        }
      ]
    },
    {
      "cell_type": "code",
      "metadata": {
        "id": "RDDgK90Nb7-L",
        "colab_type": "code",
        "colab": {
          "base_uri": "https://localhost:8080/",
          "height": 672
        },
        "outputId": "d243596d-8e78-42f9-9ca5-20d594492247"
      },
      "source": [
        "caches"
      ],
      "execution_count": 342,
      "outputs": [
        {
          "output_type": "execute_result",
          "data": {
            "text/plain": [
              "[((array([[0.2, 0.2, 0.3],\n",
              "          [0.3, 0.4, 0.5],\n",
              "          [0.4, 0.3, 0.5]]), array([[1., 1., 1.],\n",
              "          [1., 1., 1.],\n",
              "          [1., 1., 1.],\n",
              "          [1., 1., 1.]]), array([[0.],\n",
              "          [0.],\n",
              "          [0.],\n",
              "          [0.]])), array([[0.9, 0.9, 1.3],\n",
              "         [0.9, 0.9, 1.3],\n",
              "         [0.9, 0.9, 1.3],\n",
              "         [0.9, 0.9, 1.3]])), ((array([[0.7109495 , 0.7109495 , 0.78583498],\n",
              "          [0.7109495 , 0.7109495 , 0.78583498],\n",
              "          [0.7109495 , 0.7109495 , 0.78583498],\n",
              "          [0.7109495 , 0.7109495 , 0.78583498]]), array([[1., 1., 1., 1.],\n",
              "          [1., 1., 1., 1.],\n",
              "          [1., 1., 1., 1.],\n",
              "          [1., 1., 1., 1.]]), array([[0.],\n",
              "          [0.],\n",
              "          [0.],\n",
              "          [0.]])), array([[2.84379801, 2.84379801, 3.14333993],\n",
              "         [2.84379801, 2.84379801, 3.14333993],\n",
              "         [2.84379801, 2.84379801, 3.14333993],\n",
              "         [2.84379801, 2.84379801, 3.14333993]])), ((array([[0.94499721, 0.94499721, 0.95864549],\n",
              "          [0.94499721, 0.94499721, 0.95864549],\n",
              "          [0.94499721, 0.94499721, 0.95864549],\n",
              "          [0.94499721, 0.94499721, 0.95864549]]),\n",
              "   array([[1., 1., 1., 1.],\n",
              "          [1., 1., 1., 1.],\n",
              "          [1., 1., 1., 1.],\n",
              "          [1., 1., 1., 1.]]),\n",
              "   array([[0.],\n",
              "          [0.],\n",
              "          [0.],\n",
              "          [0.]])),\n",
              "  array([[3.77998883, 3.77998883, 3.83458197],\n",
              "         [3.77998883, 3.77998883, 3.83458197],\n",
              "         [3.77998883, 3.77998883, 3.83458197],\n",
              "         [3.77998883, 3.77998883, 3.83458197]]))]"
            ]
          },
          "metadata": {
            "tags": []
          },
          "execution_count": 342
        }
      ]
    },
    {
      "cell_type": "code",
      "metadata": {
        "id": "9b2WSFMKfUa-",
        "colab_type": "code",
        "colab": {}
      },
      "source": [
        "dA1=np.array([[ 2.40363348e+08,  2.40363219e+08,  2.61996268e+08],\n",
        "        [ 2.15179835e+07,  2.15175481e+07,  2.34541597e+07],\n",
        "        [-3.31390135e+08, -3.31390064e+08, -3.61215665e+08],\n",
        "        [ 5.11541584e+07,  5.11539908e+07,  5.57579265e+07]])"
      ],
      "execution_count": 0,
      "outputs": []
    },
    {
      "cell_type": "code",
      "metadata": {
        "id": "CRw3CN8QfvuM",
        "colab_type": "code",
        "colab": {}
      },
      "source": [
        "z1=np.array([[0.94499721, 0.94499721, 0.95864549],\n",
        "          [0.94499721, 0.94499721, 0.95864549],\n",
        "          [0.94499721, 0.94499721, 0.95864549],\n",
        "          [0.94499721, 0.94499721, 0.95864549]])"
      ],
      "execution_count": 0,
      "outputs": []
    },
    {
      "cell_type": "code",
      "metadata": {
        "id": "1gWaadZaf0gg",
        "colab_type": "code",
        "colab": {}
      },
      "source": [
        "dZ=dA1*sigmoid(z1)*(np.ones(z1.shape)-sigmoid(z1))"
      ],
      "execution_count": 0,
      "outputs": []
    },
    {
      "cell_type": "code",
      "metadata": {
        "id": "VAHvfQ6sfvl5",
        "colab_type": "code",
        "colab": {
          "base_uri": "https://localhost:8080/",
          "height": 84
        },
        "outputId": "1dca6072-875f-4334-fc36-412f802a8275"
      },
      "source": [
        "z1"
      ],
      "execution_count": 352,
      "outputs": [
        {
          "output_type": "execute_result",
          "data": {
            "text/plain": [
              "array([[0.94499721, 0.94499721, 0.95864549],\n",
              "       [0.94499721, 0.94499721, 0.95864549],\n",
              "       [0.94499721, 0.94499721, 0.95864549],\n",
              "       [0.94499721, 0.94499721, 0.95864549]])"
            ]
          },
          "metadata": {
            "tags": []
          },
          "execution_count": 352
        }
      ]
    },
    {
      "cell_type": "code",
      "metadata": {
        "id": "taB9Vl4ofoXu",
        "colab_type": "code",
        "colab": {}
      },
      "source": [
        ""
      ],
      "execution_count": 0,
      "outputs": []
    },
    {
      "cell_type": "code",
      "metadata": {
        "id": "oF3iYJhmSIpR",
        "colab_type": "code",
        "colab": {
          "base_uri": "https://localhost:8080/",
          "height": 162
        },
        "outputId": "b764ef8a-dad2-438b-d5e0-afc2a13cbcfd"
      },
      "source": [
        "grads['dA4']"
      ],
      "execution_count": 280,
      "outputs": [
        {
          "output_type": "error",
          "ename": "KeyError",
          "evalue": "ignored",
          "traceback": [
            "\u001b[0;31m---------------------------------------------------------------------------\u001b[0m",
            "\u001b[0;31mKeyError\u001b[0m                                  Traceback (most recent call last)",
            "\u001b[0;32m<ipython-input-280-0d808ead9f59>\u001b[0m in \u001b[0;36m<module>\u001b[0;34m()\u001b[0m\n\u001b[0;32m----> 1\u001b[0;31m \u001b[0mgrads\u001b[0m\u001b[0;34m[\u001b[0m\u001b[0;34m'dA4'\u001b[0m\u001b[0;34m]\u001b[0m\u001b[0;34m\u001b[0m\u001b[0;34m\u001b[0m\u001b[0m\n\u001b[0m",
            "\u001b[0;31mKeyError\u001b[0m: 'dA4'"
          ]
        }
      ]
    },
    {
      "cell_type": "code",
      "metadata": {
        "id": "kCPOF3yUKYQY",
        "colab_type": "code",
        "colab": {}
      },
      "source": [
        "len(caches)"
      ],
      "execution_count": 0,
      "outputs": []
    },
    {
      "cell_type": "code",
      "metadata": {
        "id": "qou_vD1jIYHB",
        "colab_type": "code",
        "colab": {}
      },
      "source": [
        "dA=-1*(np.divide(Y,y_hat)+np.divide(1-Y,1-y_hat))"
      ],
      "execution_count": 0,
      "outputs": []
    },
    {
      "cell_type": "code",
      "metadata": {
        "id": "rfxhHS4eLsvg",
        "colab_type": "code",
        "colab": {
          "base_uri": "https://localhost:8080/",
          "height": 84
        },
        "outputId": "cdd3cfab-76fa-4fc9-9a79-38b9b915bcac"
      },
      "source": [
        "dA"
      ],
      "execution_count": 302,
      "outputs": [
        {
          "output_type": "execute_result",
          "data": {
            "text/plain": [
              "array([[-1.00000000e+00, -2.45549154e+33, -2.45549154e+33],\n",
              "       [-1.07544860e+54, -1.00000000e+00, -1.00000000e+00],\n",
              "       [-1.00000000e+00, -1.31758228e+40, -1.31758228e+40],\n",
              "       [-3.15058476e+70, -1.00000000e+00, -1.00000000e+00]])"
            ]
          },
          "metadata": {
            "tags": []
          },
          "execution_count": 302
        }
      ]
    },
    {
      "cell_type": "code",
      "metadata": {
        "id": "lB8l3-FtVcnS",
        "colab_type": "code",
        "colab": {
          "base_uri": "https://localhost:8080/",
          "height": 84
        },
        "outputId": "ea581c50-9913-4588-ba75-6c4bac579155"
      },
      "source": [
        "np.sum(dA,axis=1,keepdims=True)"
      ],
      "execution_count": 252,
      "outputs": [
        {
          "output_type": "execute_result",
          "data": {
            "text/plain": [
              "array([[-4.91098309e+33],\n",
              "       [-1.07544860e+54],\n",
              "       [-2.63516456e+40],\n",
              "       [-3.15058476e+70]])"
            ]
          },
          "metadata": {
            "tags": []
          },
          "execution_count": 252
        }
      ]
    },
    {
      "cell_type": "code",
      "metadata": {
        "id": "wUct4n59K_WC",
        "colab_type": "code",
        "colab": {}
      },
      "source": [
        "grads={}"
      ],
      "execution_count": 0,
      "outputs": []
    },
    {
      "cell_type": "code",
      "metadata": {
        "id": "rZg41N5GKxyk",
        "colab_type": "code",
        "colab": {}
      },
      "source": [
        "grads['dA'+str(2)],grads['dW'+str(2)],grads['dB'+str(2)]=one_layer_backward(dA,caches[2])"
      ],
      "execution_count": 0,
      "outputs": []
    },
    {
      "cell_type": "code",
      "metadata": {
        "id": "hZZiO_UVLPgW",
        "colab_type": "code",
        "colab": {
          "base_uri": "https://localhost:8080/",
          "height": 67
        },
        "outputId": "87822333-bd1e-4700-a320-73ed08cc13d2"
      },
      "source": [
        "grads['dB'+str(0)]"
      ],
      "execution_count": 243,
      "outputs": [
        {
          "output_type": "execute_result",
          "data": {
            "text/plain": [
              "array([[[-1.82966561e+75, -5.37101649e+38, -3.10119951e+35]],\n",
              "\n",
              "       [[-3.14106226e+84, -3.07004636e+54, -7.37319456e+54]]])"
            ]
          },
          "metadata": {
            "tags": []
          },
          "execution_count": 243
        }
      ]
    },
    {
      "cell_type": "code",
      "metadata": {
        "id": "eZYzd868Nzg9",
        "colab_type": "code",
        "colab": {
          "base_uri": "https://localhost:8080/",
          "height": 50
        },
        "outputId": "80d7ceee-350f-425e-e3b3-ef9de96b35e0"
      },
      "source": [
        "np.sum(grads['dB'+str(0)],axis=2)"
      ],
      "execution_count": 244,
      "outputs": [
        {
          "output_type": "execute_result",
          "data": {
            "text/plain": [
              "array([[-1.82966561e+75],\n",
              "       [-3.14106226e+84]])"
            ]
          },
          "metadata": {
            "tags": []
          },
          "execution_count": 244
        }
      ]
    },
    {
      "cell_type": "code",
      "metadata": {
        "id": "eq9zg0WgLEVP",
        "colab_type": "code",
        "colab": {}
      },
      "source": [
        "grads['dA'+str(1)],grads['dW'+str(1)],grads['dB'+str(1)]=one_layer_backward(grads['dA'+str(2)],cache[l])"
      ],
      "execution_count": 0,
      "outputs": []
    },
    {
      "cell_type": "code",
      "metadata": {
        "id": "F7oiSFB7ITNv",
        "colab_type": "code",
        "colab": {}
      },
      "source": [
        "caches"
      ],
      "execution_count": 0,
      "outputs": []
    },
    {
      "cell_type": "code",
      "metadata": {
        "id": "i3bDgV-EF8ej",
        "colab_type": "code",
        "colab": {}
      },
      "source": [
        "y_hat"
      ],
      "execution_count": 0,
      "outputs": []
    },
    {
      "cell_type": "code",
      "metadata": {
        "id": "u24xjwq1hR5w",
        "colab_type": "code",
        "colab": {}
      },
      "source": [
        "dA=-1*np.divide(b,y_hat)+np.divide(1-b,1-y_hat)"
      ],
      "execution_count": 0,
      "outputs": []
    },
    {
      "cell_type": "code",
      "metadata": {
        "id": "nZGdPLjChToj",
        "colab_type": "code",
        "colab": {}
      },
      "source": [
        "one_layer_backward(dA,cache[2])"
      ],
      "execution_count": 0,
      "outputs": []
    },
    {
      "cell_type": "code",
      "metadata": {
        "id": "_vZs4Kqhy-xa",
        "colab_type": "code",
        "colab": {}
      },
      "source": [
        "params"
      ],
      "execution_count": 0,
      "outputs": []
    },
    {
      "cell_type": "code",
      "metadata": {
        "id": "7tuF2nuQxiWs",
        "colab_type": "code",
        "colab": {}
      },
      "source": [
        "cache"
      ],
      "execution_count": 0,
      "outputs": []
    },
    {
      "cell_type": "code",
      "metadata": {
        "id": "9d1DjihLvhVj",
        "colab_type": "code",
        "colab": {}
      },
      "source": [
        "params"
      ],
      "execution_count": 0,
      "outputs": []
    },
    {
      "cell_type": "code",
      "metadata": {
        "id": "QdcWvKRAvv2n",
        "colab_type": "code",
        "colab": {}
      },
      "source": [
        "grads="
      ],
      "execution_count": 0,
      "outputs": []
    },
    {
      "cell_type": "code",
      "metadata": {
        "id": "LFudq7nbwNYC",
        "colab_type": "code",
        "colab": {}
      },
      "source": [
        "np.dot(params['w1'],a)"
      ],
      "execution_count": 0,
      "outputs": []
    },
    {
      "cell_type": "code",
      "metadata": {
        "id": "z6ksUUCW0BxY",
        "colab_type": "code",
        "colab": {}
      },
      "source": [
        "sigmoid(2)"
      ],
      "execution_count": 0,
      "outputs": []
    },
    {
      "cell_type": "code",
      "metadata": {
        "id": "YlELc2xehlZs",
        "colab_type": "code",
        "colab": {}
      },
      "source": [
        "c1,c2=cache[2]"
      ],
      "execution_count": 0,
      "outputs": []
    },
    {
      "cell_type": "code",
      "metadata": {
        "id": "K6v8Spzchq_s",
        "colab_type": "code",
        "colab": {}
      },
      "source": [
        "c2"
      ],
      "execution_count": 0,
      "outputs": []
    },
    {
      "cell_type": "code",
      "metadata": {
        "id": "-OMl_Po7hzKZ",
        "colab_type": "code",
        "colab": {}
      },
      "source": [
        "dA"
      ],
      "execution_count": 0,
      "outputs": []
    },
    {
      "cell_type": "code",
      "metadata": {
        "id": "XRKCJwswiZdy",
        "colab_type": "code",
        "colab": {}
      },
      "source": [
        "dA*sigmoid(c2)*sigmoid(1-c2)"
      ],
      "execution_count": 0,
      "outputs": []
    },
    {
      "cell_type": "code",
      "metadata": {
        "id": "mcwFntbykMYA",
        "colab_type": "code",
        "colab": {}
      },
      "source": [
        "d1*sigmoid(d2)*(np.ones(d2.shape)-sigmoid(d2))"
      ],
      "execution_count": 0,
      "outputs": []
    },
    {
      "cell_type": "code",
      "metadata": {
        "id": "stYzJ2elk5SO",
        "colab_type": "code",
        "colab": {}
      },
      "source": [
        "sigmoid(d2)"
      ],
      "execution_count": 0,
      "outputs": []
    },
    {
      "cell_type": "code",
      "metadata": {
        "id": "rsTgRnm0lc37",
        "colab_type": "code",
        "colab": {}
      },
      "source": [
        "np.ones(d2.shape)-sigmoid(d2)"
      ],
      "execution_count": 0,
      "outputs": []
    },
    {
      "cell_type": "code",
      "metadata": {
        "id": "nrvnlVQktBSA",
        "colab_type": "code",
        "colab": {}
      },
      "source": [
        "len(caches)"
      ],
      "execution_count": 0,
      "outputs": []
    },
    {
      "cell_type": "code",
      "metadata": {
        "id": "fRJb21NZObjT",
        "colab_type": "code",
        "colab": {}
      },
      "source": [
        "a1=np.array([[[1,2],[3,4]],[[1,2],[3,4]]])"
      ],
      "execution_count": 0,
      "outputs": []
    },
    {
      "cell_type": "code",
      "metadata": {
        "id": "bf9QX25ROtOa",
        "colab_type": "code",
        "colab": {}
      },
      "source": [
        "np.sum(a1,axis=0)"
      ],
      "execution_count": 0,
      "outputs": []
    },
    {
      "cell_type": "code",
      "metadata": {
        "id": "NPmK_VGxUl3x",
        "colab_type": "code",
        "colab": {}
      },
      "source": [
        "ax=np.array([[[1.82966561e+71, 5.37101649e+34, 3.10119951e+31],\n",
        "         [1.82966561e+71, 5.37101649e+34, 3.10119951e+31],\n",
        "         [1.82966561e+71, 5.37101649e+34, 3.10119951e+31],\n",
        "         [1.82966561e+71, 5.37101649e+34, 3.10119951e+31]],\n",
        " \n",
        "        [[3.14106226e+80, 3.07004636e+50, 7.37319456e+50],\n",
        "         [3.14106226e+80, 3.07004636e+50, 7.37319456e+50],\n",
        "         [3.14106226e+80, 3.07004636e+50, 7.37319456e+50],\n",
        "         [3.14106226e+80, 3.07004636e+50, 7.37319456e+50]]])"
      ],
      "execution_count": 0,
      "outputs": []
    },
    {
      "cell_type": "code",
      "metadata": {
        "id": "33ProxNvUrpb",
        "colab_type": "code",
        "colab": {
          "base_uri": "https://localhost:8080/",
          "height": 34
        },
        "outputId": "b0581cbd-60d9-4263-8450-9d5c6711fdfa"
      },
      "source": [
        "np.sum(a3,axis=0)"
      ],
      "execution_count": 250,
      "outputs": [
        {
          "output_type": "execute_result",
          "data": {
            "text/plain": [
              "array([[2, 4, 6]])"
            ]
          },
          "metadata": {
            "tags": []
          },
          "execution_count": 250
        }
      ]
    },
    {
      "cell_type": "code",
      "metadata": {
        "id": "dmOIQSpAduhH",
        "colab_type": "code",
        "colab": {}
      },
      "source": [
        "axx=np.array([[[ 1,2,3]],\n",
        " \n",
        "        [[1,2,3]]])"
      ],
      "execution_count": 0,
      "outputs": []
    },
    {
      "cell_type": "code",
      "metadata": {
        "id": "MXkDk0LMdynw",
        "colab_type": "code",
        "colab": {
          "base_uri": "https://localhost:8080/",
          "height": 336
        },
        "outputId": "3f168877-b6a0-4151-c28f-4a75b6bb8825"
      },
      "source": [
        "params"
      ],
      "execution_count": 341,
      "outputs": [
        {
          "output_type": "execute_result",
          "data": {
            "text/plain": [
              "{'b1': array([[0.],\n",
              "        [0.],\n",
              "        [0.],\n",
              "        [0.]]), 'b2': array([[0.],\n",
              "        [0.],\n",
              "        [0.],\n",
              "        [0.]]), 'b3': array([[0.],\n",
              "        [0.],\n",
              "        [0.],\n",
              "        [0.]]), 'w1': array([[1., 1., 1.],\n",
              "        [1., 1., 1.],\n",
              "        [1., 1., 1.],\n",
              "        [1., 1., 1.]]), 'w2': array([[1., 1., 1., 1.],\n",
              "        [1., 1., 1., 1.],\n",
              "        [1., 1., 1., 1.],\n",
              "        [1., 1., 1., 1.]]), 'w3': array([[1., 1., 1., 1.],\n",
              "        [1., 1., 1., 1.],\n",
              "        [1., 1., 1., 1.],\n",
              "        [1., 1., 1., 1.]])}"
            ]
          },
          "metadata": {
            "tags": []
          },
          "execution_count": 341
        }
      ]
    }
  ]
}