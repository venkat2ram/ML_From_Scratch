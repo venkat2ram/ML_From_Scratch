{
  "nbformat": 4,
  "nbformat_minor": 0,
  "metadata": {
    "colab": {
      "name": "NeuralNet_From_Scratch2.ipynb",
      "provenance": [],
      "authorship_tag": "ABX9TyP92+p0r3UFCPDRQVcWwl7I",
      "include_colab_link": true
    },
    "kernelspec": {
      "name": "python3",
      "display_name": "Python 3"
    }
  },
  "cells": [
    {
      "cell_type": "markdown",
      "metadata": {
        "id": "view-in-github",
        "colab_type": "text"
      },
      "source": [
        "<a href=\"https://colab.research.google.com/github/venkat2ram/ML_From_Scratch/blob/master/NeuralNet_From_Scratch2.ipynb\" target=\"_parent\"><img src=\"https://colab.research.google.com/assets/colab-badge.svg\" alt=\"Open In Colab\"/></a>"
      ]
    },
    {
      "cell_type": "code",
      "metadata": {
        "id": "npj_CK5AK15q",
        "colab_type": "code",
        "colab": {}
      },
      "source": [
        "import numpy as np\n"
      ],
      "execution_count": 0,
      "outputs": []
    },
    {
      "cell_type": "code",
      "metadata": {
        "id": "igRfPwMQLKis",
        "colab_type": "code",
        "colab": {}
      },
      "source": [
        "def init_params(layer_dims):\n",
        "  np.random.seed(3)\n",
        "  L=len(layer_dims)\n",
        "  params={}\n",
        "  for l in range(1,L):\n",
        "    params['w'+str(l)]=np.random.randn(layer_dims[l],layer_dims[l-1])/0.01\n",
        "    params['b'+str(l)]=np.zeros((layer_dim[l],1))\n",
        "  return params\n"
      ],
      "execution_count": 0,
      "outputs": []
    },
    {
      "cell_type": "code",
      "metadata": {
        "id": "Rf3qEISiPX7i",
        "colab_type": "code",
        "colab": {}
      },
      "source": [
        "def sigmoid(Z):\n",
        "  A=1/(1+np.exp(np.dot(-1,Z)))\n",
        "  cache=(Z)\n",
        "  return A,cache"
      ],
      "execution_count": 0,
      "outputs": []
    },
    {
      "cell_type": "code",
      "metadata": {
        "id": "lu1Hs6hLQXU2",
        "colab_type": "code",
        "colab": {}
      },
      "source": [
        "def forward_prop(X,params):\n",
        "  A=X\n",
        "  caches=[]\n",
        "  L=len(params)//2\n",
        "  for l in range(1,L+1):\n",
        "    A_prev=A\n",
        "    Z=np.dot(params['w'+str(l)],A_prev)+params['b'+str(l)]\n",
        "    linear_cache=(A_prev,params['w'+str(l)],params['b'+str(l)])\n",
        "    A,activation_cache=sigmoid(Z)\n",
        "    cache=(linear_cache,activation_cache)\n",
        "    caches.append(cache)\n",
        "  return A,caches   \n"
      ],
      "execution_count": 0,
      "outputs": []
    },
    {
      "cell_type": "code",
      "metadata": {
        "id": "xUemRgqkjI8l",
        "colab_type": "code",
        "colab": {}
      },
      "source": [
        "def cost_function(A, Y):\n",
        "  m=Y.shape[1]\n",
        "  cost=(-1/m)*np.sum(np.dot(np.log(A),Y.T)+np.dot(np.log(1-A),1-Y.T))\n",
        "  return cost"
      ],
      "execution_count": 0,
      "outputs": []
    },
    {
      "cell_type": "markdown",
      "metadata": {
        "id": "KiyOVn43PUc2",
        "colab_type": "text"
      },
      "source": [
        "**Rough**"
      ]
    },
    {
      "cell_type": "code",
      "metadata": {
        "id": "V4OPXfYckmUZ",
        "colab_type": "code",
        "colab": {
          "base_uri": "https://localhost:8080/",
          "height": 34
        },
        "outputId": "3e74c234-9e17-441d-d5c4-7ca5c8012d56"
      },
      "source": [
        "a=np.array([[0.2,0.2,0.3],[0.3,0.4,0.5],[0.4,0.3,0.5]])\n",
        "b=np.array([[0.3,0.4,0.5],[0.6,0.7,0.8])\n",
        "cost_function(a,b)\n"
      ],
      "execution_count": 73,
      "outputs": [
        {
          "output_type": "execute_result",
          "data": {
            "text/plain": [
              "4.742705654642286"
            ]
          },
          "metadata": {
            "tags": []
          },
          "execution_count": 73
        }
      ]
    },
    {
      "cell_type": "code",
      "metadata": {
        "id": "D9N4-r_hq_GK",
        "colab_type": "code",
        "colab": {
          "base_uri": "https://localhost:8080/",
          "height": 50
        },
        "outputId": "70e9e8b7-8789-4cbb-f8c6-b53b93a85ce1"
      },
      "source": [
        "np.divide(b,y_hat)+np.divide(1-b,1-y_hat)"
      ],
      "execution_count": 88,
      "outputs": [
        {
          "output_type": "execute_result",
          "data": {
            "text/plain": [
              "array([[7.36647463e+32, 9.82196618e+32, 1.22774577e+33],\n",
              "       [6.45269158e+53, 7.52814018e+53, 8.60358877e+53]])"
            ]
          },
          "metadata": {
            "tags": []
          },
          "execution_count": 88
        }
      ]
    },
    {
      "cell_type": "code",
      "metadata": {
        "id": "iei4jvdfpT1T",
        "colab_type": "code",
        "colab": {
          "base_uri": "https://localhost:8080/",
          "height": 34
        },
        "outputId": "474df04f-f57d-4745-e9bc-5e8c2e7d5b0a"
      },
      "source": [
        "a.shape[1]"
      ],
      "execution_count": 55,
      "outputs": [
        {
          "output_type": "execute_result",
          "data": {
            "text/plain": [
              "3"
            ]
          },
          "metadata": {
            "tags": []
          },
          "execution_count": 55
        }
      ]
    },
    {
      "cell_type": "code",
      "metadata": {
        "id": "SySAtusWOuHM",
        "colab_type": "code",
        "colab": {
          "base_uri": "https://localhost:8080/",
          "height": 50
        },
        "outputId": "83ac2cce-2db9-4c03-d6a7-c870f40750e6"
      },
      "source": [
        " np.random.seed(3)\n",
        "np.random.randn(2,2)"
      ],
      "execution_count": 26,
      "outputs": [
        {
          "output_type": "execute_result",
          "data": {
            "text/plain": [
              "array([[ 1.78862847,  0.43650985],\n",
              "       [ 0.09649747, -1.8634927 ]])"
            ]
          },
          "metadata": {
            "tags": []
          },
          "execution_count": 26
        }
      ]
    },
    {
      "cell_type": "code",
      "metadata": {
        "id": "HGd5Ljf7QZW6",
        "colab_type": "code",
        "colab": {
          "base_uri": "https://localhost:8080/",
          "height": 34
        },
        "outputId": "462a9690-8a12-4d5c-cd25-546701020446"
      },
      "source": [
        "a=[1,2]\n",
        "b=[[3,4],[5,6]]\n",
        "c=[[3],[5]]\n",
        "ca=(a,b)\n",
        "ca=(ca,c)\n",
        "ca"
      ],
      "execution_count": 31,
      "outputs": [
        {
          "output_type": "execute_result",
          "data": {
            "text/plain": [
              "(([1, 2], [[3, 4], [5, 6]]), [[3], [5]])"
            ]
          },
          "metadata": {
            "tags": []
          },
          "execution_count": 31
        }
      ]
    },
    {
      "cell_type": "code",
      "metadata": {
        "id": "4HUrZDO2sZkl",
        "colab_type": "code",
        "colab": {
          "base_uri": "https://localhost:8080/",
          "height": 101
        },
        "outputId": "5df3036a-626c-43a4-939b-caa3b866aac1"
      },
      "source": [
        "for i in range(1,6):\n",
        "  print(i)"
      ],
      "execution_count": 57,
      "outputs": [
        {
          "output_type": "stream",
          "text": [
            "1\n",
            "2\n",
            "3\n",
            "4\n",
            "5\n"
          ],
          "name": "stdout"
        }
      ]
    },
    {
      "cell_type": "code",
      "metadata": {
        "id": "V92JyrS5ud-5",
        "colab_type": "code",
        "colab": {}
      },
      "source": [
        "layer_dim=[3,4,4,2]"
      ],
      "execution_count": 0,
      "outputs": []
    },
    {
      "cell_type": "code",
      "metadata": {
        "id": "3I6qCh4euv8P",
        "colab_type": "code",
        "colab": {}
      },
      "source": [
        "params=init_params(layer_dim)"
      ],
      "execution_count": 0,
      "outputs": []
    },
    {
      "cell_type": "code",
      "metadata": {
        "id": "EGZO7HjPvJua",
        "colab_type": "code",
        "colab": {}
      },
      "source": [
        "y_hat,cache=forward_prop(a,params)"
      ],
      "execution_count": 0,
      "outputs": []
    },
    {
      "cell_type": "code",
      "metadata": {
        "id": "_vZs4Kqhy-xa",
        "colab_type": "code",
        "colab": {
          "base_uri": "https://localhost:8080/",
          "height": 50
        },
        "outputId": "071908b6-17df-42b8-c6d8-187fde2675a1"
      },
      "source": [
        "y_hat"
      ],
      "execution_count": 86,
      "outputs": [
        {
          "output_type": "execute_result",
          "data": {
            "text/plain": [
              "array([[4.07250435e-34, 4.07250435e-34, 4.07250435e-34],\n",
              "       [9.29844535e-55, 9.29844535e-55, 9.29844535e-55]])"
            ]
          },
          "metadata": {
            "tags": []
          },
          "execution_count": 86
        }
      ]
    },
    {
      "cell_type": "code",
      "metadata": {
        "id": "7tuF2nuQxiWs",
        "colab_type": "code",
        "colab": {
          "base_uri": "https://localhost:8080/",
          "height": 706
        },
        "outputId": "3d5199c2-f836-43c1-8ab0-9f60a228c2fd"
      },
      "source": [
        "cache"
      ],
      "execution_count": 87,
      "outputs": [
        {
          "output_type": "execute_result",
          "data": {
            "text/plain": [
              "[((array([[0.2, 0.2, 0.3],\n",
              "          [0.3, 0.4, 0.5],\n",
              "          [0.4, 0.3, 0.5]]),\n",
              "   array([[ 178.86284734,   43.65098505,    9.64974681],\n",
              "          [-186.34927034,  -27.73882025,  -35.47589793],\n",
              "          [  -8.27414815,  -62.70006768,   -4.3818169 ],\n",
              "          [ -47.72180304, -131.38647534,   88.46223805]]),\n",
              "   array([[0.],\n",
              "          [0.],\n",
              "          [0.],\n",
              "          [0.]])),\n",
              "  array([[ 52.72776371,  56.12788753,  80.30922013],\n",
              "         [-59.78185931, -59.00815155, -87.51214019],\n",
              "         [-22.21757669, -28.04940177, -36.02318673],\n",
              "         [-13.57540799, -35.56027933, -35.77865955]])),\n",
              " ((array([[1.00000000e+00, 1.00000000e+00, 1.00000000e+00],\n",
              "          [1.08910157e-26, 2.36094242e-26, 9.86189595e-39],\n",
              "          [2.24403197e-10, 6.58111667e-13, 2.26635940e-16],\n",
              "          [1.27137793e-06, 3.60053398e-16, 2.89418032e-16]]),\n",
              "   array([[  88.13180422,  170.95730637,    5.00336422,  -40.46774146],\n",
              "          [ -54.53599476, -154.64773156,   98.23674343, -110.10676301],\n",
              "          [-118.5046527 ,  -20.56498994,  148.61483551,   23.67162672],\n",
              "          [-102.37851399,  -71.29932001,   62.52449662,  -16.05133632]]),\n",
              "   array([[0.],\n",
              "          [0.],\n",
              "          [0.],\n",
              "          [0.]])),\n",
              "  array([[  88.13175277,   88.13180422,   88.13180422],\n",
              "         [ -54.53613473,  -54.53599476,  -54.53599476],\n",
              "         [-118.50462257, -118.5046527 , -118.5046527 ],\n",
              "         [-102.37853439, -102.37851399, -102.37851399]])),\n",
              " ((array([[1.00000000e+00, 1.00000000e+00, 1.00000000e+00],\n",
              "          [2.06660570e-24, 2.06689498e-24, 2.06689498e-24],\n",
              "          [3.42055310e-52, 3.42045004e-52, 3.42045004e-52],\n",
              "          [3.44800154e-45, 3.44807185e-45, 3.44807185e-45]]),\n",
              "   array([[ -76.88363503,  -23.00307223,   74.50562664,  197.61107831],\n",
              "          [-124.4123329 ,  -62.64169112,  -80.37660946, -241.90831732]]),\n",
              "   array([[0.],\n",
              "          [0.]])),\n",
              "  array([[ -76.88363503,  -76.88363503,  -76.88363503],\n",
              "         [-124.4123329 , -124.4123329 , -124.4123329 ]]))]"
            ]
          },
          "metadata": {
            "tags": []
          },
          "execution_count": 87
        }
      ]
    },
    {
      "cell_type": "code",
      "metadata": {
        "id": "9d1DjihLvhVj",
        "colab_type": "code",
        "colab": {
          "base_uri": "https://localhost:8080/",
          "height": 84
        },
        "outputId": "4f123368-8c89-485c-a97a-dc95052aafe9"
      },
      "source": [
        "params['w1']"
      ],
      "execution_count": 72,
      "outputs": [
        {
          "output_type": "execute_result",
          "data": {
            "text/plain": [
              "array([[ 178.86284734,   43.65098505,    9.64974681],\n",
              "       [-186.34927034,  -27.73882025,  -35.47589793],\n",
              "       [  -8.27414815,  -62.70006768,   -4.3818169 ],\n",
              "       [ -47.72180304, -131.38647534,   88.46223805]])"
            ]
          },
          "metadata": {
            "tags": []
          },
          "execution_count": 72
        }
      ]
    },
    {
      "cell_type": "code",
      "metadata": {
        "id": "QdcWvKRAvv2n",
        "colab_type": "code",
        "colab": {
          "base_uri": "https://localhost:8080/",
          "height": 67
        },
        "outputId": "cec0fca7-b2a8-489a-9665-1930882b0c44"
      },
      "source": [
        "a"
      ],
      "execution_count": 74,
      "outputs": [
        {
          "output_type": "execute_result",
          "data": {
            "text/plain": [
              "array([[0.2, 0.2, 0.3],\n",
              "       [0.3, 0.4, 0.5],\n",
              "       [0.4, 0.3, 0.5]])"
            ]
          },
          "metadata": {
            "tags": []
          },
          "execution_count": 74
        }
      ]
    },
    {
      "cell_type": "code",
      "metadata": {
        "id": "LFudq7nbwNYC",
        "colab_type": "code",
        "colab": {
          "base_uri": "https://localhost:8080/",
          "height": 84
        },
        "outputId": "c6ff58e2-8191-4854-dc28-19f899d33694"
      },
      "source": [
        "np.dot(params['w1'],a)"
      ],
      "execution_count": 75,
      "outputs": [
        {
          "output_type": "execute_result",
          "data": {
            "text/plain": [
              "array([[ 52.72776371,  56.12788753,  80.30922013],\n",
              "       [-59.78185931, -59.00815155, -87.51214019],\n",
              "       [-22.21757669, -28.04940177, -36.02318673],\n",
              "       [-13.57540799, -35.56027933, -35.77865955]])"
            ]
          },
          "metadata": {
            "tags": []
          },
          "execution_count": 75
        }
      ]
    },
    {
      "cell_type": "code",
      "metadata": {
        "id": "z6ksUUCW0BxY",
        "colab_type": "code",
        "colab": {
          "base_uri": "https://localhost:8080/",
          "height": 34
        },
        "outputId": "0d870df4-ffa4-4d9f-cc1f-fc2b988418cb"
      },
      "source": [
        "sigmoid(2)"
      ],
      "execution_count": 82,
      "outputs": [
        {
          "output_type": "execute_result",
          "data": {
            "text/plain": [
              "(0.8807970779778823, 2)"
            ]
          },
          "metadata": {
            "tags": []
          },
          "execution_count": 82
        }
      ]
    }
  ]
}