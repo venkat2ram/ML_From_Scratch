{
  "nbformat": 4,
  "nbformat_minor": 0,
  "metadata": {
    "colab": {
      "name": "NeuralNet_From_Scratch2.ipynb",
      "provenance": [],
      "authorship_tag": "ABX9TyPnutWxO3w3PlOhuNW3U0LI",
      "include_colab_link": true
    },
    "kernelspec": {
      "name": "python3",
      "display_name": "Python 3"
    }
  },
  "cells": [
    {
      "cell_type": "markdown",
      "metadata": {
        "id": "view-in-github",
        "colab_type": "text"
      },
      "source": [
        "<a href=\"https://colab.research.google.com/github/venkat2ram/ML_From_Scratch/blob/master/NeuralNet_From_Scratch2.ipynb\" target=\"_parent\"><img src=\"https://colab.research.google.com/assets/colab-badge.svg\" alt=\"Open In Colab\"/></a>"
      ]
    },
    {
      "cell_type": "code",
      "metadata": {
        "id": "npj_CK5AK15q",
        "colab_type": "code",
        "colab": {}
      },
      "source": [
        "import numpy as np\n"
      ],
      "execution_count": 0,
      "outputs": []
    },
    {
      "cell_type": "code",
      "metadata": {
        "id": "igRfPwMQLKis",
        "colab_type": "code",
        "colab": {}
      },
      "source": [
        "def init_params(layer_dims):\n",
        "  np.random.seed(3)\n",
        "  L=len(layer_dims)\n",
        "  params={}\n",
        "  for l in range(1,L):\n",
        "    params['w'+str(l)]=np.random.randn(layer_dims[l],layer_dims[l-1])/0.01\n",
        "    params['b'+str(l)]=np.zeros(layer_dim[l],1)\n",
        "  return params\n"
      ],
      "execution_count": 0,
      "outputs": []
    },
    {
      "cell_type": "code",
      "metadata": {
        "id": "Rf3qEISiPX7i",
        "colab_type": "code",
        "colab": {}
      },
      "source": [
        "def sigmoid(Z):\n",
        "  A=1/(1+np.exp(np.dot(-1,Z)))\n",
        "  cache=(Z)\n",
        "  return A,cache"
      ],
      "execution_count": 0,
      "outputs": []
    },
    {
      "cell_type": "code",
      "metadata": {
        "id": "lu1Hs6hLQXU2",
        "colab_type": "code",
        "colab": {}
      },
      "source": [
        "def forward_prop(X,params):\n",
        "  A=X\n",
        "  caches=[]\n",
        "  L=len(params)//2\n",
        "  for l in range(1,L):\n",
        "    A_prev=A\n",
        "    Z=np.dot(params['w'+str(l)],A_prev)+params['b'+str(l)]\n",
        "    linear_cache=(A_prev,params['w'+str(l)],params['b'+str(l)])\n",
        "    A,activation_cache=sigmoid(Z)\n",
        "    cache=(linear_cache,activation_cache)\n",
        "    caches.append(cache)\n",
        "  return A,caches   \n"
      ],
      "execution_count": 0,
      "outputs": []
    },
    {
      "cell_type": "markdown",
      "metadata": {
        "id": "KiyOVn43PUc2",
        "colab_type": "text"
      },
      "source": [
        "**Rough**"
      ]
    },
    {
      "cell_type": "code",
      "metadata": {
        "id": "SySAtusWOuHM",
        "colab_type": "code",
        "colab": {
          "base_uri": "https://localhost:8080/",
          "height": 50
        },
        "outputId": "83ac2cce-2db9-4c03-d6a7-c870f40750e6"
      },
      "source": [
        " np.random.seed(3)\n",
        "np.random.randn(2,2)"
      ],
      "execution_count": 26,
      "outputs": [
        {
          "output_type": "execute_result",
          "data": {
            "text/plain": [
              "array([[ 1.78862847,  0.43650985],\n",
              "       [ 0.09649747, -1.8634927 ]])"
            ]
          },
          "metadata": {
            "tags": []
          },
          "execution_count": 26
        }
      ]
    },
    {
      "cell_type": "code",
      "metadata": {
        "id": "HGd5Ljf7QZW6",
        "colab_type": "code",
        "colab": {
          "base_uri": "https://localhost:8080/",
          "height": 34
        },
        "outputId": "462a9690-8a12-4d5c-cd25-546701020446"
      },
      "source": [
        "a=[1,2]\n",
        "b=[[3,4],[5,6]]\n",
        "c=[[3],[5]]\n",
        "ca=(a,b)\n",
        "ca=(ca,c)\n",
        "ca"
      ],
      "execution_count": 31,
      "outputs": [
        {
          "output_type": "execute_result",
          "data": {
            "text/plain": [
              "(([1, 2], [[3, 4], [5, 6]]), [[3], [5]])"
            ]
          },
          "metadata": {
            "tags": []
          },
          "execution_count": 31
        }
      ]
    }
  ]
}