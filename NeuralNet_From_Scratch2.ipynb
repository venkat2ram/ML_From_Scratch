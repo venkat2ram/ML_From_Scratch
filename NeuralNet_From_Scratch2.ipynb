{
  "nbformat": 4,
  "nbformat_minor": 0,
  "metadata": {
    "colab": {
      "name": "NeuralNet_From_Scratch2.ipynb",
      "provenance": [],
      "authorship_tag": "ABX9TyMVq66qzG1x7q3rx8wnzJHw",
      "include_colab_link": true
    },
    "kernelspec": {
      "name": "python3",
      "display_name": "Python 3"
    }
  },
  "cells": [
    {
      "cell_type": "markdown",
      "metadata": {
        "id": "view-in-github",
        "colab_type": "text"
      },
      "source": [
        "<a href=\"https://colab.research.google.com/github/venkat2ram/ML_From_Scratch/blob/master/NeuralNet_From_Scratch2.ipynb\" target=\"_parent\"><img src=\"https://colab.research.google.com/assets/colab-badge.svg\" alt=\"Open In Colab\"/></a>"
      ]
    },
    {
      "cell_type": "code",
      "metadata": {
        "id": "npj_CK5AK15q",
        "colab_type": "code",
        "colab": {}
      },
      "source": [
        "import numpy as np\n"
      ],
      "execution_count": 0,
      "outputs": []
    },
    {
      "cell_type": "code",
      "metadata": {
        "id": "igRfPwMQLKis",
        "colab_type": "code",
        "colab": {}
      },
      "source": [
        "def init_params(layer_dims):\n",
        "  np.random.seed(3)\n",
        "  L=len(layer_dims)\n",
        "  params={}\n",
        "  for l in range(1,L):\n",
        "    params['w'+str(l)]=np.random.randn(layer_dims[l],layer_dims[l-1])/0.01\n",
        "    params['b'+str(l)]=np.zeros((layer_dim[l],1))\n",
        "  return params\n"
      ],
      "execution_count": 0,
      "outputs": []
    },
    {
      "cell_type": "code",
      "metadata": {
        "id": "Rf3qEISiPX7i",
        "colab_type": "code",
        "colab": {}
      },
      "source": [
        "def sigmoid(Z):\n",
        "  A=1/(1+np.exp(np.dot(-1,Z)))\n",
        "  cache=(Z)\n",
        "  return A,cache"
      ],
      "execution_count": 0,
      "outputs": []
    },
    {
      "cell_type": "code",
      "metadata": {
        "id": "lu1Hs6hLQXU2",
        "colab_type": "code",
        "colab": {}
      },
      "source": [
        "def forward_prop(X,params):\n",
        "  A=X\n",
        "  caches=[]\n",
        "  L=len(params)//2\n",
        "  for l in range(1,L+1):\n",
        "    A_prev=A\n",
        "    Z=np.dot(params['w'+str(l)],A_prev)+params['b'+str(l)]\n",
        "    linear_cache=(A_prev,params['w'+str(l)],params['b'+str(l)])\n",
        "    A,activation_cache=sigmoid(Z)\n",
        "    cache=(linear_cache,activation_cache)\n",
        "    caches.append(cache)\n",
        "  return A,caches   \n"
      ],
      "execution_count": 0,
      "outputs": []
    },
    {
      "cell_type": "code",
      "metadata": {
        "id": "xUemRgqkjI8l",
        "colab_type": "code",
        "colab": {}
      },
      "source": [
        "def cost_function(A, Y):\n",
        "  m=Y.shape[1]\n",
        "  cost=(-1/m)*np.sum(np.dot(np.log(A),Y.T)+np.dot(np.log(1-A),1-Y.T))\n",
        "  return cost"
      ],
      "execution_count": 0,
      "outputs": []
    },
    {
      "cell_type": "code",
      "metadata": {
        "id": "CDwm7g_SamET",
        "colab_type": "code",
        "colab": {}
      },
      "source": [
        "def one_layer_backward(dA,cache):\n",
        "  linear_cache, activation_cache=cache\n",
        "  \n",
        "  Z=activation_cache\n",
        "  dZ=dA*sigmoid(Z)*(np.ones(d2.shape)-sigmoid(Z))\n",
        "\n",
        "  A_prev,W,b=linear_cache\n",
        "  m=A_prev.shape[1]\n",
        "  dW=(1/m)*(np.dot(dZ,A_prev.T))\n",
        "  dB=(1/m)*(np.sum(dZ,axis=1,keepdims=True))\n",
        "  dA_prev=np.dot(W.T,dZ)\n",
        "\n",
        "  return dA_prev,dW,dB"
      ],
      "execution_count": 0,
      "outputs": []
    },
    {
      "cell_type": "code",
      "metadata": {
        "id": "o1ofYJfZn5rT",
        "colab_type": "code",
        "colab": {}
      },
      "source": [
        "def backprop(AL,Y,caches):\n",
        "  grads={}\n",
        "  L=len(caches)\n",
        "  dA=-1*(np.divide(Y,AL)+np.divide(1-Y,1-AL))\n",
        "\n",
        "  grads['dA'+str(L-1)],grads['dW'+str(L-1)],grads['dB'+str(L-1)]=one_layer_backward(dA,caches[L-1])\n",
        "\n",
        "  for l in reversed(range(L-1)):\n",
        "    grads['dA'+str(l)],grads['dW'+str(l)],grads['dB'+str(l)]=one_layer_backward(grads['dA'+str(l+1)],cache[l])\n",
        "  return grads\n",
        "  "
      ],
      "execution_count": 0,
      "outputs": []
    },
    {
      "cell_type": "code",
      "metadata": {
        "id": "b21uSUm3bEFz",
        "colab_type": "code",
        "colab": {}
      },
      "source": [
        ""
      ],
      "execution_count": 0,
      "outputs": []
    },
    {
      "cell_type": "markdown",
      "metadata": {
        "id": "KiyOVn43PUc2",
        "colab_type": "text"
      },
      "source": [
        "**Rough**"
      ]
    },
    {
      "cell_type": "code",
      "metadata": {
        "id": "V4OPXfYckmUZ",
        "colab_type": "code",
        "outputId": "07360c88-f3d1-40a0-b6e0-7436800b8526",
        "colab": {
          "base_uri": "https://localhost:8080/",
          "height": 34
        }
      },
      "source": [
        "a=np.array([[0.2,0.2,0.3],[0.3,0.4,0.5],[0.4,0.3,0.5]])\n",
        "b=np.array([[0.3,0.4,0.5],[0.6,0.7,0.8]])\n",
        "cost_function(a,b)\n"
      ],
      "execution_count": 29,
      "outputs": [
        {
          "output_type": "execute_result",
          "data": {
            "text/plain": [
              "4.742705654642286"
            ]
          },
          "metadata": {
            "tags": []
          },
          "execution_count": 29
        }
      ]
    },
    {
      "cell_type": "code",
      "metadata": {
        "id": "iei4jvdfpT1T",
        "colab_type": "code",
        "outputId": "d73e3192-85d0-4b2a-f5ab-57c3527648de",
        "colab": {
          "base_uri": "https://localhost:8080/",
          "height": 34
        }
      },
      "source": [
        "a.shape[1]"
      ],
      "execution_count": 31,
      "outputs": [
        {
          "output_type": "execute_result",
          "data": {
            "text/plain": [
              "3"
            ]
          },
          "metadata": {
            "tags": []
          },
          "execution_count": 31
        }
      ]
    },
    {
      "cell_type": "code",
      "metadata": {
        "id": "V92JyrS5ud-5",
        "colab_type": "code",
        "colab": {}
      },
      "source": [
        "layer_dim=[3,4,4,2]"
      ],
      "execution_count": 0,
      "outputs": []
    },
    {
      "cell_type": "code",
      "metadata": {
        "id": "3I6qCh4euv8P",
        "colab_type": "code",
        "colab": {}
      },
      "source": [
        "params=init_params(layer_dim)"
      ],
      "execution_count": 0,
      "outputs": []
    },
    {
      "cell_type": "code",
      "metadata": {
        "id": "EGZO7HjPvJua",
        "colab_type": "code",
        "colab": {}
      },
      "source": [
        "y_hat,cache=forward_prop(a,params)"
      ],
      "execution_count": 0,
      "outputs": []
    },
    {
      "cell_type": "code",
      "metadata": {
        "id": "u24xjwq1hR5w",
        "colab_type": "code",
        "colab": {}
      },
      "source": [
        "dA=-1*np.divide(b,y_hat)+np.divide(1-b,1-y_hat)"
      ],
      "execution_count": 0,
      "outputs": []
    },
    {
      "cell_type": "code",
      "metadata": {
        "id": "nZGdPLjChToj",
        "colab_type": "code",
        "colab": {
          "base_uri": "https://localhost:8080/",
          "height": 269
        },
        "outputId": "2cd944ff-e865-4d89-80a6-5321c8d1fd04"
      },
      "source": [
        "one_layer_backward(dA,cache[2])"
      ],
      "execution_count": 74,
      "outputs": [
        {
          "output_type": "execute_result",
          "data": {
            "text/plain": [
              "(array([[[ 9.77124902e+01,  1.17842087e+02,  1.37971684e+02],\n",
              "         [-1.25258735e+60, -1.46135191e+60, -1.67011647e+60]],\n",
              " \n",
              "        [[ 4.44859363e+01,  5.30504127e+01,  6.16148890e+01],\n",
              "         [-6.30678552e+59, -7.35791644e+59, -8.40904736e+59]],\n",
              " \n",
              "        [[ 2.58742777e+01,  2.64613760e+01,  2.70484742e+01],\n",
              "         [-8.09234277e+59, -9.44106657e+59, -1.07897904e+60]],\n",
              " \n",
              "        [[ 8.58616669e+01,  9.02913908e+01,  9.47211147e+01],\n",
              "         [-2.43554068e+60, -2.84146413e+60, -3.24738758e+60]]]),\n",
              " array([[ -76.88363503,  -23.00307223,   74.50562664,  197.61107831],\n",
              "        [-124.4123329 ,  -62.64169112,  -80.37660946, -241.90831732]]),\n",
              " array([[0.],\n",
              "        [0.]]))"
            ]
          },
          "metadata": {
            "tags": []
          },
          "execution_count": 74
        }
      ]
    },
    {
      "cell_type": "code",
      "metadata": {
        "id": "_vZs4Kqhy-xa",
        "colab_type": "code",
        "outputId": "b65a87b4-c31f-418c-fea2-49052edd0722",
        "colab": {
          "base_uri": "https://localhost:8080/",
          "height": 50
        }
      },
      "source": [
        "y_hat"
      ],
      "execution_count": 38,
      "outputs": [
        {
          "output_type": "execute_result",
          "data": {
            "text/plain": [
              "array([[4.07250435e-34, 4.07250435e-34, 4.07250435e-34],\n",
              "       [9.29844535e-55, 9.29844535e-55, 9.29844535e-55]])"
            ]
          },
          "metadata": {
            "tags": []
          },
          "execution_count": 38
        }
      ]
    },
    {
      "cell_type": "code",
      "metadata": {
        "id": "7tuF2nuQxiWs",
        "colab_type": "code",
        "outputId": "b7dd0441-855d-4285-8042-ef5b210fb493",
        "colab": {
          "base_uri": "https://localhost:8080/",
          "height": 706
        }
      },
      "source": [
        "cache"
      ],
      "execution_count": 39,
      "outputs": [
        {
          "output_type": "execute_result",
          "data": {
            "text/plain": [
              "[((array([[0.2, 0.2, 0.3],\n",
              "          [0.3, 0.4, 0.5],\n",
              "          [0.4, 0.3, 0.5]]),\n",
              "   array([[ 178.86284734,   43.65098505,    9.64974681],\n",
              "          [-186.34927034,  -27.73882025,  -35.47589793],\n",
              "          [  -8.27414815,  -62.70006768,   -4.3818169 ],\n",
              "          [ -47.72180304, -131.38647534,   88.46223805]]),\n",
              "   array([[0.],\n",
              "          [0.],\n",
              "          [0.],\n",
              "          [0.]])),\n",
              "  array([[ 52.72776371,  56.12788753,  80.30922013],\n",
              "         [-59.78185931, -59.00815155, -87.51214019],\n",
              "         [-22.21757669, -28.04940177, -36.02318673],\n",
              "         [-13.57540799, -35.56027933, -35.77865955]])),\n",
              " ((array([[1.00000000e+00, 1.00000000e+00, 1.00000000e+00],\n",
              "          [1.08910157e-26, 2.36094242e-26, 9.86189595e-39],\n",
              "          [2.24403197e-10, 6.58111667e-13, 2.26635940e-16],\n",
              "          [1.27137793e-06, 3.60053398e-16, 2.89418032e-16]]),\n",
              "   array([[  88.13180422,  170.95730637,    5.00336422,  -40.46774146],\n",
              "          [ -54.53599476, -154.64773156,   98.23674343, -110.10676301],\n",
              "          [-118.5046527 ,  -20.56498994,  148.61483551,   23.67162672],\n",
              "          [-102.37851399,  -71.29932001,   62.52449662,  -16.05133632]]),\n",
              "   array([[0.],\n",
              "          [0.],\n",
              "          [0.],\n",
              "          [0.]])),\n",
              "  array([[  88.13175277,   88.13180422,   88.13180422],\n",
              "         [ -54.53613473,  -54.53599476,  -54.53599476],\n",
              "         [-118.50462257, -118.5046527 , -118.5046527 ],\n",
              "         [-102.37853439, -102.37851399, -102.37851399]])),\n",
              " ((array([[1.00000000e+00, 1.00000000e+00, 1.00000000e+00],\n",
              "          [2.06660570e-24, 2.06689498e-24, 2.06689498e-24],\n",
              "          [3.42055310e-52, 3.42045004e-52, 3.42045004e-52],\n",
              "          [3.44800154e-45, 3.44807185e-45, 3.44807185e-45]]),\n",
              "   array([[ -76.88363503,  -23.00307223,   74.50562664,  197.61107831],\n",
              "          [-124.4123329 ,  -62.64169112,  -80.37660946, -241.90831732]]),\n",
              "   array([[0.],\n",
              "          [0.]])),\n",
              "  array([[ -76.88363503,  -76.88363503,  -76.88363503],\n",
              "         [-124.4123329 , -124.4123329 , -124.4123329 ]]))]"
            ]
          },
          "metadata": {
            "tags": []
          },
          "execution_count": 39
        }
      ]
    },
    {
      "cell_type": "code",
      "metadata": {
        "id": "9d1DjihLvhVj",
        "colab_type": "code",
        "colab": {}
      },
      "source": [
        "params['w1']"
      ],
      "execution_count": 0,
      "outputs": []
    },
    {
      "cell_type": "code",
      "metadata": {
        "id": "QdcWvKRAvv2n",
        "colab_type": "code",
        "colab": {}
      },
      "source": [
        "a"
      ],
      "execution_count": 0,
      "outputs": []
    },
    {
      "cell_type": "code",
      "metadata": {
        "id": "LFudq7nbwNYC",
        "colab_type": "code",
        "colab": {}
      },
      "source": [
        "np.dot(params['w1'],a)"
      ],
      "execution_count": 0,
      "outputs": []
    },
    {
      "cell_type": "code",
      "metadata": {
        "id": "z6ksUUCW0BxY",
        "colab_type": "code",
        "colab": {}
      },
      "source": [
        "sigmoid(2)"
      ],
      "execution_count": 0,
      "outputs": []
    },
    {
      "cell_type": "code",
      "metadata": {
        "id": "YlELc2xehlZs",
        "colab_type": "code",
        "colab": {}
      },
      "source": [
        "c1,c2=cache[2]"
      ],
      "execution_count": 0,
      "outputs": []
    },
    {
      "cell_type": "code",
      "metadata": {
        "id": "K6v8Spzchq_s",
        "colab_type": "code",
        "colab": {
          "base_uri": "https://localhost:8080/",
          "height": 50
        },
        "outputId": "e8344c33-0b6d-4cbb-d535-8d71edebbcc6"
      },
      "source": [
        "c2"
      ],
      "execution_count": 46,
      "outputs": [
        {
          "output_type": "execute_result",
          "data": {
            "text/plain": [
              "array([[ -76.88363503,  -76.88363503,  -76.88363503],\n",
              "       [-124.4123329 , -124.4123329 , -124.4123329 ]])"
            ]
          },
          "metadata": {
            "tags": []
          },
          "execution_count": 46
        }
      ]
    },
    {
      "cell_type": "code",
      "metadata": {
        "id": "-OMl_Po7hzKZ",
        "colab_type": "code",
        "colab": {
          "base_uri": "https://localhost:8080/",
          "height": 50
        },
        "outputId": "4a8027ec-6c6a-46b9-cf21-cd5621f5f42e"
      },
      "source": [
        "dA"
      ],
      "execution_count": 47,
      "outputs": [
        {
          "output_type": "execute_result",
          "data": {
            "text/plain": [
              "array([[-7.36647463e+32, -9.82196618e+32, -1.22774577e+33],\n",
              "       [-6.45269158e+53, -7.52814018e+53, -8.60358877e+53]])"
            ]
          },
          "metadata": {
            "tags": []
          },
          "execution_count": 47
        }
      ]
    },
    {
      "cell_type": "code",
      "metadata": {
        "id": "XRKCJwswiZdy",
        "colab_type": "code",
        "colab": {
          "base_uri": "https://localhost:8080/",
          "height": 101
        },
        "outputId": "1386d5de-7960-4ced-db9b-425aed4773a6"
      },
      "source": [
        "dA*sigmoid(c2)*sigmoid(1-c2)"
      ],
      "execution_count": 49,
      "outputs": [
        {
          "output_type": "execute_result",
          "data": {
            "text/plain": [
              "array([[[-3.00000000e-01, -4.00000000e-01, -5.00000000e-01],\n",
              "        [-6.00000000e-01, -7.00000000e-01, -8.00000000e-01]],\n",
              "\n",
              "       [[ 4.41102805e+36,  5.88137073e+36,  7.35171341e+36],\n",
              "        [ 1.00680320e+58,  1.17460374e+58,  1.34240427e+58]]])"
            ]
          },
          "metadata": {
            "tags": []
          },
          "execution_count": 49
        }
      ]
    },
    {
      "cell_type": "code",
      "metadata": {
        "id": "mcwFntbykMYA",
        "colab_type": "code",
        "colab": {
          "base_uri": "https://localhost:8080/",
          "height": 101
        },
        "outputId": "592b022a-1b2e-4245-d655-a8c0a6e0c444"
      },
      "source": [
        "d1*sigmoid(d2)*(np.ones(d2.shape)-sigmoid(d2))"
      ],
      "execution_count": 67,
      "outputs": [
        {
          "output_type": "execute_result",
          "data": {
            "text/plain": [
              "array([[[-3.00000000e-01, -4.00000000e-01, -5.00000000e-01],\n",
              "        [-6.00000000e-01, -7.00000000e-01, -8.00000000e-01]],\n",
              "\n",
              "       [[ 4.41102805e+36,  5.88137073e+36,  7.35171341e+36],\n",
              "        [ 1.00680320e+58,  1.17460374e+58,  1.34240427e+58]]])"
            ]
          },
          "metadata": {
            "tags": []
          },
          "execution_count": 67
        }
      ]
    },
    {
      "cell_type": "code",
      "metadata": {
        "id": "stYzJ2elk5SO",
        "colab_type": "code",
        "colab": {
          "base_uri": "https://localhost:8080/",
          "height": 84
        },
        "outputId": "80b84dee-d271-46d8-b796-a0a9ddfa878a"
      },
      "source": [
        "sigmoid(d2)"
      ],
      "execution_count": 64,
      "outputs": [
        {
          "output_type": "execute_result",
          "data": {
            "text/plain": [
              "(array([[4.07250435e-34, 4.07250435e-34, 4.07250435e-34],\n",
              "        [9.29844535e-55, 9.29844535e-55, 9.29844535e-55]]),\n",
              " array([[ -76.88363503,  -76.88363503,  -76.88363503],\n",
              "        [-124.4123329 , -124.4123329 , -124.4123329 ]]))"
            ]
          },
          "metadata": {
            "tags": []
          },
          "execution_count": 64
        }
      ]
    },
    {
      "cell_type": "code",
      "metadata": {
        "id": "rsTgRnm0lc37",
        "colab_type": "code",
        "colab": {
          "base_uri": "https://localhost:8080/",
          "height": 101
        },
        "outputId": "94f2c32d-739d-4a7f-bd9e-d8544daf4904"
      },
      "source": [
        "np.ones(d2.shape)-sigmoid(d2)"
      ],
      "execution_count": 66,
      "outputs": [
        {
          "output_type": "execute_result",
          "data": {
            "text/plain": [
              "array([[[  1.        ,   1.        ,   1.        ],\n",
              "        [  1.        ,   1.        ,   1.        ]],\n",
              "\n",
              "       [[ 77.88363503,  77.88363503,  77.88363503],\n",
              "        [125.4123329 , 125.4123329 , 125.4123329 ]]])"
            ]
          },
          "metadata": {
            "tags": []
          },
          "execution_count": 66
        }
      ]
    },
    {
      "cell_type": "code",
      "metadata": {
        "id": "nrvnlVQktBSA",
        "colab_type": "code",
        "colab": {
          "base_uri": "https://localhost:8080/",
          "height": 84
        },
        "outputId": "f297b510-f999-434d-e082-7ed934b62bad"
      },
      "source": [
        "for l in reversed(range(4)):\n",
        "  print(l)"
      ],
      "execution_count": 83,
      "outputs": [
        {
          "output_type": "stream",
          "text": [
            "3\n",
            "2\n",
            "1\n",
            "0\n"
          ],
          "name": "stdout"
        }
      ]
    }
  ]
}