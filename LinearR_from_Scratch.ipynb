{
  "nbformat": 4,
  "nbformat_minor": 0,
  "metadata": {
    "colab": {
      "name": "LinearR_from_Scratch.ipynb",
      "provenance": [],
      "include_colab_link": true
    },
    "kernelspec": {
      "name": "python3",
      "display_name": "Python 3"
    }
  },
  "cells": [
    {
      "cell_type": "markdown",
      "metadata": {
        "id": "view-in-github",
        "colab_type": "text"
      },
      "source": [
        "<a href=\"https://colab.research.google.com/github/venkat2ram/ML_From_Scratch/blob/master/LinearR_from_Scratch.ipynb\" target=\"_parent\"><img src=\"https://colab.research.google.com/assets/colab-badge.svg\" alt=\"Open In Colab\"/></a>"
      ]
    },
    {
      "cell_type": "code",
      "metadata": {
        "id": "a8xR1qOPedCg",
        "colab_type": "code",
        "colab": {}
      },
      "source": [
        "data=[[1.0,20.0],[1.0,21.0],[1.0,22.0]]\n",
        "y=[[210.0],[220.0],[230.0]]"
      ],
      "execution_count": 0,
      "outputs": []
    },
    {
      "cell_type": "code",
      "metadata": {
        "id": "GUKgtHQCfaUz",
        "colab_type": "code",
        "colab": {}
      },
      "source": [
        "Theta=[[0.0],[0.0]]"
      ],
      "execution_count": 0,
      "outputs": []
    },
    {
      "cell_type": "code",
      "metadata": {
        "id": "uYy9bPQsf8cj",
        "colab_type": "code",
        "colab": {}
      },
      "source": [
        "import numpy as np"
      ],
      "execution_count": 0,
      "outputs": []
    },
    {
      "cell_type": "code",
      "metadata": {
        "id": "sw-B4p-kkb2r",
        "colab_type": "code",
        "colab": {}
      },
      "source": [
        "alpha=0.01"
      ],
      "execution_count": 0,
      "outputs": []
    },
    {
      "cell_type": "code",
      "metadata": {
        "id": "ob8fS5Z2gTqj",
        "colab_type": "code",
        "colab": {}
      },
      "source": [
        "X=np.array(data)\n",
        "y=np.array(y)\n",
        "Theta=np.array(Theta)"
      ],
      "execution_count": 0,
      "outputs": []
    },
    {
      "cell_type": "code",
      "metadata": {
        "id": "-1-ATAflcOcz",
        "colab_type": "code",
        "colab": {}
      },
      "source": [
        "import matplotlib.pyplot as plt\n",
        "plot_cost=np.array([[0.0,0.0],[0.0,0.0],[0.0,0.0],[0.0,0.0],[0.0,0.0],[0.0,0.0],[0.0,0.0],[0.0,0.0],[0.0,0.0],[0.0,0.0]])"
      ],
      "execution_count": 0,
      "outputs": []
    },
    {
      "cell_type": "code",
      "metadata": {
        "id": "UeQ6oZcNftFz",
        "colab_type": "code",
        "colab": {
          "base_uri": "https://localhost:8080/",
          "height": 34
        },
        "outputId": "68699609-43c3-41d8-db61-5b3f3766da09"
      },
      "source": [
        "plot_cost[0,0]"
      ],
      "execution_count": 108,
      "outputs": [
        {
          "output_type": "execute_result",
          "data": {
            "text/plain": [
              "0.0"
            ]
          },
          "metadata": {
            "tags": []
          },
          "execution_count": 108
        }
      ]
    },
    {
      "cell_type": "code",
      "metadata": {
        "id": "uw6PrGweghEj",
        "colab_type": "code",
        "outputId": "89ae9cb0-2a80-41e8-9d22-8c47fcc0753b",
        "colab": {
          "base_uri": "https://localhost:8080/",
          "height": 357
        }
      },
      "source": [
        "j=0\n",
        "alpha=0.001\n",
        "Theta=[[0.0],[0.0]]\n",
        "Theta=np.array(Theta)\n",
        "for i in range(10000000):\n",
        "  pred=np.matmul(X,Theta)\n",
        "  cost=sum((y-pred)**2)\n",
        "  Theta[0]=Theta[0]-alpha*sum((-2/len(X))*(y-pred))\n",
        "  Theta[1]=Theta[1]-alpha*sum((-2/len(X))*(y-pred)*X[:,1].reshape(-1,1))\n",
        "  if(i%1000000==0):\n",
        "    print(cost,Theta)\n",
        "    plot_cost[j,0]=j\n",
        "    plot_cost[j,1]=cost\n",
        "    j=j+1\n",
        "\n"
      ],
      "execution_count": 114,
      "outputs": [
        {
          "output_type": "stream",
          "text": [
            "[145400.] [[0.44      ]\n",
            " [9.25333333]]\n",
            "[0.0009895] [[ 9.53254583]\n",
            " [10.0222262 ]]\n",
            "[2.39426059e-06] [[ 9.97700588]\n",
            " [10.00109331]]\n",
            "[5.79330984e-09] [[ 9.99886892]\n",
            " [10.00005378]]\n",
            "[1.40178722e-11] [[ 9.99994436]\n",
            " [10.00000265]]\n",
            "[3.39185734e-14] [[ 9.99999726]\n",
            " [10.00000013]]\n",
            "[8.20720685e-17] [[ 9.99999987]\n",
            " [10.00000001]]\n",
            "[1.9872676e-19] [[ 9.99999999]\n",
            " [10.        ]]\n",
            "[4.12585411e-22] [[10.]\n",
            " [10.]]\n",
            "[4.12585411e-22] [[10.]\n",
            " [10.]]\n"
          ],
          "name": "stdout"
        }
      ]
    },
    {
      "cell_type": "code",
      "metadata": {
        "id": "jaRSVPeYduoN",
        "colab_type": "code",
        "colab": {
          "base_uri": "https://localhost:8080/",
          "height": 282
        },
        "outputId": "2463f36f-334d-4c14-b55c-aafb801450f8"
      },
      "source": [
        "plot_cost[0]=[0,0]\n",
        "plt.plot(plot_cost[:,0],plot_cost[:,1])"
      ],
      "execution_count": 115,
      "outputs": [
        {
          "output_type": "execute_result",
          "data": {
            "text/plain": [
              "[<matplotlib.lines.Line2D at 0x7fa5e038b7f0>]"
            ]
          },
          "metadata": {
            "tags": []
          },
          "execution_count": 115
        },
        {
          "output_type": "display_data",
          "data": {
            "image/png": "[encoded data removed]",
            "text/plain": [
              "<Figure size 432x288 with 1 Axes>"
            ]
          },
          "metadata": {
            "tags": []
          }
        }
      ]
    },
    {
      "cell_type": "code",
      "metadata": {
        "id": "OW5uUQ1l5Bvz",
        "colab_type": "code",
        "outputId": "ec2baf4c-8d2d-45ed-de2b-da1079b510fd",
        "colab": {
          "base_uri": "https://localhost:8080/",
          "height": 187
        }
      },
      "source": [
        "plot_cost"
      ],
      "execution_count": 91,
      "outputs": [
        {
          "output_type": "execute_result",
          "data": {
            "text/plain": [
              "array([[0, 0],\n",
              "       [1, 0],\n",
              "       [2, 0],\n",
              "       [3, 0],\n",
              "       [4, 0],\n",
              "       [5, 0],\n",
              "       [6, 0],\n",
              "       [7, 0],\n",
              "       [8, 0],\n",
              "       [9, 0]])"
            ]
          },
          "metadata": {
            "tags": []
          },
          "execution_count": 91
        }
      ]
    },
    {
      "cell_type": "code",
      "metadata": {
        "id": "eOiOmslNg9oA",
        "colab_type": "code",
        "outputId": "61dbebc2-c575-40a1-98a3-01d392f6fea8",
        "colab": {
          "base_uri": "https://localhost:8080/",
          "height": 68
        }
      },
      "source": [
        "pred=np.matmul(X,Theta)\n",
        "pred"
      ],
      "execution_count": 85,
      "outputs": [
        {
          "output_type": "execute_result",
          "data": {
            "text/plain": [
              "array([[209.97706973],\n",
              "       [219.999296  ],\n",
              "       [230.02152226]])"
            ]
          },
          "metadata": {
            "tags": []
          },
          "execution_count": 85
        }
      ]
    },
    {
      "cell_type": "code",
      "metadata": {
        "id": "8yxQtYC82Sgp",
        "colab_type": "code",
        "outputId": "36ce2783-d3bc-4cc9-da3b-b21f3425e00b",
        "colab": {
          "base_uri": "https://localhost:8080/",
          "height": 34
        }
      },
      "source": [
        "Theta[0]=Theta[0]-alpha*sum((-2/len(X))*(y-pred))\n",
        "Theta[0]"
      ],
      "execution_count": 86,
      "outputs": [
        {
          "output_type": "execute_result",
          "data": {
            "text/plain": [
              "array([9.53254583])"
            ]
          },
          "metadata": {
            "tags": []
          },
          "execution_count": 86
        }
      ]
    },
    {
      "cell_type": "code",
      "metadata": {
        "id": "yMptj7zWj4cJ",
        "colab_type": "code",
        "outputId": "10f99196-a1a6-4fbb-d554-14a576bc9c77",
        "colab": {
          "base_uri": "https://localhost:8080/",
          "height": 34
        }
      },
      "source": [
        "Theta[1]=Theta[1]-alpha*sum((-2/len(X))*(y-pred)*X[:,1].reshape(-1,1))\n",
        "Theta[1]"
      ],
      "execution_count": 87,
      "outputs": [
        {
          "output_type": "execute_result",
          "data": {
            "text/plain": [
              "array([10.0222262])"
            ]
          },
          "metadata": {
            "tags": []
          },
          "execution_count": 87
        }
      ]
    },
    {
      "cell_type": "code",
      "metadata": {
        "id": "6tOrkXOPlYi9",
        "colab_type": "code",
        "colab": {}
      },
      "source": [
        "Theta[0]=Theta[0]-alpha*sum((-2/len(X))*(y-pred))"
      ],
      "execution_count": 0,
      "outputs": []
    },
    {
      "cell_type": "code",
      "metadata": {
        "id": "3zpiWszIlqmO",
        "colab_type": "code",
        "colab": {}
      },
      "source": [
        "Theta[0]=[0.44]"
      ],
      "execution_count": 0,
      "outputs": []
    },
    {
      "cell_type": "code",
      "metadata": {
        "id": "PvrlcRiP4Cy6",
        "colab_type": "code",
        "outputId": "62103dd9-ada5-4eed-f81f-f9487f095373",
        "colab": {
          "base_uri": "https://localhost:8080/",
          "height": 34
        }
      },
      "source": [
        "Theta[0]"
      ],
      "execution_count": 90,
      "outputs": [
        {
          "output_type": "execute_result",
          "data": {
            "text/plain": [
              "array([0.44])"
            ]
          },
          "metadata": {
            "tags": []
          },
          "execution_count": 90
        }
      ]
    }
  ]
}