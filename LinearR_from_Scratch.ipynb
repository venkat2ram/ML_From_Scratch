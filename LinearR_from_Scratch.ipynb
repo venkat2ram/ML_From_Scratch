{
  "nbformat": 4,
  "nbformat_minor": 0,
  "metadata": {
    "colab": {
      "name": "LinearR_from_Scratch.ipynb",
      "provenance": [],
      "include_colab_link": true
    },
    "kernelspec": {
      "name": "python3",
      "display_name": "Python 3"
    }
  },
  "cells": [
    {
      "cell_type": "markdown",
      "metadata": {
        "id": "view-in-github",
        "colab_type": "text"
      },
      "source": [
        "<a href=\"https://colab.research.google.com/github/venkat2ram/ML_From_Scratch/blob/master/LinearR_from_Scratch.ipynb\" target=\"_parent\"><img src=\"https://colab.research.google.com/assets/colab-badge.svg\" alt=\"Open In Colab\"/></a>"
      ]
    },
    {
      "cell_type": "code",
      "metadata": {
        "id": "a8xR1qOPedCg",
        "colab_type": "code",
        "colab": {}
      },
      "source": [
        "data=[[1,20],[1,21],[1,22]]\n",
        "y=[[210],[220],[230]]"
      ],
      "execution_count": 0,
      "outputs": []
    },
    {
      "cell_type": "code",
      "metadata": {
        "id": "GUKgtHQCfaUz",
        "colab_type": "code",
        "colab": {}
      },
      "source": [
        "Theta=[[0.0],[0.0]]"
      ],
      "execution_count": 0,
      "outputs": []
    },
    {
      "cell_type": "code",
      "metadata": {
        "id": "uYy9bPQsf8cj",
        "colab_type": "code",
        "colab": {}
      },
      "source": [
        "import numpy as np"
      ],
      "execution_count": 0,
      "outputs": []
    },
    {
      "cell_type": "code",
      "metadata": {
        "id": "sw-B4p-kkb2r",
        "colab_type": "code",
        "colab": {}
      },
      "source": [
        "alpha=0.002"
      ],
      "execution_count": 0,
      "outputs": []
    },
    {
      "cell_type": "code",
      "metadata": {
        "id": "ob8fS5Z2gTqj",
        "colab_type": "code",
        "colab": {}
      },
      "source": [
        "X=np.array(data)\n",
        "y=np.array(y)\n",
        "Theta=np.array(Theta)"
      ],
      "execution_count": 0,
      "outputs": []
    },
    {
      "cell_type": "code",
      "metadata": {
        "id": "uw6PrGweghEj",
        "colab_type": "code",
        "outputId": "2c532aaa-cff1-4ace-def0-3eb13488ebb6",
        "colab": {
          "base_uri": "https://localhost:8080/",
          "height": 353
        }
      },
      "source": [
        "for i in range(10000000):\n",
        "  pred=np.matmul(X,Theta)\n",
        "  cost=sum((y-pred)**2)\n",
        "  Theta[0]=Theta[0]-alpha*sum((-2/len(X))*(y-pred))\n",
        "  Theta[1]=Theta[1]-alpha*sum((-2/len(X))*(y-pred)*X[:,1].reshape(-1,1))\n",
        "  if(i%1000000==0):\n",
        "    print(cost,Theta)"
      ],
      "execution_count": 66,
      "outputs": [
        {
          "output_type": "stream",
          "text": [
            "[145400.] [[ 0.88      ]\n",
            " [18.50666667]]\n",
            "[2.39421714e-06] [[ 9.97700616]\n",
            " [10.0010933 ]]\n",
            "[1.40173635e-11] [[ 9.99994436]\n",
            " [10.00000265]]\n",
            "[8.20668823e-17] [[ 9.99999987]\n",
            " [10.00000001]]\n",
            "[5.40616652e-22] [[10.]\n",
            " [10.]]\n",
            "[1.03146353e-22] [[10.]\n",
            " [10.]]\n",
            "[1.03146353e-22] [[10.]\n",
            " [10.]]\n",
            "[1.03146353e-22] [[10.]\n",
            " [10.]]\n",
            "[1.03146353e-22] [[10.]\n",
            " [10.]]\n",
            "[1.03146353e-22] [[10.]\n",
            " [10.]]\n"
          ],
          "name": "stdout"
        }
      ]
    },
    {
      "cell_type": "code",
      "metadata": {
        "id": "OW5uUQ1l5Bvz",
        "colab_type": "code",
        "colab": {
          "base_uri": "https://localhost:8080/",
          "height": 67
        },
        "outputId": "30281266-5e61-4bcc-8abd-64b582d37e2d"
      },
      "source": [
        "(y-pred)"
      ],
      "execution_count": 67,
      "outputs": [
        {
          "output_type": "execute_result",
          "data": {
            "text/plain": [
              "array([[ 7.38964445e-12],\n",
              "       [ 2.27373675e-13],\n",
              "       [-6.96331881e-12]])"
            ]
          },
          "metadata": {
            "tags": []
          },
          "execution_count": 67
        }
      ]
    },
    {
      "cell_type": "code",
      "metadata": {
        "id": "eOiOmslNg9oA",
        "colab_type": "code",
        "outputId": "cdd287d8-f7ae-44bb-f1ed-0008c7a49d1a",
        "colab": {
          "base_uri": "https://localhost:8080/",
          "height": 67
        }
      },
      "source": [
        "pred=np.matmul(X,Theta)\n",
        "pred"
      ],
      "execution_count": 68,
      "outputs": [
        {
          "output_type": "execute_result",
          "data": {
            "text/plain": [
              "array([[210.],\n",
              "       [220.],\n",
              "       [230.]])"
            ]
          },
          "metadata": {
            "tags": []
          },
          "execution_count": 68
        }
      ]
    },
    {
      "cell_type": "code",
      "metadata": {
        "id": "8yxQtYC82Sgp",
        "colab_type": "code",
        "colab": {
          "base_uri": "https://localhost:8080/",
          "height": 34
        },
        "outputId": "6f590bdf-6e16-4cc4-c460-9203e4d26b84"
      },
      "source": [
        "Theta[0]=Theta[0]-alpha*sum((-2/len(X))*(y-pred))\n",
        "Theta[0]"
      ],
      "execution_count": 8,
      "outputs": [
        {
          "output_type": "execute_result",
          "data": {
            "text/plain": [
              "array([0])"
            ]
          },
          "metadata": {
            "tags": []
          },
          "execution_count": 8
        }
      ]
    },
    {
      "cell_type": "code",
      "metadata": {
        "id": "yMptj7zWj4cJ",
        "colab_type": "code",
        "outputId": "88f6f2fb-67f9-4b05-a18a-7455952e015e",
        "colab": {
          "base_uri": "https://localhost:8080/",
          "height": 34
        }
      },
      "source": [
        "Theta[1]=Theta[1]-alpha*sum((-2/len(X))*(y-pred)*X[:,1].reshape(-1,1))\n",
        "Theta[1]"
      ],
      "execution_count": 9,
      "outputs": [
        {
          "output_type": "execute_result",
          "data": {
            "text/plain": [
              "array([10])"
            ]
          },
          "metadata": {
            "tags": []
          },
          "execution_count": 9
        }
      ]
    },
    {
      "cell_type": "code",
      "metadata": {
        "id": "6tOrkXOPlYi9",
        "colab_type": "code",
        "colab": {}
      },
      "source": [
        "Theta[0]=Theta[0]-alpha*sum((-2/len(X))*(y-pred))"
      ],
      "execution_count": 0,
      "outputs": []
    },
    {
      "cell_type": "code",
      "metadata": {
        "id": "3zpiWszIlqmO",
        "colab_type": "code",
        "colab": {}
      },
      "source": [
        "Theta[0]=[0.44]"
      ],
      "execution_count": 0,
      "outputs": []
    },
    {
      "cell_type": "code",
      "metadata": {
        "id": "PvrlcRiP4Cy6",
        "colab_type": "code",
        "colab": {
          "base_uri": "https://localhost:8080/",
          "height": 34
        },
        "outputId": "773ee807-ffa2-4554-9606-1047a3c55040"
      },
      "source": [
        "Theta[0]"
      ],
      "execution_count": 12,
      "outputs": [
        {
          "output_type": "execute_result",
          "data": {
            "text/plain": [
              "array([0])"
            ]
          },
          "metadata": {
            "tags": []
          },
          "execution_count": 12
        }
      ]
    }
  ]
}